{
 "cells": [
  {
   "cell_type": "code",
   "execution_count": 1,
   "id": "ac5973ac",
   "metadata": {},
   "outputs": [
    {
     "name": "stderr",
     "output_type": "stream",
     "text": [
      "1170it [00:01, 894.96it/s]\n"
     ]
    }
   ],
   "source": [
    "# initial creation\n",
    "import pandas as pd\n",
    "import tqdm\n",
    "import py2neo\n",
    "\n",
    "# pandas to read_csv , header = True\n",
    "characters = pd.read_csv(\"C:/Users/sacha/Downloads/characters.csv\")\n",
    "graph = py2neo.Graph(\"bolt://localhost:7687\", auth=(\"neo4j\", \"password_tuts\"), name=\"mcu\")\n",
    "\n",
    "graph.delete_all()\n",
    "\n",
    "# CONSTRAINT if condition (here n.id_ is unique) not respected => error\n",
    "# If constraint already exists pass (IF NOT EXISTS probably works too)\n",
    "try:\n",
    "    graph.run(\"CREATE CONSTRAINT ON (n:Superhero) ASSERT n.id_ IS UNIQUE\")\n",
    "except:\n",
    "    print(\"Constraint already exists\")\n",
    "\n",
    "# Init the list that will contains dicts for each node\n",
    "transaction_list = []\n",
    "\n",
    "# iterrows = line by line iterators of the df row[0] = id row[1] = the variables in columns\n",
    "for row in tqdm.tqdm(characters.iterrows()):\n",
    "    id_ = row[1][\"characterID\"]\n",
    "    name = row[1][\"name\"]\n",
    "    transaction_list.append({\"id_\":id_,\"name\":name})\n",
    "    # Commit when list = 1000, vary it depending of the case\n",
    "    if len(transaction_list) == 1000:\n",
    "        # UNWIND = split the list given to it (here $json because json=transaction_list)\n",
    "        # For each dict do the following query CREATE (n:Superhero) SET n = data\n",
    "        transaction = \"UNWIND $json as data CREATE (n:Superhero) SET n = data\"\n",
    "        graph.run(transaction, json=transaction_list)\n",
    "        transaction_list = []\n",
    "\n",
    "# Some observation left (e.g 7700 node, will commit every 100. so 700 left)\n",
    "graph.run(transaction, json=transaction_list)\n",
    "\n",
    "pass"
   ]
  },
  {
   "cell_type": "code",
   "execution_count": 2,
   "id": "b97b330f",
   "metadata": {},
   "outputs": [
    {
     "name": "stderr",
     "output_type": "stream",
     "text": [
      "611it [00:00, 4027.29it/s]\n"
     ]
    }
   ],
   "source": [
    "import pandas as pd\n",
    "import py2neo\n",
    "\n",
    "stats = pd.read_csv(\"C:/Users/sacha/Downloads/characters_stats.csv\")\n",
    "graph = py2neo.Graph(\"bolt://localhost:7687\", auth=(\"neo4j\", \"password_tuts\"), name=\"mcu\")\n",
    "\n",
    "\n",
    "# OPTIONAL MATCH =>  search for the pattern described in it, while using nulls for missing parts of the pattern.\n",
    "transaction = \"\"\"UNWIND $json as data\n",
    "OPTIONAL MATCH (a:Superhero {name:data.Name})\n",
    "SET a += {Alignement:data.Alignement,Intelligence:data.Intelligence,Strength:data.Strength,Speed:data.Speed,Durability:data.Durability,\n",
    "         Power:data.Power,Combat:data.Combat,Total:data.Total} \n",
    "\"\"\"\n",
    "\n",
    "transaction_list = []\n",
    "\n",
    "iteration = 0\n",
    "for row in tqdm.tqdm(stats.iterrows()):\n",
    "    transaction_list.append(dict(row[1]))\n",
    "    iteration += 1\n",
    "    if iteration % 1000 == 0:\n",
    "        graph.run(transaction, json=transaction_list)\n",
    "        transaction_list = []\n",
    "        \n",
    "graph.run(transaction, json=transaction_list)\n",
    "\n",
    "pass"
   ]
  },
  {
   "cell_type": "code",
   "execution_count": 3,
   "id": "e798ced0",
   "metadata": {},
   "outputs": [
    {
     "name": "stderr",
     "output_type": "stream",
     "text": [
      "100%|██████████| 22250/22250 [00:33<00:00, 673.88it/s] \n"
     ]
    }
   ],
   "source": [
    "# edges\n",
    "import pandas as pd\n",
    "import tqdm\n",
    "import py2neo\n",
    "import itertools\n",
    "\n",
    "graph = py2neo.Graph(\"bolt://localhost:7687\", auth=(\"neo4j\", \"password_tuts\"), name=\"mcu\")\n",
    "\n",
    "characters2comics = pd.read_csv(\"C:/Users/sacha/Downloads/charactersToComics.csv\")\n",
    "characters2comics = characters2comics.drop_duplicates()\n",
    "transaction_list = []\n",
    "\n",
    "# MERGE = if pattern does not exists ON CREATE\n",
    "# If pattern exists do ON MATCH\n",
    "\n",
    "\n",
    "\n",
    "transaction = \"\"\"UNWIND $json as data\n",
    "MATCH (a:Superhero),(b:Superhero)\n",
    "WHERE a.id_ = data.id_1 AND b.id_ = data.id_2\n",
    "MERGE (a)-[r:RELATION]->(b)\n",
    "ON CREATE\n",
    "    SET r.n_collab = 1\n",
    "ON MATCH\n",
    "    SET r.n_collab = r.n_collab + 1\n",
    "\"\"\"\n",
    "\n",
    "it = 0   \n",
    "for comic in tqdm.tqdm(characters2comics.groupby([\"comicID\"])):\n",
    "    related_ids = comic[1][\"characterID\"]\n",
    "    for combi in list(itertools.combinations(related_ids, 2)):\n",
    "        sh1 = combi[0]\n",
    "        sh2 = combi[1]\n",
    "        transaction_list.append({\"id_1\":sh1,\"id_2\":sh2})\n",
    "        it +=1\n",
    "        if it % 1000 == 0:\n",
    "            graph.run(transaction, json=transaction_list)\n",
    "            transaction_list = []\n",
    "\n",
    "graph.run(transaction, json=transaction_list)\n",
    "pass"
   ]
  },
  {
   "cell_type": "code",
   "execution_count": 4,
   "id": "b3c12b89",
   "metadata": {},
   "outputs": [
    {
     "name": "stdout",
     "output_type": "stream",
     "text": [
      "0    {'n_collab': 68}\n",
      "Name: r, dtype: object 0    {'name': 'Pepper Potts', 'id_': 1009494}\n",
      "Name: a, dtype: object 0    {'Speed': 58, 'Intelligence': 100, 'id_': 1009...\n",
      "Name: b, dtype: object\n"
     ]
    }
   ],
   "source": [
    "# Let's see if everything works well\n",
    "import py2neo\n",
    "\n",
    "graph = py2neo.Graph(\"bolt://localhost:7687\", auth=(\"neo4j\", \"password_tuts\"), name=\"mcu\")\n",
    "\n",
    "query = \"\"\"MATCH (a:Superhero{name:'Pepper Potts'})-[r:RELATION]-(b:Superhero{name:'Iron Man'}) RETURN r,a,b\"\"\"\n",
    "data = graph.run(query).to_data_frame()\n",
    "print(data[\"r\"],data[\"a\"],data[\"b\"])"
   ]
  },
  {
   "cell_type": "markdown",
   "id": "1e5bb855",
   "metadata": {},
   "source": [
    "                              ### Exercises\n",
    "                              CRUD operations:"
   ]
  },
  {
   "cell_type": "markdown",
   "id": "b5662d67",
   "metadata": {},
   "source": [
    "1) You will continue to work on the MCU network for a while. Who are the 10 fastest in the MCU ?\n",
    "    Are they related to each other ?"
   ]
  },
  {
   "cell_type": "code",
   "execution_count": 6,
   "id": "d463995b",
   "metadata": {},
   "outputs": [
    {
     "data": {
      "text/plain": [
       "[Node('Superhero', Combat=56, Durability=84, Intelligence=75, Power=100, Speed=100, Strength=67, Total=482, id_=1009184, name='Black Bolt'),\n",
       " Node('Superhero', Combat=85, Durability=110, Intelligence=88, Power=100, Speed=100, Strength=85, Total=568, id_=1010764, name='Stardust'),\n",
       " Node('Superhero', Combat=56, Durability=60, Intelligence=63, Power=57, Speed=100, Strength=28, Total=364, id_=1009524, name='Quicksilver'),\n",
       " Node('Superhero', Combat=25, Durability=100, Intelligence=38, Power=100, Speed=100, Strength=60, Total=423, id_=1009477, name='Nova'),\n",
       " Node('Superhero', Combat=85, Durability=100, Intelligence=69, Power=100, Speed=92, Strength=100, Total=546, id_=1009664, name='Thor'),\n",
       " Node('Superhero', Combat=32, Durability=101, Intelligence=63, Power=100, Speed=84, Strength=100, Total=480, id_=1009592, name='Silver Surfer'),\n",
       " Node('Superhero', Combat=70, Durability=100, Intelligence=100, Power=100, Speed=83, Strength=100, Total=553, id_=1009312, name='Galactus'),\n",
       " Node('Superhero', Combat=80, Durability=100, Intelligence=88, Power=100, Speed=83, Strength=95, Total=546, id_=1009280, name='Dormammu'),\n",
       " Node('Superhero', Combat=28, Durability=99, Intelligence=88, Power=71, Speed=83, Strength=80, Total=449, id_=1011060, name='Ego'),\n",
       " Node('Superhero', Combat=70, Durability=56, Intelligence=50, Power=70, Speed=83, Strength=18, Total=347, id_=1009476, name='Northstar')]"
      ]
     },
     "execution_count": 6,
     "metadata": {},
     "output_type": "execute_result"
    }
   ],
   "source": [
    "query = \"\"\"MATCH (a:Superhero)\n",
    "WHERE exists(a.Speed)\n",
    "RETURN a\n",
    "ORDER BY a.Speed DESC\n",
    "LIMIT 10\"\"\"\n",
    "data = graph.run(query).to_data_frame()\n",
    "list(data[\"a\"])"
   ]
  },
  {
   "cell_type": "markdown",
   "id": "e2063a88",
   "metadata": {},
   "source": [
    "2) How many have collaborated atleast more than 10 times with another superhero?"
   ]
  },
  {
   "cell_type": "code",
   "execution_count": 11,
   "id": "163faa45",
   "metadata": {},
   "outputs": [
    {
     "name": "stdout",
     "output_type": "stream",
     "text": [
      "Number of superheroes with collaborations more than 10 times: 528\n"
     ]
    }
   ],
   "source": [
    "query = \"\"\"\n",
    "MATCH (a:Superhero)-[r:RELATION]-(b:Superhero)\n",
    "WHERE r.n_collab > 10\n",
    "RETURN COUNT(DISTINCT a) AS Superherocolab\n",
    "LIMIT 10\n",
    "\"\"\"\n",
    "\n",
    "data = graph.run(query).to_data_frame()\n",
    "superheroes_with_collab = list(data[\"Superherocolab\"])\n",
    "print(\"Number of superheroes with collaborations more than 10 times:\", superheroes_with_collab[0])\n"
   ]
  },
  {
   "cell_type": "markdown",
   "id": "76cf19a1",
   "metadata": {},
   "source": [
    "3) Did the weakest of the MCU collaborated with the strongest ?"
   ]
  },
  {
   "cell_type": "code",
   "execution_count": 19,
   "id": "88a884da",
   "metadata": {},
   "outputs": [
    {
     "name": "stdout",
     "output_type": "stream",
     "text": [
      "             Weakest   Strongest  CollabCount\n",
      "0   Lady Deathstrike        Hulk            1\n",
      "1   Lady Deathstrike        Thor            1\n",
      "2   Lady Deathstrike  Apocalypse            1\n",
      "3          Omega Red  Apocalypse            1\n",
      "4          Omega Red  Juggernaut            1\n",
      "..               ...         ...          ...\n",
      "91           Stacy X        Thor            1\n",
      "92           Stacy X  Wonder Man            1\n",
      "93           Stacy X    Hercules            1\n",
      "94           Stacy X  Juggernaut            1\n",
      "95              Beak  Juggernaut            1\n",
      "\n",
      "[96 rows x 3 columns]\n"
     ]
    }
   ],
   "source": [
    "query = \"\"\"\n",
    "MATCH (a:Superhero), (b:Superhero)\n",
    "WITH MIN(a.Strength) AS minStrength, MAX(b.Strength) AS maxStrength\n",
    "MATCH (a:Superhero {Strength: minStrength}), (b:Superhero {Strength: maxStrength})\n",
    "OPTIONAL MATCH (a)-[r:RELATION]-(b)\n",
    "WITH a.name AS Weakest, b.name AS Strongest, COUNT(r) AS CollabCount\n",
    "WHERE CollabCount = 1\n",
    "RETURN Weakest, Strongest, CollabCount\n",
    "\"\"\"\n",
    "\n",
    "data = graph.run(query).to_data_frame()\n",
    "print(data)\n"
   ]
  },
  {
   "cell_type": "markdown",
   "id": "1c392abd",
   "metadata": {},
   "source": [
    "4) Give a stats that interests you ! --> the 10 most intelligent superheroes"
   ]
  },
  {
   "cell_type": "code",
   "execution_count": 20,
   "id": "c5f2923b",
   "metadata": {},
   "outputs": [
    {
     "data": {
      "text/plain": [
       "[Node('Superhero', Combat=70, Durability=95, Intelligence=100, Power=76, Speed=54, Strength=72, Total=467, id_=1009697, name='Vision'),\n",
       " Node('Superhero', Combat=70, Durability=70, Intelligence=100, Power=71, Speed=58, Strength=48, Total=417, id_=1009384, name='Kang'),\n",
       " Node('Superhero', Combat=32, Durability=14, Intelligence=100, Power=90, Speed=12, Strength=8, Total=256, id_=1009504, name='Professor X'),\n",
       " Node('Superhero', Combat=84, Durability=100, Intelligence=100, Power=93, Speed=20, Strength=32, Total=429, id_=1009281, name='Doctor Doom'),\n",
       " Node('Superhero', Combat=42, Durability=14, Intelligence=100, Power=58, Speed=12, Strength=10, Total=236, id_=1009398, name='Leader'),\n",
       " Node('Superhero', Combat=70, Durability=100, Intelligence=100, Power=100, Speed=83, Strength=100, Total=553, id_=1009312, name='Galactus'),\n",
       " Node('Superhero', Combat=70, Durability=100, Intelligence=100, Power=100, Speed=67, Strength=80, Total=517, id_=1009327, name='Jean Grey'),\n",
       " Node('Superhero', Combat=60, Durability=84, Intelligence=100, Power=100, Speed=12, Strength=10, Total=366, id_=1009282, name='Doctor Strange'),\n",
       " Node('Superhero', Combat=64, Durability=85, Intelligence=100, Power=100, Speed=58, Strength=85, Total=492, id_=1009368, name='Iron Man'),\n",
       " Node('Superhero', Combat=60, Durability=100, Intelligence=100, Power=100, Speed=33, Strength=100, Total=493, id_=1009156, name='Apocalypse')]"
      ]
     },
     "execution_count": 20,
     "metadata": {},
     "output_type": "execute_result"
    }
   ],
   "source": [
    "query = \"\"\"MATCH (a:Superhero)\n",
    "WHERE exists(a.Intelligence)\n",
    "RETURN a\n",
    "ORDER BY a.Intelligence DESC\n",
    "LIMIT 10\"\"\"\n",
    "data = graph.run(query).to_data_frame()\n",
    "list(data[\"a\"])\n",
    "\n"
   ]
  },
  {
   "cell_type": "markdown",
   "id": "b2fb6856",
   "metadata": {},
   "source": [
    "5) Create a new db called \"master\". Create a graph from the M1 class with name and random age between 20 and 30, \n",
    "    Group of 3 that collab (undirected relation)."
   ]
  },
  {
   "cell_type": "code",
   "execution_count": null,
   "id": "e28b6c4e",
   "metadata": {},
   "outputs": [],
   "source": [
    "with neo4j Create a new db called \"master\". Create a graph from the M1 class with name and \n",
    "random age between 20 and 30, Group of 3 that collab (undirected relation).\n",
    "il faut que je fasse 15 noms et prénoms qui sont partie du master M1 à chacun d'entre eux un âge aléatoire entre 20 et 30 et group\n",
    "of 3 that collab (undirected relation meaning symetrical relation)\n",
    "\n"
   ]
  },
  {
   "cell_type": "code",
   "execution_count": 5,
   "id": "b2554c8b",
   "metadata": {},
   "outputs": [],
   "source": [
    "import tqdm\n",
    "import py2neo\n",
    "import numpy as np\n",
    "import random\n",
    "from py2neo import Node,Relationship\n",
    "graph = py2neo.Graph(\"bolt://localhost:7687\", auth=(\"neo4j\", \"password_tuts\"), name=\"master\")\n",
    "\n",
    "# Noms des personnes\n",
    "person_names = [\n",
    "    \"Sacha\", \"Oumou\", \"Georgiana\", \"Valentin\", \"Benie\", \n",
    "    \"Huyiue\", \"Romain\", \"Adrien\", \"Werner\", \"Paul\", \n",
    "    \"Lath\", \"Carl\", \"Celestin\", \"Nathan\", \"Julien\"\n",
    "]\n",
    "\n",
    "# Fonction pour créer un nœud de la classe M1 avec un nom spécifique et un âge aléatoire\n",
    "def create_m1_node(name):\n",
    "    age = random.randint(20, 30)\n",
    "    return Node(\"M1\", name=name, age=age)\n",
    "\n",
    "# Création des nœuds de la classe M1 avec les noms spécifiques\n",
    "m1_nodes = [create_m1_node(name) for name in person_names]\n",
    "\n",
    "# Création des relations de collaboration entre les membres du groupe de 3 collaborateurs\n",
    "collaborators = [Node(\"Collaborator\", name=f\"Collaborator{i}\") for i in range(1, 4)]\n",
    "for i in range(len(collaborators)):\n",
    "    for j in range(i + 1, len(collaborators)):\n",
    "        rel = Relationship(collaborators[i], \"COLLABORATE_WITH\", collaborators[j])\n",
    "        graph.create(rel)\n",
    "\n",
    "# Ajout des nœuds M1 et de leurs relations avec les collaborateurs au graphe\n",
    "for node in m1_nodes:\n",
    "    graph.create(node)\n",
    "    for collaborator in collaborators:\n",
    "        rel = Relationship(node, \"COLLABORATE_WITH\", collaborator)\n",
    "        graph.create(rel)"
   ]
  },
  {
   "cell_type": "code",
   "execution_count": 10,
   "id": "8ae91a55",
   "metadata": {},
   "outputs": [],
   "source": [
    "graph = py2neo.Graph(\"bolt://localhost:7687\", auth=(\"neo4j\", \"password_tuts\"), name=\"master\")\n",
    "\n",
    "graph.delete_all()"
   ]
  },
  {
   "cell_type": "code",
   "execution_count": 11,
   "id": "85573542",
   "metadata": {},
   "outputs": [],
   "source": [
    "import py2neo\n",
    "import numpy as np\n",
    "import random\n",
    "from py2neo import Node, Relationship\n",
    "\n",
    "# Connexion à la base de données Neo4j\n",
    "graph = py2neo.Graph(\"bolt://localhost:7687\", auth=(\"neo4j\", \"password_tuts\"), name=\"master\")\n",
    "graph.delete_all()\n",
    "\n",
    "# Noms des personnes dans la classe M1\n",
    "person_names = [\n",
    "    \"Sacha\", \"Oumou\", \"Georgiana\", \"Valentin\", \"Benie\", \n",
    "    \"Huyiue\", \"Romain\", \"Adrien\", \"Werner\", \"Paul\", \n",
    "    \"Lath\", \"Carl\", \"Celestin\", \"Nathan\", \"Julien\"\n",
    "]\n",
    "\n",
    "# Création des nœuds pour les personnes de la classe M1 avec leurs noms et des âges aléatoires\n",
    "m1_nodes = []\n",
    "for name in person_names:\n",
    "    age = random.randint(20, 30)\n",
    "    m1_node = Node(\"M1\", name=name, age=age)\n",
    "    graph.create(m1_node)\n",
    "    m1_nodes.append(m1_node)\n",
    "\n",
    "# Création des collaborations pour chaque personne avec trois autres personnes\n",
    "for i, node in enumerate(m1_nodes):\n",
    "    # Choix de trois autres personnes aléatoires pour la collaboration\n",
    "    collaborators = random.sample(m1_nodes[:i] + m1_nodes[i+1:], 3)\n",
    "    for collaborator in collaborators:\n",
    "        # Création de la relation de collaboration entre les deux nœuds\n",
    "        rel = Relationship(node, \"COLLABORATE_WITH\", collaborator)\n",
    "        graph.create(rel)\n"
   ]
  },
  {
   "cell_type": "markdown",
   "id": "5adbd45d",
   "metadata": {},
   "source": [
    "6) Get the age for people YOU collaborate with."
   ]
  },
  {
   "cell_type": "code",
   "execution_count": 17,
   "id": "ea0b17d7",
   "metadata": {},
   "outputs": [
    {
     "name": "stdout",
     "output_type": "stream",
     "text": [
      "Nathan: 30 years old\n",
      "Paul: 29 years old\n",
      "Valentin: 24 years old\n"
     ]
    }
   ],
   "source": [
    "# Cypher query to get the ages of people Sacha collaborates with\n",
    "query = \"\"\"\n",
    "MATCH (sacha:M1 {name: 'Sacha'})-[:COLLABORATE_WITH]->(collaborator)\n",
    "RETURN collaborator.name AS collaborator_name, collaborator.age AS collaborator_age\n",
    "\"\"\"\n",
    "\n",
    "result = graph.run(query)\n",
    "\n",
    "# Print the ages of collaborators\n",
    "for record in result:\n",
    "    collaborator_name = record[\"collaborator_name\"]\n",
    "    collaborator_age = record[\"collaborator_age\"]\n",
    "    print(f\"{collaborator_name}: {collaborator_age} years old\")\n",
    "    #print(record[\"collaborator.age\"])"
   ]
  },
  {
   "cell_type": "markdown",
   "id": "af0a702c",
   "metadata": {},
   "source": [
    "7) Get nodes with age > 25."
   ]
  },
  {
   "cell_type": "code",
   "execution_count": 21,
   "id": "f2463b94",
   "metadata": {},
   "outputs": [
    {
     "name": "stdout",
     "output_type": "stream",
     "text": [
      "Oumou: 28 years old\n",
      "Benie: 27 years old\n",
      "Adrien: 29 years old\n",
      "Paul: 29 years old\n",
      "Lath: 29 years old\n",
      "Celestin: 30 years old\n",
      "Nathan: 30 years old\n",
      "Julien: 29 years old\n"
     ]
    }
   ],
   "source": [
    "query=\"\"\"\n",
    "MATCH (n:M1)\n",
    "WHERE n.age > 25\n",
    "RETURN n.name AS name, n.age AS age\n",
    "\"\"\"\n",
    "result = graph. run(query)\n",
    "# Retrieve and print the nodes with age > 25\n",
    "for record in result:\n",
    "    name = record[\"name\"]\n",
    "    age = record[\"age\"]\n",
    "    print(f\"{name}: {age} years old\")"
   ]
  },
  {
   "cell_type": "markdown",
   "id": "bccd04bb",
   "metadata": {},
   "source": [
    "##                              Real world problem"
   ]
  },
  {
   "cell_type": "markdown",
   "id": "16a8cf61",
   "metadata": {},
   "source": [
    "8) Using the downloaded data in TODO 11 of chapter II, create a collaboration network between authors for papers after 2021 (same author if same name). Insert it in neo4j in a db called \"arxiv\"."
   ]
  },
  {
   "cell_type": "code",
   "execution_count": 2,
   "id": "d1acb388",
   "metadata": {},
   "outputs": [],
   "source": [
    "import requests\n",
    "import feedparser\n",
    "import tqdm\n",
    "import time\n",
    "import pymongo\n",
    "import csv\n",
    "from pymongo import MongoClient\n",
    "\n",
    "client = pymongo.MongoClient('localhost',27017)\n",
    "mydb = client[\"tutorial\"]\n",
    "collection = mydb[\"arxiv_api\"]\n",
    "arxivapi = collection.find()\n",
    "\n",
    "with open('arxivapi.csv', 'w', newline='', encoding='utf-8') as csvfile:\n",
    "    fieldnames = ['id', 'title', 'authors', 'published', 'published_parsed']\n",
    "    writer = csv.DictWriter(csvfile, fieldnames=fieldnames)\n",
    "    writer.writeheader()\n",
    "    for document in arxivapi:\n",
    "        writer.writerow({'id': document['id'], 'title': document['title'], 'authors': document['authors'], 'published': document['published'], 'published_parsed': document['published_parsed']})\n",
    "        "
   ]
  },
  {
   "cell_type": "code",
   "execution_count": 8,
   "id": "0311d685",
   "metadata": {},
   "outputs": [
    {
     "ename": "KeyboardInterrupt",
     "evalue": "",
     "output_type": "error",
     "traceback": [
      "\u001b[1;31m---------------------------------------------------------------------------\u001b[0m",
      "\u001b[1;31mKeyboardInterrupt\u001b[0m                         Traceback (most recent call last)",
      "Cell \u001b[1;32mIn[8], line 20\u001b[0m\n\u001b[0;32m     18\u001b[0m         \u001b[38;5;28;01mfor\u001b[39;00m author_name \u001b[38;5;129;01min\u001b[39;00m author_names:\n\u001b[0;32m     19\u001b[0m             author_node \u001b[38;5;241m=\u001b[39m Node(\u001b[38;5;124m\"\u001b[39m\u001b[38;5;124mAuthor\u001b[39m\u001b[38;5;124m\"\u001b[39m, name\u001b[38;5;241m=\u001b[39mauthor_name)\n\u001b[1;32m---> 20\u001b[0m             graph\u001b[38;5;241m.\u001b[39mmerge(author_node, \u001b[38;5;124m\"\u001b[39m\u001b[38;5;124mAuthor\u001b[39m\u001b[38;5;124m\"\u001b[39m, \u001b[38;5;124m\"\u001b[39m\u001b[38;5;124mname\u001b[39m\u001b[38;5;124m\"\u001b[39m)  \u001b[38;5;66;03m# Spécifiez l'étiquette principale et la clé primaire\u001b[39;00m\n\u001b[0;32m     22\u001b[0m \u001b[38;5;66;03m# Création des liens de collaboration entre les auteurs\u001b[39;00m\n\u001b[0;32m     23\u001b[0m \u001b[38;5;28;01mwith\u001b[39;00m \u001b[38;5;28mopen\u001b[39m(csv_file, newline\u001b[38;5;241m=\u001b[39m\u001b[38;5;124m'\u001b[39m\u001b[38;5;124m'\u001b[39m, encoding\u001b[38;5;241m=\u001b[39m\u001b[38;5;124m'\u001b[39m\u001b[38;5;124mutf-8\u001b[39m\u001b[38;5;124m'\u001b[39m) \u001b[38;5;28;01mas\u001b[39;00m csvfile:\n",
      "File \u001b[1;32m~\\anaconda3\\Lib\\site-packages\\py2neo\\database.py:678\u001b[0m, in \u001b[0;36mGraph.merge\u001b[1;34m(self, subgraph, label, *property_keys)\u001b[0m\n\u001b[0;32m    646\u001b[0m \u001b[38;5;28;01mdef\u001b[39;00m \u001b[38;5;21mmerge\u001b[39m(\u001b[38;5;28mself\u001b[39m, subgraph, label\u001b[38;5;241m=\u001b[39m\u001b[38;5;28;01mNone\u001b[39;00m, \u001b[38;5;241m*\u001b[39mproperty_keys):\n\u001b[0;32m    647\u001b[0m \u001b[38;5;250m    \u001b[39m\u001b[38;5;124;03m\"\"\" Run a :meth:`~py2neo.Transaction.merge` operation within an\u001b[39;00m\n\u001b[0;32m    648\u001b[0m \u001b[38;5;124;03m    auto-commit :class:`~py2neo.Transaction`.\u001b[39;00m\n\u001b[0;32m    649\u001b[0m \n\u001b[1;32m   (...)\u001b[0m\n\u001b[0;32m    676\u001b[0m \u001b[38;5;124;03m    :param property_keys: property keys on which to match any existing nodes\u001b[39;00m\n\u001b[0;32m    677\u001b[0m \u001b[38;5;124;03m    \"\"\"\u001b[39;00m\n\u001b[1;32m--> 678\u001b[0m     \u001b[38;5;28mself\u001b[39m\u001b[38;5;241m.\u001b[39mupdate(\u001b[38;5;28;01mlambda\u001b[39;00m tx: tx\u001b[38;5;241m.\u001b[39mmerge(subgraph, label, \u001b[38;5;241m*\u001b[39mproperty_keys))\n",
      "File \u001b[1;32m~\\anaconda3\\Lib\\site-packages\\py2neo\\database.py:445\u001b[0m, in \u001b[0;36mGraph.update\u001b[1;34m(self, cypher, parameters, timeout)\u001b[0m\n\u001b[0;32m    443\u001b[0m \u001b[38;5;28;01mif\u001b[39;00m \u001b[38;5;28mcallable\u001b[39m(cypher):\n\u001b[0;32m    444\u001b[0m     \u001b[38;5;28;01mif\u001b[39;00m parameters \u001b[38;5;129;01mis\u001b[39;00m \u001b[38;5;28;01mNone\u001b[39;00m:\n\u001b[1;32m--> 445\u001b[0m         \u001b[38;5;28mself\u001b[39m\u001b[38;5;241m.\u001b[39m_update(cypher, timeout\u001b[38;5;241m=\u001b[39mtimeout)\n\u001b[0;32m    446\u001b[0m     \u001b[38;5;28;01melif\u001b[39;00m (\u001b[38;5;28misinstance\u001b[39m(parameters, \u001b[38;5;28mtuple\u001b[39m) \u001b[38;5;129;01mand\u001b[39;00m \u001b[38;5;28mlen\u001b[39m(parameters) \u001b[38;5;241m==\u001b[39m \u001b[38;5;241m2\u001b[39m \u001b[38;5;129;01mand\u001b[39;00m\n\u001b[0;32m    447\u001b[0m             \u001b[38;5;28misinstance\u001b[39m(parameters[\u001b[38;5;241m0\u001b[39m], Sequence) \u001b[38;5;129;01mand\u001b[39;00m \u001b[38;5;28misinstance\u001b[39m(parameters[\u001b[38;5;241m1\u001b[39m], Mapping)):\n\u001b[0;32m    448\u001b[0m         \u001b[38;5;28mself\u001b[39m\u001b[38;5;241m.\u001b[39m_update(\u001b[38;5;28;01mlambda\u001b[39;00m tx: cypher(tx, \u001b[38;5;241m*\u001b[39mparameters[\u001b[38;5;241m0\u001b[39m], \u001b[38;5;241m*\u001b[39m\u001b[38;5;241m*\u001b[39mparameters[\u001b[38;5;241m1\u001b[39m]),\n\u001b[0;32m    449\u001b[0m                      timeout\u001b[38;5;241m=\u001b[39mtimeout)\n",
      "File \u001b[1;32m~\\anaconda3\\Lib\\site-packages\\py2neo\\database.py:470\u001b[0m, in \u001b[0;36mGraph._update\u001b[1;34m(self, f, timeout)\u001b[0m\n\u001b[0;32m    466\u001b[0m \u001b[38;5;28;01mtry\u001b[39;00m:\n\u001b[0;32m    467\u001b[0m     tx \u001b[38;5;241m=\u001b[39m \u001b[38;5;28mself\u001b[39m\u001b[38;5;241m.\u001b[39mbegin(\n\u001b[0;32m    468\u001b[0m                     \u001b[38;5;66;03m# after=after, metadata=metadata, timeout=timeout\u001b[39;00m\n\u001b[0;32m    469\u001b[0m                     )\n\u001b[1;32m--> 470\u001b[0m     value \u001b[38;5;241m=\u001b[39m f(tx)\n\u001b[0;32m    471\u001b[0m     \u001b[38;5;28;01mif\u001b[39;00m isgenerator(value):\n\u001b[0;32m    472\u001b[0m         _ \u001b[38;5;241m=\u001b[39m \u001b[38;5;28mlist\u001b[39m(value)     \u001b[38;5;66;03m# exhaust the generator\u001b[39;00m\n",
      "File \u001b[1;32m~\\anaconda3\\Lib\\site-packages\\py2neo\\database.py:678\u001b[0m, in \u001b[0;36mGraph.merge.<locals>.<lambda>\u001b[1;34m(tx)\u001b[0m\n\u001b[0;32m    646\u001b[0m \u001b[38;5;28;01mdef\u001b[39;00m \u001b[38;5;21mmerge\u001b[39m(\u001b[38;5;28mself\u001b[39m, subgraph, label\u001b[38;5;241m=\u001b[39m\u001b[38;5;28;01mNone\u001b[39;00m, \u001b[38;5;241m*\u001b[39mproperty_keys):\n\u001b[0;32m    647\u001b[0m \u001b[38;5;250m    \u001b[39m\u001b[38;5;124;03m\"\"\" Run a :meth:`~py2neo.Transaction.merge` operation within an\u001b[39;00m\n\u001b[0;32m    648\u001b[0m \u001b[38;5;124;03m    auto-commit :class:`~py2neo.Transaction`.\u001b[39;00m\n\u001b[0;32m    649\u001b[0m \n\u001b[1;32m   (...)\u001b[0m\n\u001b[0;32m    676\u001b[0m \u001b[38;5;124;03m    :param property_keys: property keys on which to match any existing nodes\u001b[39;00m\n\u001b[0;32m    677\u001b[0m \u001b[38;5;124;03m    \"\"\"\u001b[39;00m\n\u001b[1;32m--> 678\u001b[0m     \u001b[38;5;28mself\u001b[39m\u001b[38;5;241m.\u001b[39mupdate(\u001b[38;5;28;01mlambda\u001b[39;00m tx: tx\u001b[38;5;241m.\u001b[39mmerge(subgraph, label, \u001b[38;5;241m*\u001b[39mproperty_keys))\n",
      "File \u001b[1;32m~\\anaconda3\\Lib\\site-packages\\py2neo\\database.py:1132\u001b[0m, in \u001b[0;36mTransaction.merge\u001b[1;34m(self, subgraph, primary_label, primary_key)\u001b[0m\n\u001b[0;32m   1130\u001b[0m     \u001b[38;5;28;01mraise\u001b[39;00m \u001b[38;5;167;01mTypeError\u001b[39;00m(\u001b[38;5;124m\"\u001b[39m\u001b[38;5;124mNo method defined to merge object \u001b[39m\u001b[38;5;132;01m%r\u001b[39;00m\u001b[38;5;124m\"\u001b[39m \u001b[38;5;241m%\u001b[39m subgraph)\n\u001b[0;32m   1131\u001b[0m \u001b[38;5;28;01melse\u001b[39;00m:\n\u001b[1;32m-> 1132\u001b[0m     merge(\u001b[38;5;28mself\u001b[39m, primary_label, primary_key)\n",
      "File \u001b[1;32m~\\anaconda3\\Lib\\site-packages\\py2neo\\data.py:318\u001b[0m, in \u001b[0;36mSubgraph.__db_merge__\u001b[1;34m(self, tx, primary_label, primary_key)\u001b[0m\n\u001b[0;32m    316\u001b[0m pq \u001b[38;5;241m=\u001b[39m unwind_merge_nodes_query(\u001b[38;5;28mmap\u001b[39m(\u001b[38;5;28mdict\u001b[39m, nodes), (pl, pk), labels)\n\u001b[0;32m    317\u001b[0m pq \u001b[38;5;241m=\u001b[39m cypher_join(pq, \u001b[38;5;124m\"\u001b[39m\u001b[38;5;124mRETURN id(_)\u001b[39m\u001b[38;5;124m\"\u001b[39m)\n\u001b[1;32m--> 318\u001b[0m identities \u001b[38;5;241m=\u001b[39m [record[\u001b[38;5;241m0\u001b[39m] \u001b[38;5;28;01mfor\u001b[39;00m record \u001b[38;5;129;01min\u001b[39;00m tx\u001b[38;5;241m.\u001b[39mrun(\u001b[38;5;241m*\u001b[39mpq)]\n\u001b[0;32m    319\u001b[0m \u001b[38;5;28;01mif\u001b[39;00m \u001b[38;5;28mlen\u001b[39m(identities) \u001b[38;5;241m>\u001b[39m \u001b[38;5;28mlen\u001b[39m(nodes):\n\u001b[0;32m    320\u001b[0m     \u001b[38;5;28;01mraise\u001b[39;00m UniquenessError(\u001b[38;5;124m\"\u001b[39m\u001b[38;5;124mFound \u001b[39m\u001b[38;5;132;01m%d\u001b[39;00m\u001b[38;5;124m matching nodes for primary label \u001b[39m\u001b[38;5;132;01m%r\u001b[39;00m\u001b[38;5;124m and primary \u001b[39m\u001b[38;5;124m\"\u001b[39m\n\u001b[0;32m    321\u001b[0m                           \u001b[38;5;124m\"\u001b[39m\u001b[38;5;124mkey \u001b[39m\u001b[38;5;132;01m%r\u001b[39;00m\u001b[38;5;124m with labels \u001b[39m\u001b[38;5;132;01m%r\u001b[39;00m\u001b[38;5;124m but merging requires no more than \u001b[39m\u001b[38;5;124m\"\u001b[39m\n\u001b[0;32m    322\u001b[0m                           \u001b[38;5;124m\"\u001b[39m\u001b[38;5;124mone\u001b[39m\u001b[38;5;124m\"\u001b[39m \u001b[38;5;241m%\u001b[39m (\u001b[38;5;28mlen\u001b[39m(identities), pl, pk, \u001b[38;5;28mset\u001b[39m(labels)))\n",
      "File \u001b[1;32m~\\anaconda3\\Lib\\site-packages\\py2neo\\database.py:992\u001b[0m, in \u001b[0;36mTransaction.run\u001b[1;34m(self, cypher, parameters, **kwparameters)\u001b[0m\n\u001b[0;32m    988\u001b[0m     \u001b[38;5;28;01melse\u001b[39;00m:\n\u001b[0;32m    989\u001b[0m         result \u001b[38;5;241m=\u001b[39m \u001b[38;5;28mself\u001b[39m\u001b[38;5;241m.\u001b[39m_connector\u001b[38;5;241m.\u001b[39mauto_run(cypher, parameters,\n\u001b[0;32m    990\u001b[0m                                           graph_name\u001b[38;5;241m=\u001b[39m\u001b[38;5;28mself\u001b[39m\u001b[38;5;241m.\u001b[39mgraph\u001b[38;5;241m.\u001b[39mname,\n\u001b[0;32m    991\u001b[0m                                           readonly\u001b[38;5;241m=\u001b[39m\u001b[38;5;28mself\u001b[39m\u001b[38;5;241m.\u001b[39mreadonly)\n\u001b[1;32m--> 992\u001b[0m     \u001b[38;5;28mself\u001b[39m\u001b[38;5;241m.\u001b[39m_connector\u001b[38;5;241m.\u001b[39mpull(result, \u001b[38;5;241m-\u001b[39m\u001b[38;5;241m1\u001b[39m)\n\u001b[0;32m    993\u001b[0m     \u001b[38;5;28;01mreturn\u001b[39;00m Cursor(result, hydrant)\n\u001b[0;32m    994\u001b[0m \u001b[38;5;28;01mfinally\u001b[39;00m:\n",
      "File \u001b[1;32m~\\anaconda3\\Lib\\site-packages\\py2neo\\client\\__init__.py:1434\u001b[0m, in \u001b[0;36mConnector.pull\u001b[1;34m(self, result, n)\u001b[0m\n\u001b[0;32m   1432\u001b[0m cx \u001b[38;5;241m=\u001b[39m \u001b[38;5;28mself\u001b[39m\u001b[38;5;241m.\u001b[39m_reacquire(result\u001b[38;5;241m.\u001b[39mtransaction)\n\u001b[0;32m   1433\u001b[0m \u001b[38;5;28;01mtry\u001b[39;00m:\n\u001b[1;32m-> 1434\u001b[0m     cx\u001b[38;5;241m.\u001b[39mpull(result, n\u001b[38;5;241m=\u001b[39mn)\n\u001b[0;32m   1435\u001b[0m \u001b[38;5;28;01mexcept\u001b[39;00m (ConnectionUnavailable, ConnectionBroken):\n\u001b[0;32m   1436\u001b[0m     \u001b[38;5;28mself\u001b[39m\u001b[38;5;241m.\u001b[39mprune(cx\u001b[38;5;241m.\u001b[39mprofile)\n",
      "File \u001b[1;32m~\\anaconda3\\Lib\\site-packages\\py2neo\\client\\bolt.py:995\u001b[0m, in \u001b[0;36mBolt4x0.pull\u001b[1;34m(self, result, n, capacity)\u001b[0m\n\u001b[0;32m    993\u001b[0m result\u001b[38;5;241m.\u001b[39mappend(response, final\u001b[38;5;241m=\u001b[39m(n \u001b[38;5;241m==\u001b[39m \u001b[38;5;241m-\u001b[39m\u001b[38;5;241m1\u001b[39m))\n\u001b[0;32m    994\u001b[0m \u001b[38;5;28;01mtry\u001b[39;00m:\n\u001b[1;32m--> 995\u001b[0m     \u001b[38;5;28mself\u001b[39m\u001b[38;5;241m.\u001b[39m_sync(response)\n\u001b[0;32m    996\u001b[0m \u001b[38;5;28;01mexcept\u001b[39;00m BrokenWireError \u001b[38;5;28;01mas\u001b[39;00m error:\n\u001b[0;32m    997\u001b[0m     result\u001b[38;5;241m.\u001b[39mtransaction\u001b[38;5;241m.\u001b[39mmark_broken()\n",
      "File \u001b[1;32m~\\anaconda3\\Lib\\site-packages\\py2neo\\client\\bolt.py:799\u001b[0m, in \u001b[0;36mBolt1._sync\u001b[1;34m(self, *responses)\u001b[0m\n\u001b[0;32m    797\u001b[0m \u001b[38;5;28mself\u001b[39m\u001b[38;5;241m.\u001b[39msend()\n\u001b[0;32m    798\u001b[0m \u001b[38;5;28;01mfor\u001b[39;00m response \u001b[38;5;129;01min\u001b[39;00m responses:\n\u001b[1;32m--> 799\u001b[0m     \u001b[38;5;28mself\u001b[39m\u001b[38;5;241m.\u001b[39m_wait(response)\n",
      "File \u001b[1;32m~\\anaconda3\\Lib\\site-packages\\py2neo\\client\\bolt.py:794\u001b[0m, in \u001b[0;36mBolt1._wait\u001b[1;34m(self, response)\u001b[0m\n\u001b[0;32m    787\u001b[0m \u001b[38;5;250m\u001b[39m\u001b[38;5;124;03m\"\"\" Read all incoming responses up to and including a\u001b[39;00m\n\u001b[0;32m    788\u001b[0m \u001b[38;5;124;03mparticular response.\u001b[39;00m\n\u001b[0;32m    789\u001b[0m \n\u001b[0;32m    790\u001b[0m \u001b[38;5;124;03mThis method calls fetch, but does not raise an exception on\u001b[39;00m\n\u001b[0;32m    791\u001b[0m \u001b[38;5;124;03mFAILURE.\u001b[39;00m\n\u001b[0;32m    792\u001b[0m \u001b[38;5;124;03m\"\"\"\u001b[39;00m\n\u001b[0;32m    793\u001b[0m \u001b[38;5;28;01mwhile\u001b[39;00m \u001b[38;5;129;01mnot\u001b[39;00m response\u001b[38;5;241m.\u001b[39mfull() \u001b[38;5;129;01mand\u001b[39;00m \u001b[38;5;129;01mnot\u001b[39;00m response\u001b[38;5;241m.\u001b[39mdone():\n\u001b[1;32m--> 794\u001b[0m     \u001b[38;5;28mself\u001b[39m\u001b[38;5;241m.\u001b[39m_fetch()\n",
      "File \u001b[1;32m~\\anaconda3\\Lib\\site-packages\\py2neo\\client\\bolt.py:769\u001b[0m, in \u001b[0;36mBolt1._fetch\u001b[1;34m(self)\u001b[0m\n\u001b[0;32m    760\u001b[0m \u001b[38;5;28;01mdef\u001b[39;00m \u001b[38;5;21m_fetch\u001b[39m(\u001b[38;5;28mself\u001b[39m):\n\u001b[0;32m    761\u001b[0m \u001b[38;5;250m    \u001b[39m\u001b[38;5;124;03m\"\"\" Fetch and process the next incoming message.\u001b[39;00m\n\u001b[0;32m    762\u001b[0m \n\u001b[0;32m    763\u001b[0m \u001b[38;5;124;03m    This method does not raise an exception on receipt of a\u001b[39;00m\n\u001b[1;32m   (...)\u001b[0m\n\u001b[0;32m    767\u001b[0m \u001b[38;5;124;03m    failed state into an exception.\u001b[39;00m\n\u001b[0;32m    768\u001b[0m \u001b[38;5;124;03m    \"\"\"\u001b[39;00m\n\u001b[1;32m--> 769\u001b[0m     tag, fields \u001b[38;5;241m=\u001b[39m \u001b[38;5;28mself\u001b[39m\u001b[38;5;241m.\u001b[39mread_message()\n\u001b[0;32m    770\u001b[0m     \u001b[38;5;28;01mif\u001b[39;00m tag \u001b[38;5;241m==\u001b[39m \u001b[38;5;241m0x70\u001b[39m:\n\u001b[0;32m    771\u001b[0m         \u001b[38;5;28mself\u001b[39m\u001b[38;5;241m.\u001b[39m_responses\u001b[38;5;241m.\u001b[39mpopleft()\u001b[38;5;241m.\u001b[39mset_success(\u001b[38;5;241m*\u001b[39m\u001b[38;5;241m*\u001b[39mfields[\u001b[38;5;241m0\u001b[39m])\n",
      "File \u001b[1;32m~\\anaconda3\\Lib\\site-packages\\py2neo\\client\\bolt.py:696\u001b[0m, in \u001b[0;36mBolt1.read_message\u001b[1;34m(self)\u001b[0m\n\u001b[0;32m    695\u001b[0m \u001b[38;5;28;01mdef\u001b[39;00m \u001b[38;5;21mread_message\u001b[39m(\u001b[38;5;28mself\u001b[39m):\n\u001b[1;32m--> 696\u001b[0m     tag, fields \u001b[38;5;241m=\u001b[39m \u001b[38;5;28mself\u001b[39m\u001b[38;5;241m.\u001b[39m_reader\u001b[38;5;241m.\u001b[39mread_message()\n\u001b[0;32m    697\u001b[0m     \u001b[38;5;28;01mif\u001b[39;00m tag \u001b[38;5;241m==\u001b[39m \u001b[38;5;241m0x71\u001b[39m:\n\u001b[0;32m    698\u001b[0m         \u001b[38;5;66;03m# If a RECORD is received, check for more records\u001b[39;00m\n\u001b[0;32m    699\u001b[0m         \u001b[38;5;66;03m# in the buffer immediately following, and log and\u001b[39;00m\n\u001b[0;32m    700\u001b[0m         \u001b[38;5;66;03m# add them all at the same time\u001b[39;00m\n\u001b[0;32m    701\u001b[0m         \u001b[38;5;28;01mwhile\u001b[39;00m \u001b[38;5;28mself\u001b[39m\u001b[38;5;241m.\u001b[39m_reader\u001b[38;5;241m.\u001b[39mpeek_message() \u001b[38;5;241m==\u001b[39m \u001b[38;5;241m0x71\u001b[39m:\n",
      "File \u001b[1;32m~\\anaconda3\\Lib\\site-packages\\py2neo\\client\\bolt.py:156\u001b[0m, in \u001b[0;36mBoltMessageReader.read_message\u001b[1;34m(self)\u001b[0m\n\u001b[0;32m    154\u001b[0m \u001b[38;5;28;01mwhile\u001b[39;00m \u001b[38;5;28;01mTrue\u001b[39;00m:\n\u001b[0;32m    155\u001b[0m     \u001b[38;5;28;01mtry\u001b[39;00m:\n\u001b[1;32m--> 156\u001b[0m         hi, lo \u001b[38;5;241m=\u001b[39m \u001b[38;5;28mself\u001b[39m\u001b[38;5;241m.\u001b[39mwire\u001b[38;5;241m.\u001b[39mread(\u001b[38;5;241m2\u001b[39m)\n\u001b[0;32m    157\u001b[0m     \u001b[38;5;28;01mexcept\u001b[39;00m WireError \u001b[38;5;28;01mas\u001b[39;00m error:\n\u001b[0;32m    158\u001b[0m         raise_from(ConnectionBroken(\u001b[38;5;124m\"\u001b[39m\u001b[38;5;124mFailed to read message\u001b[39m\u001b[38;5;124m\"\u001b[39m), error)\n",
      "File \u001b[1;32m~\\anaconda3\\Lib\\site-packages\\py2neo\\wiring.py:117\u001b[0m, in \u001b[0;36mWire.read\u001b[1;34m(self, n)\u001b[0m\n\u001b[0;32m    115\u001b[0m requested \u001b[38;5;241m=\u001b[39m \u001b[38;5;28mmax\u001b[39m(required, \u001b[38;5;241m16384\u001b[39m)\n\u001b[0;32m    116\u001b[0m \u001b[38;5;28;01mtry\u001b[39;00m:\n\u001b[1;32m--> 117\u001b[0m     received \u001b[38;5;241m=\u001b[39m \u001b[38;5;28mself\u001b[39m\u001b[38;5;241m.\u001b[39m__socket\u001b[38;5;241m.\u001b[39mrecv(requested)\n\u001b[0;32m    118\u001b[0m \u001b[38;5;28;01mexcept\u001b[39;00m (\u001b[38;5;167;01mIOError\u001b[39;00m, \u001b[38;5;167;01mOSError\u001b[39;00m):\n\u001b[0;32m    119\u001b[0m     \u001b[38;5;28mself\u001b[39m\u001b[38;5;241m.\u001b[39m__mark_broken(\u001b[38;5;124m\"\u001b[39m\u001b[38;5;124mWire broken\u001b[39m\u001b[38;5;124m\"\u001b[39m)\n",
      "\u001b[1;31mKeyboardInterrupt\u001b[0m: "
     ]
    }
   ],
   "source": [
    "import py2neo\n",
    "from py2neo import ogm\n",
    "import numpy as np\n",
    "from py2neo import Graph, Node, Relationship\n",
    "import csv\n",
    "\n",
    "graph = py2neo.Graph(\"bolt://localhost:7687\", auth=(\"neo4j\", \"password_tuts\"), name=\"arxiv\")\n",
    "csv_file = \"C:/Users/sacha/Downloads/arxivapi.csv\"\n",
    "\n",
    "with open(csv_file, newline='', encoding='utf-8') as csvfile:\n",
    "    reader = csv.DictReader(csvfile)\n",
    "    for row in reader:\n",
    "        # Extraire les auteurs de la colonne \"authors\"\n",
    "        authors = row['authors']\n",
    "        author_names = [author.strip().split(':')[1].strip() for author in authors.split(',') if 'name' in author]\n",
    "        \n",
    "        # Créer un nœud pour chaque auteur\n",
    "        for author_name in author_names:\n",
    "            author_node = Node(\"Author\", name=author_name)\n",
    "            graph.merge(author_node, \"Author\", \"name\")  # Spécifiez l'étiquette principale et la clé primaire\n",
    "\n",
    "\n"
   ]
  },
  {
   "cell_type": "code",
   "execution_count": 12,
   "id": "db10bdb4",
   "metadata": {},
   "outputs": [
    {
     "ename": "KeyboardInterrupt",
     "evalue": "",
     "output_type": "error",
     "traceback": [
      "\u001b[1;31m---------------------------------------------------------------------------\u001b[0m",
      "\u001b[1;31mKeyboardInterrupt\u001b[0m                         Traceback (most recent call last)",
      "Cell \u001b[1;32mIn[12], line 23\u001b[0m\n\u001b[0;32m     21\u001b[0m \u001b[38;5;28;01mfor\u001b[39;00m i \u001b[38;5;129;01min\u001b[39;00m \u001b[38;5;28mrange\u001b[39m(\u001b[38;5;28mlen\u001b[39m(author_names)):\n\u001b[0;32m     22\u001b[0m     \u001b[38;5;28;01mfor\u001b[39;00m j \u001b[38;5;129;01min\u001b[39;00m \u001b[38;5;28mrange\u001b[39m(i \u001b[38;5;241m+\u001b[39m \u001b[38;5;241m1\u001b[39m, \u001b[38;5;28mlen\u001b[39m(author_names)):\n\u001b[1;32m---> 23\u001b[0m         author1_node \u001b[38;5;241m=\u001b[39m graph\u001b[38;5;241m.\u001b[39mnodes\u001b[38;5;241m.\u001b[39mmatch(\u001b[38;5;124m\"\u001b[39m\u001b[38;5;124mAuthor\u001b[39m\u001b[38;5;124m\"\u001b[39m, name\u001b[38;5;241m=\u001b[39mauthor_names[i])\u001b[38;5;241m.\u001b[39mfirst()\n\u001b[0;32m     24\u001b[0m         author2_node \u001b[38;5;241m=\u001b[39m graph\u001b[38;5;241m.\u001b[39mnodes\u001b[38;5;241m.\u001b[39mmatch(\u001b[38;5;124m\"\u001b[39m\u001b[38;5;124mAuthor\u001b[39m\u001b[38;5;124m\"\u001b[39m, name\u001b[38;5;241m=\u001b[39mauthor_names[j])\u001b[38;5;241m.\u001b[39mfirst()\n\u001b[0;32m     25\u001b[0m         \u001b[38;5;28;01mif\u001b[39;00m author1_node \u001b[38;5;129;01mand\u001b[39;00m author2_node:\n",
      "File \u001b[1;32m~\\anaconda3\\Lib\\site-packages\\py2neo\\matching.py:452\u001b[0m, in \u001b[0;36mNodeMatch.first\u001b[1;34m(self)\u001b[0m\n\u001b[0;32m    446\u001b[0m \u001b[38;5;28;01mdef\u001b[39;00m \u001b[38;5;21mfirst\u001b[39m(\u001b[38;5;28mself\u001b[39m):\n\u001b[0;32m    447\u001b[0m \u001b[38;5;250m    \u001b[39m\u001b[38;5;124;03m\"\"\" Evaluate the match and return the first :class:`.Node`\u001b[39;00m\n\u001b[0;32m    448\u001b[0m \u001b[38;5;124;03m    matched or :const:`None` if no matching nodes are found.\u001b[39;00m\n\u001b[0;32m    449\u001b[0m \n\u001b[0;32m    450\u001b[0m \u001b[38;5;124;03m    :return: a single matching :class:`.Node` or :const:`None`\u001b[39;00m\n\u001b[0;32m    451\u001b[0m \u001b[38;5;124;03m    \"\"\"\u001b[39;00m\n\u001b[1;32m--> 452\u001b[0m     \u001b[38;5;28;01mreturn\u001b[39;00m \u001b[38;5;28mself\u001b[39m\u001b[38;5;241m.\u001b[39mgraph\u001b[38;5;241m.\u001b[39mevaluate(\u001b[38;5;241m*\u001b[39m\u001b[38;5;28mself\u001b[39m\u001b[38;5;241m.\u001b[39m_query_and_parameters())\n",
      "File \u001b[1;32m~\\anaconda3\\Lib\\site-packages\\py2neo\\database.py:416\u001b[0m, in \u001b[0;36mGraph.evaluate\u001b[1;34m(self, cypher, parameters, **kwparameters)\u001b[0m\n\u001b[0;32m    407\u001b[0m \u001b[38;5;28;01mdef\u001b[39;00m \u001b[38;5;21mevaluate\u001b[39m(\u001b[38;5;28mself\u001b[39m, cypher, parameters\u001b[38;5;241m=\u001b[39m\u001b[38;5;28;01mNone\u001b[39;00m, \u001b[38;5;241m*\u001b[39m\u001b[38;5;241m*\u001b[39mkwparameters):\n\u001b[0;32m    408\u001b[0m \u001b[38;5;250m    \u001b[39m\u001b[38;5;124;03m\"\"\" Run a :meth:`~py2neo.Transaction.evaluate` operation within an\u001b[39;00m\n\u001b[0;32m    409\u001b[0m \u001b[38;5;124;03m    auto-commit :class:`~py2neo.Transaction`.\u001b[39;00m\n\u001b[0;32m    410\u001b[0m \n\u001b[1;32m   (...)\u001b[0m\n\u001b[0;32m    414\u001b[0m \u001b[38;5;124;03m             :py:const:`None`.\u001b[39;00m\n\u001b[0;32m    415\u001b[0m \u001b[38;5;124;03m    \"\"\"\u001b[39;00m\n\u001b[1;32m--> 416\u001b[0m     \u001b[38;5;28;01mreturn\u001b[39;00m \u001b[38;5;28mself\u001b[39m\u001b[38;5;241m.\u001b[39mrun(cypher, parameters, \u001b[38;5;241m*\u001b[39m\u001b[38;5;241m*\u001b[39mkwparameters)\u001b[38;5;241m.\u001b[39mevaluate()\n",
      "File \u001b[1;32m~\\anaconda3\\Lib\\site-packages\\py2neo\\database.py:405\u001b[0m, in \u001b[0;36mGraph.run\u001b[1;34m(self, cypher, parameters, **kwparameters)\u001b[0m\n\u001b[0;32m    395\u001b[0m \u001b[38;5;28;01mdef\u001b[39;00m \u001b[38;5;21mrun\u001b[39m(\u001b[38;5;28mself\u001b[39m, cypher, parameters\u001b[38;5;241m=\u001b[39m\u001b[38;5;28;01mNone\u001b[39;00m, \u001b[38;5;241m*\u001b[39m\u001b[38;5;241m*\u001b[39mkwparameters):\n\u001b[0;32m    396\u001b[0m \u001b[38;5;250m    \u001b[39m\u001b[38;5;124;03m\"\"\" Run a single read/write query within an auto-commit\u001b[39;00m\n\u001b[0;32m    397\u001b[0m \u001b[38;5;124;03m    :class:`~py2neo.Transaction`.\u001b[39;00m\n\u001b[0;32m    398\u001b[0m \n\u001b[1;32m   (...)\u001b[0m\n\u001b[0;32m    403\u001b[0m \u001b[38;5;124;03m    :return:\u001b[39;00m\n\u001b[0;32m    404\u001b[0m \u001b[38;5;124;03m    \"\"\"\u001b[39;00m\n\u001b[1;32m--> 405\u001b[0m     \u001b[38;5;28;01mreturn\u001b[39;00m \u001b[38;5;28mself\u001b[39m\u001b[38;5;241m.\u001b[39mauto()\u001b[38;5;241m.\u001b[39mrun(cypher, parameters, \u001b[38;5;241m*\u001b[39m\u001b[38;5;241m*\u001b[39mkwparameters)\n",
      "File \u001b[1;32m~\\anaconda3\\Lib\\site-packages\\py2neo\\database.py:992\u001b[0m, in \u001b[0;36mTransaction.run\u001b[1;34m(self, cypher, parameters, **kwparameters)\u001b[0m\n\u001b[0;32m    988\u001b[0m     \u001b[38;5;28;01melse\u001b[39;00m:\n\u001b[0;32m    989\u001b[0m         result \u001b[38;5;241m=\u001b[39m \u001b[38;5;28mself\u001b[39m\u001b[38;5;241m.\u001b[39m_connector\u001b[38;5;241m.\u001b[39mauto_run(cypher, parameters,\n\u001b[0;32m    990\u001b[0m                                           graph_name\u001b[38;5;241m=\u001b[39m\u001b[38;5;28mself\u001b[39m\u001b[38;5;241m.\u001b[39mgraph\u001b[38;5;241m.\u001b[39mname,\n\u001b[0;32m    991\u001b[0m                                           readonly\u001b[38;5;241m=\u001b[39m\u001b[38;5;28mself\u001b[39m\u001b[38;5;241m.\u001b[39mreadonly)\n\u001b[1;32m--> 992\u001b[0m     \u001b[38;5;28mself\u001b[39m\u001b[38;5;241m.\u001b[39m_connector\u001b[38;5;241m.\u001b[39mpull(result, \u001b[38;5;241m-\u001b[39m\u001b[38;5;241m1\u001b[39m)\n\u001b[0;32m    993\u001b[0m     \u001b[38;5;28;01mreturn\u001b[39;00m Cursor(result, hydrant)\n\u001b[0;32m    994\u001b[0m \u001b[38;5;28;01mfinally\u001b[39;00m:\n",
      "File \u001b[1;32m~\\anaconda3\\Lib\\site-packages\\py2neo\\client\\__init__.py:1434\u001b[0m, in \u001b[0;36mConnector.pull\u001b[1;34m(self, result, n)\u001b[0m\n\u001b[0;32m   1432\u001b[0m cx \u001b[38;5;241m=\u001b[39m \u001b[38;5;28mself\u001b[39m\u001b[38;5;241m.\u001b[39m_reacquire(result\u001b[38;5;241m.\u001b[39mtransaction)\n\u001b[0;32m   1433\u001b[0m \u001b[38;5;28;01mtry\u001b[39;00m:\n\u001b[1;32m-> 1434\u001b[0m     cx\u001b[38;5;241m.\u001b[39mpull(result, n\u001b[38;5;241m=\u001b[39mn)\n\u001b[0;32m   1435\u001b[0m \u001b[38;5;28;01mexcept\u001b[39;00m (ConnectionUnavailable, ConnectionBroken):\n\u001b[0;32m   1436\u001b[0m     \u001b[38;5;28mself\u001b[39m\u001b[38;5;241m.\u001b[39mprune(cx\u001b[38;5;241m.\u001b[39mprofile)\n",
      "File \u001b[1;32m~\\anaconda3\\Lib\\site-packages\\py2neo\\client\\bolt.py:995\u001b[0m, in \u001b[0;36mBolt4x0.pull\u001b[1;34m(self, result, n, capacity)\u001b[0m\n\u001b[0;32m    993\u001b[0m result\u001b[38;5;241m.\u001b[39mappend(response, final\u001b[38;5;241m=\u001b[39m(n \u001b[38;5;241m==\u001b[39m \u001b[38;5;241m-\u001b[39m\u001b[38;5;241m1\u001b[39m))\n\u001b[0;32m    994\u001b[0m \u001b[38;5;28;01mtry\u001b[39;00m:\n\u001b[1;32m--> 995\u001b[0m     \u001b[38;5;28mself\u001b[39m\u001b[38;5;241m.\u001b[39m_sync(response)\n\u001b[0;32m    996\u001b[0m \u001b[38;5;28;01mexcept\u001b[39;00m BrokenWireError \u001b[38;5;28;01mas\u001b[39;00m error:\n\u001b[0;32m    997\u001b[0m     result\u001b[38;5;241m.\u001b[39mtransaction\u001b[38;5;241m.\u001b[39mmark_broken()\n",
      "File \u001b[1;32m~\\anaconda3\\Lib\\site-packages\\py2neo\\client\\bolt.py:799\u001b[0m, in \u001b[0;36mBolt1._sync\u001b[1;34m(self, *responses)\u001b[0m\n\u001b[0;32m    797\u001b[0m \u001b[38;5;28mself\u001b[39m\u001b[38;5;241m.\u001b[39msend()\n\u001b[0;32m    798\u001b[0m \u001b[38;5;28;01mfor\u001b[39;00m response \u001b[38;5;129;01min\u001b[39;00m responses:\n\u001b[1;32m--> 799\u001b[0m     \u001b[38;5;28mself\u001b[39m\u001b[38;5;241m.\u001b[39m_wait(response)\n",
      "File \u001b[1;32m~\\anaconda3\\Lib\\site-packages\\py2neo\\client\\bolt.py:794\u001b[0m, in \u001b[0;36mBolt1._wait\u001b[1;34m(self, response)\u001b[0m\n\u001b[0;32m    787\u001b[0m \u001b[38;5;250m\u001b[39m\u001b[38;5;124;03m\"\"\" Read all incoming responses up to and including a\u001b[39;00m\n\u001b[0;32m    788\u001b[0m \u001b[38;5;124;03mparticular response.\u001b[39;00m\n\u001b[0;32m    789\u001b[0m \n\u001b[0;32m    790\u001b[0m \u001b[38;5;124;03mThis method calls fetch, but does not raise an exception on\u001b[39;00m\n\u001b[0;32m    791\u001b[0m \u001b[38;5;124;03mFAILURE.\u001b[39;00m\n\u001b[0;32m    792\u001b[0m \u001b[38;5;124;03m\"\"\"\u001b[39;00m\n\u001b[0;32m    793\u001b[0m \u001b[38;5;28;01mwhile\u001b[39;00m \u001b[38;5;129;01mnot\u001b[39;00m response\u001b[38;5;241m.\u001b[39mfull() \u001b[38;5;129;01mand\u001b[39;00m \u001b[38;5;129;01mnot\u001b[39;00m response\u001b[38;5;241m.\u001b[39mdone():\n\u001b[1;32m--> 794\u001b[0m     \u001b[38;5;28mself\u001b[39m\u001b[38;5;241m.\u001b[39m_fetch()\n",
      "File \u001b[1;32m~\\anaconda3\\Lib\\site-packages\\py2neo\\client\\bolt.py:769\u001b[0m, in \u001b[0;36mBolt1._fetch\u001b[1;34m(self)\u001b[0m\n\u001b[0;32m    760\u001b[0m \u001b[38;5;28;01mdef\u001b[39;00m \u001b[38;5;21m_fetch\u001b[39m(\u001b[38;5;28mself\u001b[39m):\n\u001b[0;32m    761\u001b[0m \u001b[38;5;250m    \u001b[39m\u001b[38;5;124;03m\"\"\" Fetch and process the next incoming message.\u001b[39;00m\n\u001b[0;32m    762\u001b[0m \n\u001b[0;32m    763\u001b[0m \u001b[38;5;124;03m    This method does not raise an exception on receipt of a\u001b[39;00m\n\u001b[1;32m   (...)\u001b[0m\n\u001b[0;32m    767\u001b[0m \u001b[38;5;124;03m    failed state into an exception.\u001b[39;00m\n\u001b[0;32m    768\u001b[0m \u001b[38;5;124;03m    \"\"\"\u001b[39;00m\n\u001b[1;32m--> 769\u001b[0m     tag, fields \u001b[38;5;241m=\u001b[39m \u001b[38;5;28mself\u001b[39m\u001b[38;5;241m.\u001b[39mread_message()\n\u001b[0;32m    770\u001b[0m     \u001b[38;5;28;01mif\u001b[39;00m tag \u001b[38;5;241m==\u001b[39m \u001b[38;5;241m0x70\u001b[39m:\n\u001b[0;32m    771\u001b[0m         \u001b[38;5;28mself\u001b[39m\u001b[38;5;241m.\u001b[39m_responses\u001b[38;5;241m.\u001b[39mpopleft()\u001b[38;5;241m.\u001b[39mset_success(\u001b[38;5;241m*\u001b[39m\u001b[38;5;241m*\u001b[39mfields[\u001b[38;5;241m0\u001b[39m])\n",
      "File \u001b[1;32m~\\anaconda3\\Lib\\site-packages\\py2neo\\client\\bolt.py:696\u001b[0m, in \u001b[0;36mBolt1.read_message\u001b[1;34m(self)\u001b[0m\n\u001b[0;32m    695\u001b[0m \u001b[38;5;28;01mdef\u001b[39;00m \u001b[38;5;21mread_message\u001b[39m(\u001b[38;5;28mself\u001b[39m):\n\u001b[1;32m--> 696\u001b[0m     tag, fields \u001b[38;5;241m=\u001b[39m \u001b[38;5;28mself\u001b[39m\u001b[38;5;241m.\u001b[39m_reader\u001b[38;5;241m.\u001b[39mread_message()\n\u001b[0;32m    697\u001b[0m     \u001b[38;5;28;01mif\u001b[39;00m tag \u001b[38;5;241m==\u001b[39m \u001b[38;5;241m0x71\u001b[39m:\n\u001b[0;32m    698\u001b[0m         \u001b[38;5;66;03m# If a RECORD is received, check for more records\u001b[39;00m\n\u001b[0;32m    699\u001b[0m         \u001b[38;5;66;03m# in the buffer immediately following, and log and\u001b[39;00m\n\u001b[0;32m    700\u001b[0m         \u001b[38;5;66;03m# add them all at the same time\u001b[39;00m\n\u001b[0;32m    701\u001b[0m         \u001b[38;5;28;01mwhile\u001b[39;00m \u001b[38;5;28mself\u001b[39m\u001b[38;5;241m.\u001b[39m_reader\u001b[38;5;241m.\u001b[39mpeek_message() \u001b[38;5;241m==\u001b[39m \u001b[38;5;241m0x71\u001b[39m:\n",
      "File \u001b[1;32m~\\anaconda3\\Lib\\site-packages\\py2neo\\client\\bolt.py:156\u001b[0m, in \u001b[0;36mBoltMessageReader.read_message\u001b[1;34m(self)\u001b[0m\n\u001b[0;32m    154\u001b[0m \u001b[38;5;28;01mwhile\u001b[39;00m \u001b[38;5;28;01mTrue\u001b[39;00m:\n\u001b[0;32m    155\u001b[0m     \u001b[38;5;28;01mtry\u001b[39;00m:\n\u001b[1;32m--> 156\u001b[0m         hi, lo \u001b[38;5;241m=\u001b[39m \u001b[38;5;28mself\u001b[39m\u001b[38;5;241m.\u001b[39mwire\u001b[38;5;241m.\u001b[39mread(\u001b[38;5;241m2\u001b[39m)\n\u001b[0;32m    157\u001b[0m     \u001b[38;5;28;01mexcept\u001b[39;00m WireError \u001b[38;5;28;01mas\u001b[39;00m error:\n\u001b[0;32m    158\u001b[0m         raise_from(ConnectionBroken(\u001b[38;5;124m\"\u001b[39m\u001b[38;5;124mFailed to read message\u001b[39m\u001b[38;5;124m\"\u001b[39m), error)\n",
      "File \u001b[1;32m~\\anaconda3\\Lib\\site-packages\\py2neo\\wiring.py:117\u001b[0m, in \u001b[0;36mWire.read\u001b[1;34m(self, n)\u001b[0m\n\u001b[0;32m    115\u001b[0m requested \u001b[38;5;241m=\u001b[39m \u001b[38;5;28mmax\u001b[39m(required, \u001b[38;5;241m16384\u001b[39m)\n\u001b[0;32m    116\u001b[0m \u001b[38;5;28;01mtry\u001b[39;00m:\n\u001b[1;32m--> 117\u001b[0m     received \u001b[38;5;241m=\u001b[39m \u001b[38;5;28mself\u001b[39m\u001b[38;5;241m.\u001b[39m__socket\u001b[38;5;241m.\u001b[39mrecv(requested)\n\u001b[0;32m    118\u001b[0m \u001b[38;5;28;01mexcept\u001b[39;00m (\u001b[38;5;167;01mIOError\u001b[39;00m, \u001b[38;5;167;01mOSError\u001b[39;00m):\n\u001b[0;32m    119\u001b[0m     \u001b[38;5;28mself\u001b[39m\u001b[38;5;241m.\u001b[39m__mark_broken(\u001b[38;5;124m\"\u001b[39m\u001b[38;5;124mWire broken\u001b[39m\u001b[38;5;124m\"\u001b[39m)\n",
      "\u001b[1;31mKeyboardInterrupt\u001b[0m: "
     ]
    }
   ],
   "source": [
    "csv_file = \"C:/Users/sacha/Downloads/arxivapi.csv\"\n",
    "\n",
    "with open(csv_file, newline='', encoding='utf-8') as csvfile:\n",
    "    reader = csv.DictReader(csvfile)\n",
    "    for row in reader:\n",
    "\n",
    "        published_year = row['published_parsed'][0]\n",
    "        \n",
    "        # Vérifier si l'article a été publié après 2021\n",
    "        if published_year > \"2021\":\n",
    "            # Extraire les auteurs de la colonne \"authors\"\n",
    "            authors = row['authors']\n",
    "            author_names = [author.strip().split(':')[1].strip() for author in authors.split(',') if 'name' in author]\n",
    "            \n",
    "            # Créer un nœud pour chaque auteur s'il n'existe pas déjà\n",
    "            for author_name in author_names:\n",
    "                author_node = Node(\"Author\", name=author_name)\n",
    "                graph.merge(author_node, \"Author\", \"name\")\n",
    "            \n",
    "            # Créer des liens de collaboration entre tous les auteurs de l'article\n",
    "            for i in range(len(author_names)):\n",
    "                for j in range(i + 1, len(author_names)):\n",
    "                    author1_node = graph.nodes.match(\"Author\", name=author_names[i]).first()\n",
    "                    author2_node = graph.nodes.match(\"Author\", name=author_names[j]).first()\n",
    "                    if author1_node and author2_node:\n",
    "                        collab_rel = Relationship(author1_node, \"COLLABORATE\", author2_node)\n",
    "                        graph.merge(collab_rel)"
   ]
  },
  {
   "cell_type": "markdown",
   "id": "498f8572",
   "metadata": {},
   "source": [
    "9) Get the density of degrees of the collaboration network"
   ]
  },
  {
   "cell_type": "code",
   "execution_count": 13,
   "id": "54b0280d",
   "metadata": {},
   "outputs": [
    {
     "name": "stderr",
     "output_type": "stream",
     "text": [
      "C:\\Users\\sacha\\AppData\\Local\\Temp\\ipykernel_31596\\4167221071.py:17: UserWarning: \n",
      "\n",
      "`distplot` is a deprecated function and will be removed in seaborn v0.14.0.\n",
      "\n",
      "Please adapt your code to use either `displot` (a figure-level function with\n",
      "similar flexibility) or `kdeplot` (an axes-level function for kernel density plots).\n",
      "\n",
      "For a guide to updating your code to use the new functions, please see\n",
      "https://gist.github.com/mwaskom/de44147ed2974457ad6372750bbe5751\n",
      "\n",
      "  ax = sns.distplot(collaborations, hist=False)\n"
     ]
    },
    {
     "data": {
      "image/png": "[encoded data removed]",
      "text/plain": [
       "<Figure size 1000x600 with 1 Axes>"
      ]
     },
     "metadata": {},
     "output_type": "display_data"
    }
   ],
   "source": [
    "import seaborn as sns\n",
    "import matplotlib.pyplot as plt\n",
    "graph = py2neo.Graph(\"bolt://localhost:7687\", auth=(\"neo4j\", \"password_tuts\"), name=\"arxiv\")\n",
    "query=\"\"\"\n",
    "MATCH (a:Author)-[:COLLABORATE]->(b:Author)\n",
    "RETURN a.name AS author, COUNT(b) AS collaboration_count\n",
    "\"\"\"\n",
    "\n",
    "# Exécution de la requête et récupération des résultats\n",
    "result = graph.run(query)\n",
    "\n",
    "# Extraction des collaborations par auteur\n",
    "collaborations = [record[\"collaboration_count\"] for record in result]\n",
    "\n",
    "# Tracé de la densité des collaborations\n",
    "plt.figure(figsize=(10, 6))\n",
    "ax = sns.distplot(collaborations, hist=False)\n",
    "ax.set_title(\"Density of Collaborations\")\n",
    "ax.set_xlabel(\"Collaboration Count\")\n",
    "ax.set_ylabel(\"Density\")\n",
    "plt.show()"
   ]
  },
  {
   "cell_type": "markdown",
   "id": "e681d53c",
   "metadata": {},
   "source": [
    "10) Do a for loop for i in range(500) for each i remove nodes with a degree less than i."
   ]
  },
  {
   "cell_type": "code",
   "execution_count": null,
   "id": "b0bc9014",
   "metadata": {},
   "outputs": [],
   "source": [
    "for i in range(500):\n",
    "    # Construction de la requête Cypher pour supprimer les nœuds avec un degré inférieur à i\n",
    "    query = f\"\"\"\n",
    "    MATCH (a:Author)\n",
    "    WHERE size((a)-[:COLLABORATE]-()) < {i}\n",
    "    DETACH DELETE a\n",
    "    \"\"\"\n",
    "    graph.run(query)"
   ]
  },
  {
   "cell_type": "markdown",
   "id": "456af379",
   "metadata": {},
   "source": [
    "   ##                   Real World application 3\n",
    "You will work again on pubmed_last_100k.json. The goal in this homework is to insert collaboration data in Neo4j and then study it using cypher queries. The following questions are meant to guide you through the process."
   ]
  },
  {
   "cell_type": "markdown",
   "id": "bceaa400",
   "metadata": {},
   "source": [
    "    1)Each paper has a list of author and affiliations. The first step is to create a node per author with a list \n",
    "    of affiliation as attribute. If a name appears multiple times consider it as a single person. Create an edge \n",
    "    between two authors if they are on the same paper. You can use any kind of operation to clean the data before \n",
    "    inserting,you decide which preprocessing step is the most convenient."
   ]
  },
  {
   "cell_type": "code",
   "execution_count": null,
   "id": "d6f090d7",
   "metadata": {},
   "outputs": [],
   "source": []
  },
  {
   "cell_type": "code",
   "execution_count": 43,
   "id": "a58f70e4",
   "metadata": {},
   "outputs": [
    {
     "name": "stdout",
     "output_type": "stream",
     "text": [
      "[{'_id': {'$oid': '60c715b4c4b7559e04fd9d24'}, 'pmid': 30006494, 'title': 'Proton pump inhibitors and gastric cancer: association is not causation.', 'ISSN': '1468-3288', 'abstract': None, 'meshwords': 'Anti-Ulcer Agents \\nHelicobacter pylori \\nHumans \\nProton Pump Inhibitors \\nStomach Neoplasms ', 'meshsubwords': '', 'authors': \"name ml Moayyedi P, affil str Division of Gastroenterology and Farncombe Family Digestive Health Research Institute, McMaster University, Hamilton, Ontario, Canada.\\nname ml Veldhuyzen van Zanten SJO, affil str Division of Gastroenterology, University of Alberta, Edmonton, Alberta, Canada.\\nname ml Hookey L, affil str Division of Gastroenterology, Queen\\\\'s University, Kingston, Ontario, Canada.\\nname ml Armstrong D, affil str Division of Gastroenterology and Farncombe Family Digestive Health Research Institute, McMaster University, Hamilton, Ontario, Canada.\\nname ml Jones N, affil str Division of Gastroenterology, Hepatology, and Nutrition, The Hospital for Sick Children, Toronto, Ontario, Canada.; Department of Paediatrics, University of Toronto, Toronto, Ontario, Canada.; Department of Physiology, University of Toronto, Toronto, Ontario, Canada.\\nname ml Leontiadis GI, affil str Division of Gastroenterology and Farncombe Family Digestive Health Research Institute, McMaster University, Hamilton, Ontario, Canada.\", 'source': 'journal: \"Gut\" ', 'grants': None, 'date': 'year 2018, month 7, day 15, hour 6, minute 0', 'date_received': 'year 2019, month 6, day 9', 'date_accepted': 'year 2019, month 6, day 24', 'date_medline': 'year 2019, month 8, day 15, hour 6, minute 0', 'doi': '10.1136/gutjnl-2018-316958', 'unix': 1531605600, 'unix_received': 1560031200, 'unix_accepted': 1561327200, 'unix_medline': 1565820000, 'team_size': 6, 'share_aff_captured': 1, 'is_eu': 0, 'inter_collab': 0, 'is_coronavirus_lower': 0, 'nb_country': 1, 'country_list': 'Canada'}, {'_id': {'$oid': '60c71e99c4b7559e04007f05'}, 'pmid': 30198430, 'title': 'Aging and Proteins: What Does Proteostasis Have to Do with Age?', 'ISSN': '1875-5666', 'abstract': ' \"The world is aging and we must face the challenges that this brings. One of the reasons for the increasing aging of the world\\\\\\'s population is the increase in life expectancy and, since we live longer, it is of paramount importance to live well and to prevent age-associated diseases. In this way, it is crucial to improve knowledge of the aging process and of the mechanisms that contribute to it. Ideally it would be of great interest to have a panel of biomarkers of healthy aging that would allow an estimate of the biological age of an individual. One of the changes that greatly contribute to aging is the loss of protein homeostasis, also called proteostasis. To ensure the proper function of cells and to maintain cellular proteostasis, organisms have developed systems to control protein synthesis, folding and degradation. Loss or dysfunction of proteostasis is at the root of many well-studied human neurological diseases, such as Alzheimer\\\\\\'s disease and, more recently, it has been implicated in the aging process with some reports showing long-lived animals to have improved proteostasis. Growing evidence suggests a strong link between modifications in the quantity and/or activity of several players involved in proteostasis and longevity. In this review, we give an overview of the main characteristics of aging with focus on proteostasis. We present how changes in components of proteostasis, during aging, impact the lifespan of model organisms. We also briefly review the current state of aging biomarkers and discuss the potential of proteostasis network components as markers of healthy aging.\", ', 'meshwords': 'Aging\\nAnimals \\nHumans \\nModels\\nProteostasis', 'meshsubwords': 'physiology \\nphysiology ', 'authors': 'name ml Magalhaes S, affil str iBiMED - Institute of Biomedicine, Department of Medical Sciences, University of Aveiro, Aveiro, Portugal.; CICECO - Aveiro Institute of Materials, University of Aveiro, Aveiro, Portugal.\\nname ml Goodfellow BJ, affil str CICECO - Aveiro Institute of Materials, University of Aveiro, Aveiro, Portugal.\\nname ml Nunes A, affil str iBiMED - Institute of Biomedicine, Department of Medical Sciences, University of Aveiro, Aveiro, Portugal.', 'source': 'journal: \"Current molecular medicine\" ', 'grants': None, 'date': 'year 2018, month 9, day 11, hour 6, minute 0', 'date_received': 'year 2019, month 5, day 1', 'date_accepted': 'year 2018, month 9, day 4', 'date_medline': 'year 2019, month 10, day 1, hour 6, minute 0', 'doi': '10.2174/1566524018666180907162955', 'unix': 1536616800, 'unix_received': 1556661600, 'unix_accepted': 1536012000, 'unix_medline': 1569880800, 'team_size': 3, 'share_aff_captured': 1, 'is_eu': 1, 'inter_collab': 0, 'is_coronavirus_lower': 0, 'nb_country': 1, 'country_list': 'Portugal'}, {'_id': {'$oid': '60c727b2c4b7559e04032dc1'}, 'pmid': 30377196, 'title': 'The natural history of asymptomatic central venous catheter-related thrombosis in critically ill children.', 'ISSN': '1528-0020', 'abstract': ' \"Asymptomatic central venous catheter (CVC)-related thrombosis in children varies in incidence from 5% to 69%. The rate of acute and long-term complications, such as postthrombotic syndrome (PTS), from asymptomatic CVC-related thrombosis is unknown. This article reports the outcomes of a prospective study of 189 children in pediatric intensive care that aimed to determine the frequency of asymptomatic CVC-related thrombosis during hospital admission, and the incidence of residual CVC-related thrombosis and clinically significant PTS 2 years later. Risk factors associated with CVC-related thrombosis were also identified. This study is distinct from previous work as children identified to have asymptomatic CVC-related thrombosis were not treated (clinical team kept blinded) and the entire cohort was followed for 2 years to determine the natural history of asymptomatic thrombosis. Ultrasounds of 146 children determined a 21.9% incidence of acute CVC-related thrombosis. Two children were symptomatic. No radiological thrombosis extension or clinical embolization occurred in the 126 children assessed at follow-up. Using 2 recognized PTS scales, clinically significant PTS was reported in 2 children (1 symptomatic, 1 asymptomatic CVC-related thrombosis), however, neither had functional impairment. Cardiac arrest was a risk factor for CVC-related thrombosis during admission and femoral CVC placement was predictive of residual thrombosis 2 years later. This study challenges the notion that critically ill children with asymptomatic CVC-related thrombosis require anticoagulant treatment, as the results demonstrate that the incidence of acute or long-term complications is low. A larger confirmatory study of nontreatment of CVC-related thrombosis in critically ill children is justified.\", ', 'meshwords': 'Adolescent \\nCentral Venous Catheters\\nChild \\nChild\\nCritical Illness \\nFemale \\nFollow-Up Studies \\nHumans \\nIncidence \\nInfant \\nInfant\\nMale \\nPostthrombotic Syndrome\\nProspective Studies \\nUltrasonography ', 'meshsubwords': 'adverse effects \\ndiagnostic imaging \\nepidemiology \\nprevention & control ', 'authors': \"name ml Jones S, affil str Department of Paediatrics, The University of Melbourne, Melbourne, VIC, Australia.; Haematology Research Group, Murdoch Children\\\\'s Research Institute, Melbourne, VIC, Australia.; Department of Clinical Haematology, The Royal Children\\\\'s Hospital, Melbourne, VIC, Australia.; Department of Nursing, The University of Melbourne, Melbourne, VIC, Australia; and.\\nname ml Butt W, affil str Department of Paediatrics, The University of Melbourne, Melbourne, VIC, Australia.; Paediatric Intensive Care Unit.\\nname ml Monagle P, affil str Department of Paediatrics, The University of Melbourne, Melbourne, VIC, Australia.; Haematology Research Group, Murdoch Children\\\\'s Research Institute, Melbourne, VIC, Australia.; Department of Clinical Haematology, The Royal Children\\\\'s Hospital, Melbourne, VIC, Australia.\\nname ml Cain T, affil str Medical Imaging Department, and.\\nname ml Newall F, affil str Department of Paediatrics, The University of Melbourne, Melbourne, VIC, Australia.; Haematology Research Group, Murdoch Children\\\\'s Research Institute, Melbourne, VIC, Australia.; Department of Clinical Haematology, The Royal Children\\\\'s Hospital, Melbourne, VIC, Australia.; Department of Nursing, The University of Melbourne, Melbourne, VIC, Australia; and.; Department of Nursing Research, The Royal Children\\\\'s Hospital, Melbourne, VIC, Australia.\", 'source': 'journal: \"Blood\" ', 'grants': None, 'date': 'year 2018, month 11, day 1, hour 6, minute 0', 'date_received': 'year 2019, month 5, day 6', 'date_accepted': 'year 2019, month 10, day 24', 'date_medline': 'year 2019, month 10, day 24, hour 6, minute 0', 'doi': '10.1182/blood-2018-05-849737', 'unix': 1541026800, 'unix_received': 1557093600, 'unix_accepted': 1571868000, 'unix_medline': 1571868000, 'team_size': 5, 'share_aff_captured': 0.8, 'is_eu': 0, 'inter_collab': 0, 'is_coronavirus_lower': 0, 'nb_country': 1, 'country_list': 'Australia'}, {'_id': {'$oid': '60c7299ec4b7559e0403b887'}, 'pmid': 30413661, 'title': '(18)F-FDG PET/CT for Monitoring of Ipilimumab Therapy in Patients with Metastatic Melanoma.', 'ISSN': '1535-5667', 'abstract': ' \"Immune checkpoint inhibitors (ICIs) are now commonly used to treat patients with metastatic malignant melanoma. Although concerns have been raised that the inflammatory response induced by ICIs may limit the ability of (18)F-FDG PET/CT to assess tumor response, systematic analyses on the use of (18)F-FDG PET/CT in this setting are mostly lacking. Thus, we set out to evaluate the association between tumor response on (18)F-FDG PET/CT and prognosis in patients with metastatic malignant melanoma treated with ipilimumab. Methods: We analyzed 60 consecutive patients with metastatic melanoma who underwent (18)F-FDG PET/CT scans both before and after treatment to evaluate treatment response after completion of ipilimumab therapy. Tumor response was assessed by the change in the sum of SULpeak (voxels with the highest average SUL [SUV normalized to lean body mass]) of up to 5 lesions according to PERCIST5. New lesions on PET that appeared suggestive of metastases were considered progressive metabolic disease (PMD). Because immunotherapy may cause new inflammatory lesions that are detectable on (18)F-FDG PET/CT, we also evaluated an immunotherapy-modified response classification (imPERCIST5). In this classification, new lesions do not define PMD per se; rather, PMD requires an increase in the sum of SULpeak by 30%. The correlation between tumor response according to these 3 definitions and overall survival (OS) was evaluated and compared with known prognostic factors. Results: In responders and nonresponders, the 2-y OS was 66% versus 29% for imPERCIST5 (P = 0.003). After multivariate analysis, imPERCIST5 remained prognostic (hazard ratio, 3.853; 95% confidence interval, 1.498-9.911; P = 0.005). New sites of focal (18)F-FDG uptake occurred more often in patients with PMD (n = 24) by imPERCIST5 than in those with stable metabolic disease (n = 7) or partial metabolic response (n = 4). In patients with partial metabolic response, 2 of 4 isolated new lesions regressed spontaneously during follow-up. Conclusion: In patients with metastatic melanoma treated with ipilimumab, tumor response according to PERCIST was associated with OS. Our data suggest that PMD should not be defined by the appearance of new lesions, but rather by an increase in the sum of SULpeak.\", ', 'meshwords': 'Aged \\nFemale \\nFluorodeoxyglucose F18 \\nHumans \\nImmunotherapy \\nIpilimumab\\nMale \\nMelanoma\\nNeoplasm Metastasis \\nPositron Emission Tomography Computed Tomography \\nPrognosis \\nRetrospective Studies \\nTreatment Outcome ', 'meshsubwords': 'therapeutic use \\ndiagnostic imaging \\ndrug therapy \\nimmunology \\npathology ', 'authors': 'name ml Ito K, affil str Department of Radiology, Memorial Sloan Kettering Cancer Center, New York, New York.\\nname ml Teng R, affil str Department of Radiology, Memorial Sloan Kettering Cancer Center, New York, New York.\\nname ml Schoder H, affil str Department of Radiology, Memorial Sloan Kettering Cancer Center, New York, New York schoderh@mskcc.org.\\nname ml Humm JL, affil str Department of Medical Physics, Memorial Sloan Kettering Cancer Center, New York, New York.\\nname ml Ni A, affil str Department of Epidemiology and Biostatistics, Memorial Sloan Kettering Cancer Center, New York, New York.\\nname ml Michaud L, affil str Department of Radiology, Memorial Sloan Kettering Cancer Center, New York, New York.\\nname ml Nakajima R, affil str Department of Radiology, Memorial Sloan Kettering Cancer Center, New York, New York.\\nname ml Yamashita R, affil str Department of Radiology, Memorial Sloan Kettering Cancer Center, New York, New York.\\nname ml Wolchok JD, affil str Department of Medicine, Memorial Sloan Kettering Cancer Center, New York, New York.; Department of Medicine, Weill Cornell Medicine, New York, New York; and.; Parker Institute for Cancer Immunotherapy, San Francisco, California.\\nname ml Weber WA, affil str Department of Radiology, Memorial Sloan Kettering Cancer Center, New York, New York.', 'source': 'journal: \"Journal of nuclear medicine : official publication', 'grants': '  \"P30 CA008748/CA/NCI NIH HHS\" ', 'date': 'year 2018, month 11, day 11, hour 6, minute 0', 'date_received': 'year 2019, month 4, day 25', 'date_accepted': 'year 2019, month 7, day 17', 'date_medline': 'year 2019, month 10, day 28, hour 6, minute 0', 'doi': '10.2967/jnumed.118.213652', 'unix': 1541890800, 'unix_received': 1556143200, 'unix_accepted': 1563314400, 'unix_medline': 1572217200, 'team_size': 10, 'share_aff_captured': 0, 'is_eu': 0, 'inter_collab': 0, 'is_coronavirus_lower': 0, 'nb_country': 0, 'country_list': ''}, {'_id': {'$oid': '60c72a74c4b7559e0403f633'}, 'pmid': 30429676, 'title': 'Evaluation of the analytical performances of the Cobas c513 analyser for HbA1c assay.', 'ISSN': '1330-0962', 'abstract': ' \"Introduction: Haemoglobin A1c (HbA1c) is considered to be the gold standard for the follow-up of glycaemic control in patients with diabetes mellitus and is also a diagnostic tool. Accordingly, reliable and efficient methods must be used for its quantification. Roche Diagnostics have recently adapted the Tina-quant(R) HbA1c Third Generation immunoassay on a fully dedicated analyser, the Cobas c513, which allows a high throughput of up to 400 samples per hour. The present article deals with the evaluation of the analytical performances of this system which has been recently introduced to the market. Materials and methods: Precision, comparison with two ion-exchange high-performance liquid chromatography (HPLC) methods (Variant II and D-100 systems, BioRad Laboratories) using Passing Bablok and Bland-Altman analyses, accuracy and interference of the most frequent haemoglobin (Hb) variants on HbA1c measurement were evaluated. Results: Precision was high, with coefficients of variation lower than 1.1% (HbA1c values expressed in National Glycohemoglobin Standardization Program units, 1.7% for values expressed in International Federation of Clinical Chemistry and Laboratory Medicine [IFCC] units). The comparison study showed similar results with the two HPLC systems. The analysis of samples with IFCC-assigned values showed high methodological accuracy. Finally, no interference of bilirubin, triglycerides and common Hb variants (Hb AC, AD, AE, AS) was observed. Conclusions: This evaluation showed that the analytical performance of the Cobas c513 analyser for HbA1c assay makes it suitable for a routine use in clinical chemistry laboratories.\", ', 'meshwords': 'Blood Chemical Analysis\\nBlood Sedimentation \\nGlycated Hemoglobin A\\nHumans ', 'meshsubwords': 'methods \\nanalysis ', 'authors': 'name ml Jaisson S, affil str Biochemistry Department, University Hospital of Reims, Reims, France.\\nname ml Leroy N, affil str Biochemistry Department, University Hospital of Reims, Reims, France.\\nname ml Soulard M, affil str Bio Paris Ouest Laboratory, Levallois, France.\\nname ml Desmons A, affil str Biochemistry Department, University Hospital of Reims, Reims, France.\\nname ml Guillard E, affil str Biochemistry Department, University Hospital of Reims, Reims, France.\\nname ml Gillery P, affil str Biochemistry Department, University Hospital of Reims, Reims, France.', 'source': 'journal: \"Biochemia medica\" ', 'grants': None, 'date': 'year 2018, month 11, day 16, hour 6, minute 0', 'date_received': 'year 2019, month 1, day 29', 'date_accepted': 'year 2018, month 7, day 4', 'date_medline': 'year 2019, month 4, day 24, hour 6, minute 0', 'doi': '10.11613/BM.2018.030708', 'unix': 1542322800, 'unix_received': 1548716400, 'unix_accepted': 1530655200, 'unix_medline': 1556056800, 'team_size': 6, 'share_aff_captured': 1, 'is_eu': 1, 'inter_collab': 0, 'is_coronavirus_lower': 0, 'nb_country': 1, 'country_list': 'France'}]\n"
     ]
    },
    {
     "ename": "KeyboardInterrupt",
     "evalue": "",
     "output_type": "error",
     "traceback": [
      "\u001b[1;31m---------------------------------------------------------------------------\u001b[0m",
      "\u001b[1;31mKeyboardInterrupt\u001b[0m                         Traceback (most recent call last)",
      "Cell \u001b[1;32mIn[43], line 19\u001b[0m\n\u001b[0;32m     17\u001b[0m writer \u001b[38;5;241m=\u001b[39m csv\u001b[38;5;241m.\u001b[39mDictWriter(file, fieldnames\u001b[38;5;241m=\u001b[39mheaders)\n\u001b[0;32m     18\u001b[0m writer\u001b[38;5;241m.\u001b[39mwriteheader()\n\u001b[1;32m---> 19\u001b[0m writer\u001b[38;5;241m.\u001b[39mwriterows(data)\n",
      "File \u001b[1;32m~\\anaconda3\\Lib\\csv.py:157\u001b[0m, in \u001b[0;36mDictWriter.writerows\u001b[1;34m(self, rowdicts)\u001b[0m\n\u001b[0;32m    156\u001b[0m \u001b[38;5;28;01mdef\u001b[39;00m \u001b[38;5;21mwriterows\u001b[39m(\u001b[38;5;28mself\u001b[39m, rowdicts):\n\u001b[1;32m--> 157\u001b[0m     \u001b[38;5;28;01mreturn\u001b[39;00m \u001b[38;5;28mself\u001b[39m\u001b[38;5;241m.\u001b[39mwriter\u001b[38;5;241m.\u001b[39mwriterows(\u001b[38;5;28mmap\u001b[39m(\u001b[38;5;28mself\u001b[39m\u001b[38;5;241m.\u001b[39m_dict_to_list, rowdicts))\n",
      "\u001b[1;31mKeyboardInterrupt\u001b[0m: "
     ]
    }
   ],
   "source": [
    "import json\n",
    "\n",
    "# Charger le fichier JSON\n",
    "with open(\"C:/Users/sacha/Downloads/pubmed_cleaned (1)/pubmed_cleaned.json\", 'r') as json_file:\n",
    "    data = json.load(json_file)\n",
    "\n",
    "# Afficher les premières lignes du JSON\n",
    "print(data[:5])\n",
    "# Spécifier le chemin d'accès au fichier CSV de sortie\n",
    "csv_file = 'pubmed_cleaned.csv'\n",
    "\n",
    "# Extraire les noms de colonnes en tant qu'en-têtes\n",
    "headers = list(data[0].keys())\n",
    "\n",
    "# Écrire les données JSON dans le fichier CSV\n",
    "with open(csv_file, 'w', newline='', encoding='utf-8') as file:\n",
    "    writer = csv.DictWriter(file, fieldnames=headers)\n",
    "    writer.writeheader()\n",
    "    writer.writerows(data)\n"
   ]
  },
  {
   "cell_type": "code",
   "execution_count": 6,
   "id": "d3d1143a",
   "metadata": {},
   "outputs": [
    {
     "ename": "KeyboardInterrupt",
     "evalue": "",
     "output_type": "error",
     "traceback": [
      "\u001b[1;31m---------------------------------------------------------------------------\u001b[0m",
      "\u001b[1;31mKeyboardInterrupt\u001b[0m                         Traceback (most recent call last)",
      "Cell \u001b[1;32mIn[6], line 26\u001b[0m\n\u001b[0;32m     24\u001b[0m author1 \u001b[38;5;241m=\u001b[39m authors_affiliations[i][\u001b[38;5;241m0\u001b[39m]  \u001b[38;5;66;03m# Nom du premier auteur\u001b[39;00m\n\u001b[0;32m     25\u001b[0m author2 \u001b[38;5;241m=\u001b[39m authors_affiliations[j][\u001b[38;5;241m0\u001b[39m]  \u001b[38;5;66;03m# Nom du deuxième auteur\u001b[39;00m\n\u001b[1;32m---> 26\u001b[0m graph\u001b[38;5;241m.\u001b[39mrun(\n\u001b[0;32m     27\u001b[0m     \u001b[38;5;124m\"\u001b[39m\u001b[38;5;124mMATCH (a:Author \u001b[39m\u001b[38;5;124m{\u001b[39m\u001b[38;5;124mname: $author1}), (b:Author \u001b[39m\u001b[38;5;124m{\u001b[39m\u001b[38;5;124mname: $author2}) \u001b[39m\u001b[38;5;124m\"\u001b[39m\n\u001b[0;32m     28\u001b[0m     \u001b[38;5;124m\"\u001b[39m\u001b[38;5;124mCREATE (a)-[:SAME_TITLE]->(b)\u001b[39m\u001b[38;5;124m\"\u001b[39m,\n\u001b[0;32m     29\u001b[0m     author1\u001b[38;5;241m=\u001b[39mauthor1, author2\u001b[38;5;241m=\u001b[39mauthor2\n\u001b[0;32m     30\u001b[0m )\n",
      "File \u001b[1;32m~\\anaconda3\\Lib\\site-packages\\py2neo\\database.py:405\u001b[0m, in \u001b[0;36mGraph.run\u001b[1;34m(self, cypher, parameters, **kwparameters)\u001b[0m\n\u001b[0;32m    395\u001b[0m \u001b[38;5;28;01mdef\u001b[39;00m \u001b[38;5;21mrun\u001b[39m(\u001b[38;5;28mself\u001b[39m, cypher, parameters\u001b[38;5;241m=\u001b[39m\u001b[38;5;28;01mNone\u001b[39;00m, \u001b[38;5;241m*\u001b[39m\u001b[38;5;241m*\u001b[39mkwparameters):\n\u001b[0;32m    396\u001b[0m \u001b[38;5;250m    \u001b[39m\u001b[38;5;124;03m\"\"\" Run a single read/write query within an auto-commit\u001b[39;00m\n\u001b[0;32m    397\u001b[0m \u001b[38;5;124;03m    :class:`~py2neo.Transaction`.\u001b[39;00m\n\u001b[0;32m    398\u001b[0m \n\u001b[1;32m   (...)\u001b[0m\n\u001b[0;32m    403\u001b[0m \u001b[38;5;124;03m    :return:\u001b[39;00m\n\u001b[0;32m    404\u001b[0m \u001b[38;5;124;03m    \"\"\"\u001b[39;00m\n\u001b[1;32m--> 405\u001b[0m     \u001b[38;5;28;01mreturn\u001b[39;00m \u001b[38;5;28mself\u001b[39m\u001b[38;5;241m.\u001b[39mauto()\u001b[38;5;241m.\u001b[39mrun(cypher, parameters, \u001b[38;5;241m*\u001b[39m\u001b[38;5;241m*\u001b[39mkwparameters)\n",
      "File \u001b[1;32m~\\anaconda3\\Lib\\site-packages\\py2neo\\database.py:992\u001b[0m, in \u001b[0;36mTransaction.run\u001b[1;34m(self, cypher, parameters, **kwparameters)\u001b[0m\n\u001b[0;32m    988\u001b[0m     \u001b[38;5;28;01melse\u001b[39;00m:\n\u001b[0;32m    989\u001b[0m         result \u001b[38;5;241m=\u001b[39m \u001b[38;5;28mself\u001b[39m\u001b[38;5;241m.\u001b[39m_connector\u001b[38;5;241m.\u001b[39mauto_run(cypher, parameters,\n\u001b[0;32m    990\u001b[0m                                           graph_name\u001b[38;5;241m=\u001b[39m\u001b[38;5;28mself\u001b[39m\u001b[38;5;241m.\u001b[39mgraph\u001b[38;5;241m.\u001b[39mname,\n\u001b[0;32m    991\u001b[0m                                           readonly\u001b[38;5;241m=\u001b[39m\u001b[38;5;28mself\u001b[39m\u001b[38;5;241m.\u001b[39mreadonly)\n\u001b[1;32m--> 992\u001b[0m     \u001b[38;5;28mself\u001b[39m\u001b[38;5;241m.\u001b[39m_connector\u001b[38;5;241m.\u001b[39mpull(result, \u001b[38;5;241m-\u001b[39m\u001b[38;5;241m1\u001b[39m)\n\u001b[0;32m    993\u001b[0m     \u001b[38;5;28;01mreturn\u001b[39;00m Cursor(result, hydrant)\n\u001b[0;32m    994\u001b[0m \u001b[38;5;28;01mfinally\u001b[39;00m:\n",
      "File \u001b[1;32m~\\anaconda3\\Lib\\site-packages\\py2neo\\client\\__init__.py:1434\u001b[0m, in \u001b[0;36mConnector.pull\u001b[1;34m(self, result, n)\u001b[0m\n\u001b[0;32m   1432\u001b[0m cx \u001b[38;5;241m=\u001b[39m \u001b[38;5;28mself\u001b[39m\u001b[38;5;241m.\u001b[39m_reacquire(result\u001b[38;5;241m.\u001b[39mtransaction)\n\u001b[0;32m   1433\u001b[0m \u001b[38;5;28;01mtry\u001b[39;00m:\n\u001b[1;32m-> 1434\u001b[0m     cx\u001b[38;5;241m.\u001b[39mpull(result, n\u001b[38;5;241m=\u001b[39mn)\n\u001b[0;32m   1435\u001b[0m \u001b[38;5;28;01mexcept\u001b[39;00m (ConnectionUnavailable, ConnectionBroken):\n\u001b[0;32m   1436\u001b[0m     \u001b[38;5;28mself\u001b[39m\u001b[38;5;241m.\u001b[39mprune(cx\u001b[38;5;241m.\u001b[39mprofile)\n",
      "File \u001b[1;32m~\\anaconda3\\Lib\\site-packages\\py2neo\\client\\bolt.py:995\u001b[0m, in \u001b[0;36mBolt4x0.pull\u001b[1;34m(self, result, n, capacity)\u001b[0m\n\u001b[0;32m    993\u001b[0m result\u001b[38;5;241m.\u001b[39mappend(response, final\u001b[38;5;241m=\u001b[39m(n \u001b[38;5;241m==\u001b[39m \u001b[38;5;241m-\u001b[39m\u001b[38;5;241m1\u001b[39m))\n\u001b[0;32m    994\u001b[0m \u001b[38;5;28;01mtry\u001b[39;00m:\n\u001b[1;32m--> 995\u001b[0m     \u001b[38;5;28mself\u001b[39m\u001b[38;5;241m.\u001b[39m_sync(response)\n\u001b[0;32m    996\u001b[0m \u001b[38;5;28;01mexcept\u001b[39;00m BrokenWireError \u001b[38;5;28;01mas\u001b[39;00m error:\n\u001b[0;32m    997\u001b[0m     result\u001b[38;5;241m.\u001b[39mtransaction\u001b[38;5;241m.\u001b[39mmark_broken()\n",
      "File \u001b[1;32m~\\anaconda3\\Lib\\site-packages\\py2neo\\client\\bolt.py:799\u001b[0m, in \u001b[0;36mBolt1._sync\u001b[1;34m(self, *responses)\u001b[0m\n\u001b[0;32m    797\u001b[0m \u001b[38;5;28mself\u001b[39m\u001b[38;5;241m.\u001b[39msend()\n\u001b[0;32m    798\u001b[0m \u001b[38;5;28;01mfor\u001b[39;00m response \u001b[38;5;129;01min\u001b[39;00m responses:\n\u001b[1;32m--> 799\u001b[0m     \u001b[38;5;28mself\u001b[39m\u001b[38;5;241m.\u001b[39m_wait(response)\n",
      "File \u001b[1;32m~\\anaconda3\\Lib\\site-packages\\py2neo\\client\\bolt.py:794\u001b[0m, in \u001b[0;36mBolt1._wait\u001b[1;34m(self, response)\u001b[0m\n\u001b[0;32m    787\u001b[0m \u001b[38;5;250m\u001b[39m\u001b[38;5;124;03m\"\"\" Read all incoming responses up to and including a\u001b[39;00m\n\u001b[0;32m    788\u001b[0m \u001b[38;5;124;03mparticular response.\u001b[39;00m\n\u001b[0;32m    789\u001b[0m \n\u001b[0;32m    790\u001b[0m \u001b[38;5;124;03mThis method calls fetch, but does not raise an exception on\u001b[39;00m\n\u001b[0;32m    791\u001b[0m \u001b[38;5;124;03mFAILURE.\u001b[39;00m\n\u001b[0;32m    792\u001b[0m \u001b[38;5;124;03m\"\"\"\u001b[39;00m\n\u001b[0;32m    793\u001b[0m \u001b[38;5;28;01mwhile\u001b[39;00m \u001b[38;5;129;01mnot\u001b[39;00m response\u001b[38;5;241m.\u001b[39mfull() \u001b[38;5;129;01mand\u001b[39;00m \u001b[38;5;129;01mnot\u001b[39;00m response\u001b[38;5;241m.\u001b[39mdone():\n\u001b[1;32m--> 794\u001b[0m     \u001b[38;5;28mself\u001b[39m\u001b[38;5;241m.\u001b[39m_fetch()\n",
      "File \u001b[1;32m~\\anaconda3\\Lib\\site-packages\\py2neo\\client\\bolt.py:769\u001b[0m, in \u001b[0;36mBolt1._fetch\u001b[1;34m(self)\u001b[0m\n\u001b[0;32m    760\u001b[0m \u001b[38;5;28;01mdef\u001b[39;00m \u001b[38;5;21m_fetch\u001b[39m(\u001b[38;5;28mself\u001b[39m):\n\u001b[0;32m    761\u001b[0m \u001b[38;5;250m    \u001b[39m\u001b[38;5;124;03m\"\"\" Fetch and process the next incoming message.\u001b[39;00m\n\u001b[0;32m    762\u001b[0m \n\u001b[0;32m    763\u001b[0m \u001b[38;5;124;03m    This method does not raise an exception on receipt of a\u001b[39;00m\n\u001b[1;32m   (...)\u001b[0m\n\u001b[0;32m    767\u001b[0m \u001b[38;5;124;03m    failed state into an exception.\u001b[39;00m\n\u001b[0;32m    768\u001b[0m \u001b[38;5;124;03m    \"\"\"\u001b[39;00m\n\u001b[1;32m--> 769\u001b[0m     tag, fields \u001b[38;5;241m=\u001b[39m \u001b[38;5;28mself\u001b[39m\u001b[38;5;241m.\u001b[39mread_message()\n\u001b[0;32m    770\u001b[0m     \u001b[38;5;28;01mif\u001b[39;00m tag \u001b[38;5;241m==\u001b[39m \u001b[38;5;241m0x70\u001b[39m:\n\u001b[0;32m    771\u001b[0m         \u001b[38;5;28mself\u001b[39m\u001b[38;5;241m.\u001b[39m_responses\u001b[38;5;241m.\u001b[39mpopleft()\u001b[38;5;241m.\u001b[39mset_success(\u001b[38;5;241m*\u001b[39m\u001b[38;5;241m*\u001b[39mfields[\u001b[38;5;241m0\u001b[39m])\n",
      "File \u001b[1;32m~\\anaconda3\\Lib\\site-packages\\py2neo\\client\\bolt.py:696\u001b[0m, in \u001b[0;36mBolt1.read_message\u001b[1;34m(self)\u001b[0m\n\u001b[0;32m    695\u001b[0m \u001b[38;5;28;01mdef\u001b[39;00m \u001b[38;5;21mread_message\u001b[39m(\u001b[38;5;28mself\u001b[39m):\n\u001b[1;32m--> 696\u001b[0m     tag, fields \u001b[38;5;241m=\u001b[39m \u001b[38;5;28mself\u001b[39m\u001b[38;5;241m.\u001b[39m_reader\u001b[38;5;241m.\u001b[39mread_message()\n\u001b[0;32m    697\u001b[0m     \u001b[38;5;28;01mif\u001b[39;00m tag \u001b[38;5;241m==\u001b[39m \u001b[38;5;241m0x71\u001b[39m:\n\u001b[0;32m    698\u001b[0m         \u001b[38;5;66;03m# If a RECORD is received, check for more records\u001b[39;00m\n\u001b[0;32m    699\u001b[0m         \u001b[38;5;66;03m# in the buffer immediately following, and log and\u001b[39;00m\n\u001b[0;32m    700\u001b[0m         \u001b[38;5;66;03m# add them all at the same time\u001b[39;00m\n\u001b[0;32m    701\u001b[0m         \u001b[38;5;28;01mwhile\u001b[39;00m \u001b[38;5;28mself\u001b[39m\u001b[38;5;241m.\u001b[39m_reader\u001b[38;5;241m.\u001b[39mpeek_message() \u001b[38;5;241m==\u001b[39m \u001b[38;5;241m0x71\u001b[39m:\n",
      "File \u001b[1;32m~\\anaconda3\\Lib\\site-packages\\py2neo\\client\\bolt.py:156\u001b[0m, in \u001b[0;36mBoltMessageReader.read_message\u001b[1;34m(self)\u001b[0m\n\u001b[0;32m    154\u001b[0m \u001b[38;5;28;01mwhile\u001b[39;00m \u001b[38;5;28;01mTrue\u001b[39;00m:\n\u001b[0;32m    155\u001b[0m     \u001b[38;5;28;01mtry\u001b[39;00m:\n\u001b[1;32m--> 156\u001b[0m         hi, lo \u001b[38;5;241m=\u001b[39m \u001b[38;5;28mself\u001b[39m\u001b[38;5;241m.\u001b[39mwire\u001b[38;5;241m.\u001b[39mread(\u001b[38;5;241m2\u001b[39m)\n\u001b[0;32m    157\u001b[0m     \u001b[38;5;28;01mexcept\u001b[39;00m WireError \u001b[38;5;28;01mas\u001b[39;00m error:\n\u001b[0;32m    158\u001b[0m         raise_from(ConnectionBroken(\u001b[38;5;124m\"\u001b[39m\u001b[38;5;124mFailed to read message\u001b[39m\u001b[38;5;124m\"\u001b[39m), error)\n",
      "File \u001b[1;32m~\\anaconda3\\Lib\\site-packages\\py2neo\\wiring.py:117\u001b[0m, in \u001b[0;36mWire.read\u001b[1;34m(self, n)\u001b[0m\n\u001b[0;32m    115\u001b[0m requested \u001b[38;5;241m=\u001b[39m \u001b[38;5;28mmax\u001b[39m(required, \u001b[38;5;241m16384\u001b[39m)\n\u001b[0;32m    116\u001b[0m \u001b[38;5;28;01mtry\u001b[39;00m:\n\u001b[1;32m--> 117\u001b[0m     received \u001b[38;5;241m=\u001b[39m \u001b[38;5;28mself\u001b[39m\u001b[38;5;241m.\u001b[39m__socket\u001b[38;5;241m.\u001b[39mrecv(requested)\n\u001b[0;32m    118\u001b[0m \u001b[38;5;28;01mexcept\u001b[39;00m (\u001b[38;5;167;01mIOError\u001b[39;00m, \u001b[38;5;167;01mOSError\u001b[39;00m):\n\u001b[0;32m    119\u001b[0m     \u001b[38;5;28mself\u001b[39m\u001b[38;5;241m.\u001b[39m__mark_broken(\u001b[38;5;124m\"\u001b[39m\u001b[38;5;124mWire broken\u001b[39m\u001b[38;5;124m\"\u001b[39m)\n",
      "\u001b[1;31mKeyboardInterrupt\u001b[0m: "
     ]
    }
   ],
   "source": [
    "import py2neo\n",
    "import json\n",
    "import re\n",
    "graph = py2neo.Graph(\"bolt://localhost:7687\", auth=(\"neo4j\", \"password_tuts\"), name=\"pubmedclean\")\n",
    "# Charger le fichier JSON\n",
    "with open(\"C:/Users/sacha/Downloads/pubmed_cleaned (1)/pubmed_cleaned.json\", 'r') as json_file:\n",
    "    data = json.load(json_file)\n",
    "\n",
    "for entry in data:\n",
    "    # Extraire le titre de l'article\n",
    "    title = entry['title']\n",
    "    \n",
    "    # Extraire les noms et les affiliations des auteurs de l'article actuel\n",
    "    authors_affiliations = re.findall(r'name ml (.*?), affil str (.*?)\\.', entry['authors'])\n",
    "    \n",
    "    # Créer un nœud pour chaque auteur avec le titre et l'affiliation comme attributs\n",
    "    for author, affiliation in authors_affiliations:\n",
    "        author_node = Node(\"Author\", name=author, title=title, affiliation=affiliation)\n",
    "        graph.create(author_node)\n",
    "    \n",
    "    # Créer des arêtes entre les auteurs qui ont le même titre\n",
    "    for i in range(len(authors_affiliations)):\n",
    "        for j in range(i + 1, len(authors_affiliations)):\n",
    "            author1 = authors_affiliations[i][0]  # Nom du premier auteur\n",
    "            author2 = authors_affiliations[j][0]  # Nom du deuxième auteur\n",
    "            graph.run(\n",
    "                \"MATCH (a:Author {name: $author1}), (b:Author {name: $author2}) \"\n",
    "                \"CREATE (a)-[:SAME_TITLE]->(b)\",\n",
    "                author1=author1, author2=author2\n",
    "            )"
   ]
  },
  {
   "cell_type": "markdown",
   "id": "97ef9395",
   "metadata": {},
   "source": [
    "2) Create a density of node degrees. Do you observe a power scale law ? What does it mean ?"
   ]
  },
  {
   "cell_type": "code",
   "execution_count": 7,
   "id": "a15a1962",
   "metadata": {},
   "outputs": [
    {
     "name": "stderr",
     "output_type": "stream",
     "text": [
      "C:\\Users\\sacha\\AppData\\Local\\Temp\\ipykernel_7492\\970564384.py:13: UserWarning: \n",
      "\n",
      "`distplot` is a deprecated function and will be removed in seaborn v0.14.0.\n",
      "\n",
      "Please adapt your code to use either `displot` (a figure-level function with\n",
      "similar flexibility) or `kdeplot` (an axes-level function for kernel density plots).\n",
      "\n",
      "For a guide to updating your code to use the new functions, please see\n",
      "https://gist.github.com/mwaskom/de44147ed2974457ad6372750bbe5751\n",
      "\n",
      "  ax = sns.distplot(data[\"degree\"],hist=False)\n"
     ]
    },
    {
     "data": {
      "image/png": "[encoded data removed]",
      "text/plain": [
       "<Figure size 640x480 with 1 Axes>"
      ]
     },
     "metadata": {},
     "output_type": "display_data"
    }
   ],
   "source": [
    "# density of degrees\n",
    "import seaborn as sns\n",
    "import py2neo\n",
    "import pandas as pd\n",
    "# The WITH clause allows query parts to be chained together, \n",
    "# piping the results from one to be used as starting points or criteria in the next.\n",
    "# size(()-[:RELATION]->(p)) = number of relation that goes into node p  \n",
    "query = \"\"\"\n",
    "MATCH (n)\n",
    "RETURN size((n)-->()) AS degree\n",
    "\"\"\"\n",
    "data = graph.run(query).to_data_frame()\n",
    "ax = sns.distplot(data[\"degree\"],hist=False)\n",
    "ax.title.set_text(\"Density of degrees\")"
   ]
  },
  {
   "cell_type": "markdown",
   "id": "574823df",
   "metadata": {},
   "source": [
    "                   Real World application 4\n",
    "    change the database \"neo4j\" to the database \"movie\". Go to the browser and run on the browser console :play movie-graph\n",
    "    then copy the queries on the console and run it. Congrats you just imported a brand new sample of data. \n",
    "    Answer the following questions with cypher queries.\n"
   ]
  },
  {
   "cell_type": "markdown",
   "id": "d17222db",
   "metadata": {},
   "source": [
    "1) How many actors played in more than 2 movie ? Get their names and year they were born."
   ]
  },
  {
   "cell_type": "code",
   "execution_count": 23,
   "id": "37f96f58",
   "metadata": {},
   "outputs": [
    {
     "name": "stdout",
     "output_type": "stream",
     "text": [
      "Keanu Reeves 1964\n",
      "Carrie-Anne Moss 1967\n",
      "Laurence Fishburne 1961\n",
      "Hugo Weaving 1960\n",
      "Tom Cruise 1962\n",
      "Jack Nicholson 1937\n",
      "Kevin Bacon 1958\n",
      "Cuba Gooding Jr. 1968\n",
      "Meg Ryan 1961\n",
      "Helen Hunt 1963\n",
      "Robin Williams 1951\n",
      "Tom Hanks 1956\n",
      "Gene Hackman 1930\n",
      "Ben Miles 1967\n",
      "Bill Paxton 1955\n"
     ]
    }
   ],
   "source": [
    "import tqdm\n",
    "import py2neo\n",
    "import numpy as np\n",
    "import random\n",
    "from py2neo import Node,Relationship\n",
    "\n",
    "graph = py2neo.Graph(\"bolt://localhost:7687\", auth=(\"neo4j\", \"password_tuts\"), name=\"movie\")\n",
    "\n",
    "\n",
    "\n",
    "# Cypher query to find actors who played in more than 2 movies and get their names and birth years\n",
    "query = \"\"\"\n",
    "MATCH (actor:Person)-[:ACTED_IN]->(movie)\n",
    "WITH actor, COUNT(movie) AS movie_count\n",
    "WHERE movie_count > 2\n",
    "RETURN actor.name AS actor_name, actor.born AS birth_year\n",
    "\"\"\"\n",
    "\n",
    "result = graph.run(query)\n",
    "\n",
    "# Print the names and birth years of actors who played in more than 2 movies\n",
    "for record in result:\n",
    "    print(record[\"actor_name\"], record[\"birth_year\"])\n"
   ]
  },
  {
   "cell_type": "markdown",
   "id": "b43a4314",
   "metadata": {},
   "source": [
    "    2) In how many movies did Tom hanks play ?"
   ]
  },
  {
   "cell_type": "code",
   "execution_count": 3,
   "id": "d840df49",
   "metadata": {},
   "outputs": [
    {
     "name": "stdout",
     "output_type": "stream",
     "text": [
      "Number of movies: 12\n"
     ]
    }
   ],
   "source": [
    "import tqdm\n",
    "import py2neo\n",
    "import numpy as np\n",
    "import random\n",
    "from py2neo import Node,Relationship\n",
    "\n",
    "graph = py2neo.Graph(\"bolt://localhost:7687\", auth=(\"neo4j\", \"password_tuts\"), name=\"movie\")\n",
    "\n",
    "\n",
    "\n",
    "# Define the Cypher query\n",
    "cypher_query = \"\"\"\n",
    "MATCH (tom:Person {name: \"Tom Hanks\"})-[:ACTED_IN]->(movie)\n",
    "RETURN COUNT(movie) AS NumberOfMovies\n",
    "\"\"\"\n",
    "\n",
    "# Execute the Cypher query\n",
    "result = graph.run(cypher_query)\n",
    "\n",
    "# Extract the result\n",
    "number_of_movies = result.evaluate()\n",
    "\n",
    "# Print the result\n",
    "print(\"Number of movies:\", number_of_movies)"
   ]
  },
  {
   "cell_type": "markdown",
   "id": "bab378c0",
   "metadata": {},
   "source": [
    "    3) In average in how many movies do actors play in ?"
   ]
  },
  {
   "cell_type": "code",
   "execution_count": 4,
   "id": "84a355bb",
   "metadata": {},
   "outputs": [
    {
     "name": "stdout",
     "output_type": "stream",
     "text": [
      "Average number of movies per actor: 1.686274509803922\n"
     ]
    }
   ],
   "source": [
    "query = \"\"\"\n",
    "MATCH (actor:Person)-[:ACTED_IN]->(movie)\n",
    "WITH actor, COUNT(movie) AS movieCount\n",
    "RETURN AVG(movieCount) AS AverageMoviesPerActor\n",
    "\"\"\"\n",
    "\n",
    "# Execute the Cypher query\n",
    "result = graph.run(query)\n",
    "\n",
    "# Extract the result\n",
    "average_movies_per_actor = result.evaluate()\n",
    "\n",
    "# Print the result\n",
    "print(\"Average number of movies per actor:\", average_movies_per_actor)"
   ]
  },
  {
   "cell_type": "markdown",
   "id": "86071f49",
   "metadata": {},
   "source": [
    "    4) In average how many actors are there in a movie ?"
   ]
  },
  {
   "cell_type": "code",
   "execution_count": 7,
   "id": "fb36996e",
   "metadata": {},
   "outputs": [
    {
     "name": "stdout",
     "output_type": "stream",
     "text": [
      "Average number of actors per movie: 4.526315789473685\n"
     ]
    }
   ],
   "source": [
    "cypher_query = \"\"\"\n",
    "MATCH (actor:Person)-[:ACTED_IN]->(movie)\n",
    "WITH movie, COUNT(actor) AS actorCount\n",
    "RETURN AVG(actorCount) AS AverageActorsPerMovie\n",
    "\"\"\"\n",
    "\n",
    "# Execute the Cypher query\n",
    "result = graph.run(cypher_query)\n",
    "\n",
    "# Extract the result\n",
    "average_actors_per_movie = result.evaluate()\n",
    "\n",
    "# Print the result\n",
    "print(\"Average number of actors per movie:\", average_actors_per_movie)"
   ]
  },
  {
   "cell_type": "markdown",
   "id": "11505342",
   "metadata": {},
   "source": [
    "    5) In average how many writers is needed to write a movie ?"
   ]
  },
  {
   "cell_type": "code",
   "execution_count": 6,
   "id": "5bab100a",
   "metadata": {},
   "outputs": [
    {
     "name": "stdout",
     "output_type": "stream",
     "text": [
      "Average number of writers per movie: 1.25\n"
     ]
    }
   ],
   "source": [
    "# Define the Cypher query\n",
    "cypher_query = \"\"\"\n",
    "MATCH (writer:Person)-[:WROTE]->(movie)\n",
    "WITH movie, COUNT(writer) AS writerCount\n",
    "RETURN AVG(writerCount) AS AverageWritersPerMovie\n",
    "\"\"\"\n",
    "\n",
    "# Execute the Cypher query\n",
    "result = graph.run(cypher_query)\n",
    "\n",
    "# Extract the result\n",
    "average_writers_per_movie = result.evaluate()\n",
    "\n",
    "# Print the result\n",
    "print(\"Average number of writers per movie:\", average_writers_per_movie)"
   ]
  },
  {
   "cell_type": "markdown",
   "id": "7ea69ac9",
   "metadata": {},
   "source": [
    "    7) Do an histogram of the year of release for the movies."
   ]
  },
  {
   "cell_type": "code",
   "execution_count": 12,
   "id": "b6acf5bf",
   "metadata": {},
   "outputs": [
    {
     "data": {
      "image/png": "[encoded data removed]",
      "text/plain": [
       "<Figure size 1000x600 with 1 Axes>"
      ]
     },
     "metadata": {},
     "output_type": "display_data"
    }
   ],
   "source": [
    "import matplotlib.pyplot as plt\n",
    "\n",
    "# Define the Cypher query\n",
    "cypher_query = \"\"\"\n",
    "MATCH (movie:Movie)\n",
    "WHERE EXISTS(movie.released)\n",
    "RETURN movie.released AS Year, COUNT(*) AS Frequency\n",
    "ORDER BY Year\n",
    "\"\"\"\n",
    "\n",
    "# Execute the Cypher query\n",
    "result = graph.run(cypher_query)\n",
    "\n",
    "# Extract data for histogram\n",
    "years = []\n",
    "frequencies = []\n",
    "for record in result:\n",
    "    years.append(record[\"Year\"])\n",
    "    frequencies.append(record[\"Frequency\"])\n",
    "\n",
    "# Plot the histogram\n",
    "plt.figure(figsize=(10, 6))\n",
    "plt.bar(years, frequencies, color='skyblue')\n",
    "plt.xlabel('Year')\n",
    "plt.ylabel('Frequency')\n",
    "plt.title('Histogram of Movie Release Years')\n",
    "plt.xticks(rotation=45)\n",
    "plt.grid(axis='y', linestyle='--', alpha=0.7)\n",
    "plt.tight_layout()\n",
    "plt.show()"
   ]
  },
  {
   "cell_type": "markdown",
   "id": "ec4c6a99",
   "metadata": {},
   "source": [
    "    8) Who are the 10 actors with the most movie played in"
   ]
  },
  {
   "cell_type": "code",
   "execution_count": 13,
   "id": "2b4dd7a3",
   "metadata": {},
   "outputs": [
    {
     "name": "stdout",
     "output_type": "stream",
     "text": [
      "Top 10 Actors by Number of Movies:\n",
      "Tom Hanks: 12 movies\n",
      "Keanu Reeves: 7 movies\n",
      "Meg Ryan: 5 movies\n",
      "Hugo Weaving: 5 movies\n",
      "Jack Nicholson: 5 movies\n",
      "Cuba Gooding Jr.: 4 movies\n",
      "Laurence Fishburne: 3 movies\n",
      "Carrie-Anne Moss: 3 movies\n",
      "Tom Cruise: 3 movies\n",
      "Kevin Bacon: 3 movies\n"
     ]
    }
   ],
   "source": [
    "cypher_query = \"\"\"\n",
    "MATCH (actor:Person)-[:ACTED_IN]->(movie)\n",
    "RETURN actor.name AS ActorName, COUNT(movie) AS MovieCount\n",
    "ORDER BY MovieCount DESC\n",
    "LIMIT 10\n",
    "\"\"\"\n",
    "\n",
    "# Execute the Cypher query\n",
    "result = graph.run(cypher_query)\n",
    "\n",
    "# Print the top 10 actors based on the number of movies they have acted in\n",
    "print(\"Top 10 Actors by Number of Movies:\")\n",
    "for record in result:\n",
    "    actor_name = record[\"ActorName\"]\n",
    "    movie_count = record[\"MovieCount\"]\n",
    "    print(f\"{actor_name}: {movie_count} movies\")"
   ]
  },
  {
   "cell_type": "markdown",
   "id": "5df3b377",
   "metadata": {},
   "source": [
    "    9) Delete every movie made by a director of your choosing"
   ]
  },
  {
   "cell_type": "code",
   "execution_count": 14,
   "id": "811f5b5e",
   "metadata": {},
   "outputs": [
    {
     "data": {
      "text/html": [
       "(No data)"
      ],
      "text/plain": [
       "(No data)"
      ]
     },
     "execution_count": 14,
     "metadata": {},
     "output_type": "execute_result"
    }
   ],
   "source": [
    "cypher_query = \"\"\"\n",
    "MATCH (director:Person {name: 'Harvey Weinstein'})-[:DIRECTED]->(movie:Movie)\n",
    "DETACH DELETE movie\n",
    "\"\"\"\n",
    "\n",
    "# Execute the Cypher query\n",
    "graph.run(cypher_query)"
   ]
  },
  {
   "cell_type": "markdown",
   "id": "1868bc88",
   "metadata": {},
   "source": [
    "    11) Sandbox exercise: think of a problematic and try to answer it.### Real World application 4"
   ]
  },
  {
   "cell_type": "code",
   "execution_count": 29,
   "id": "88d4c122",
   "metadata": {},
   "outputs": [
    {
     "name": "stdout",
     "output_type": "stream",
     "text": [
      "Top 10 Collaborations:\n",
      "Christina Ricci collaborated with Emile Hirsch (Directed by Lilly Wachowski) in 'Speed Racer' (1 collaborations)\n",
      "Ben Miles collaborated with Emile Hirsch (Directed by Lilly Wachowski) in 'Speed Racer' (1 collaborations)\n",
      "Susan Sarandon collaborated with Emile Hirsch (Directed by Lilly Wachowski) in 'Speed Racer' (1 collaborations)\n",
      "John Goodman collaborated with Emile Hirsch (Directed by Lilly Wachowski) in 'Speed Racer' (1 collaborations)\n",
      "Matthew Fox collaborated with Emile Hirsch (Directed by Lilly Wachowski) in 'Speed Racer' (1 collaborations)\n",
      "Emile Hirsch collaborated with Rain (Directed by Lilly Wachowski) in 'Speed Racer' (1 collaborations)\n",
      "Christina Ricci collaborated with Rain (Directed by Lilly Wachowski) in 'Speed Racer' (1 collaborations)\n",
      "Ben Miles collaborated with Rain (Directed by Lilly Wachowski) in 'Speed Racer' (1 collaborations)\n",
      "Susan Sarandon collaborated with Rain (Directed by Lilly Wachowski) in 'Speed Racer' (1 collaborations)\n",
      "Rain collaborated with Emile Hirsch (Directed by Lilly Wachowski) in 'Speed Racer' (1 collaborations)\n"
     ]
    }
   ],
   "source": [
    "# Cypher query to find the top 10 collaborations\n",
    "query = \"\"\"\n",
    "MATCH (actor:Person)-[:ACTED_IN]->(movie)<-[:DIRECTED]-(director:Person)\n",
    "WITH actor, director, movie\n",
    "MATCH (co_actor:Person)-[:ACTED_IN]->(movie)\n",
    "WHERE co_actor <> actor\n",
    "RETURN actor.name AS actor_name, co_actor.name AS co_actor_name, director.name AS director_name, movie.title AS movie_title, count(*) AS collaboration_count\n",
    "ORDER BY collaboration_count DESC\n",
    "LIMIT 10\n",
    "\"\"\"\n",
    "\n",
    "result = graph.run(query)\n",
    "\n",
    "# Print the result\n",
    "print(\"Top 10 Collaborations:\")\n",
    "for record in result:\n",
    "    actor_name = record[\"actor_name\"]\n",
    "    co_actor_name = record[\"co_actor_name\"]\n",
    "    director_name = record[\"director_name\"]\n",
    "    movie_title = record[\"movie_title\"]\n",
    "    collaboration_count = record[\"collaboration_count\"]\n",
    "    print(f\"{actor_name} collaborated with {co_actor_name} (Directed by {director_name}) in '{movie_title}' ({collaboration_count} collaborations)\")"
   ]
  },
  {
   "cell_type": "markdown",
   "id": "51b37200",
   "metadata": {},
   "source": [
    "##       Real World application 5\n",
    "You will work on a Twitch dataset found here. The goal is to learn more about the feat&fun on Twitch. \n",
    "First thing to do is create the network on Neo4j. Insert the node from Twitch/FR_target and then the edges\n",
    "from Twitch/FR_edges.csv in neo4j. Answer the following using cypher queries"
   ]
  },
  {
   "cell_type": "code",
   "execution_count": 35,
   "id": "3bd6497a",
   "metadata": {},
   "outputs": [],
   "source": [
    "graph = py2neo.Graph(\"bolt://localhost:7687\", auth=(\"neo4j\", \"password_tuts\"), name=\"twitch\")\n",
    "graph.delete_all()"
   ]
  },
  {
   "cell_type": "code",
   "execution_count": 36,
   "id": "da4333c2",
   "metadata": {},
   "outputs": [],
   "source": [
    "graph = py2neo.Graph(\"bolt://localhost:7687\", auth=(\"neo4j\", \"password_tuts\"), name=\"twitch\")\n",
    "with open(\"C:/Users/sacha/Downloads/FR_target.csv\", 'r') as file:\n",
    "    for line in file:\n",
    "        id, days, mature, views, partner, new_id = line.strip().split(',')  \n",
    "        graph.run(\n",
    "            \"CREATE (:TwitchUser {id: $id, days: $days, mature: $mature, views: $views, partner:$partner, new_id:$new_id})\",\n",
    "            {\"id\": id, \"days\": days, \"mature\": mature, \"views\": views, \"partner\":partner, \"new_id\":new_id}\n",
    "        )\n",
    "        "
   ]
  },
  {
   "cell_type": "code",
   "execution_count": 37,
   "id": "cb6aca0d",
   "metadata": {
    "scrolled": true
   },
   "outputs": [
    {
     "ename": "KeyboardInterrupt",
     "evalue": "",
     "output_type": "error",
     "traceback": [
      "\u001b[1;31m---------------------------------------------------------------------------\u001b[0m",
      "\u001b[1;31mKeyboardInterrupt\u001b[0m                         Traceback (most recent call last)",
      "Cell \u001b[1;32mIn[37], line 4\u001b[0m\n\u001b[0;32m      2\u001b[0m \u001b[38;5;28;01mfor\u001b[39;00m line \u001b[38;5;129;01min\u001b[39;00m file:\n\u001b[0;32m      3\u001b[0m     source_id, target_id \u001b[38;5;241m=\u001b[39m line\u001b[38;5;241m.\u001b[39mstrip()\u001b[38;5;241m.\u001b[39msplit(\u001b[38;5;124m'\u001b[39m\u001b[38;5;124m,\u001b[39m\u001b[38;5;124m'\u001b[39m)  \n\u001b[1;32m----> 4\u001b[0m     graph\u001b[38;5;241m.\u001b[39mrun(\n\u001b[0;32m      5\u001b[0m         \u001b[38;5;124m\"\u001b[39m\u001b[38;5;124mMATCH (source:TwitchUser \u001b[39m\u001b[38;5;124m{\u001b[39m\u001b[38;5;124mnew_id: $source_id}) \u001b[39m\u001b[38;5;124m\"\u001b[39m\n\u001b[0;32m      6\u001b[0m         \u001b[38;5;124m\"\u001b[39m\u001b[38;5;124mMATCH (target:TwitchUser \u001b[39m\u001b[38;5;124m{\u001b[39m\u001b[38;5;124mnew_id: $target_id}) \u001b[39m\u001b[38;5;124m\"\u001b[39m\n\u001b[0;32m      7\u001b[0m         \u001b[38;5;124m\"\u001b[39m\u001b[38;5;124mCREATE (source)-[:FOLLOWS]->(target)\u001b[39m\u001b[38;5;124m\"\u001b[39m,\n\u001b[0;32m      8\u001b[0m         {\u001b[38;5;124m\"\u001b[39m\u001b[38;5;124msource_id\u001b[39m\u001b[38;5;124m\"\u001b[39m: source_id, \u001b[38;5;124m\"\u001b[39m\u001b[38;5;124mtarget_id\u001b[39m\u001b[38;5;124m\"\u001b[39m: target_id}\n\u001b[0;32m      9\u001b[0m     )\n",
      "File \u001b[1;32m~\\anaconda3\\Lib\\site-packages\\py2neo\\database.py:405\u001b[0m, in \u001b[0;36mGraph.run\u001b[1;34m(self, cypher, parameters, **kwparameters)\u001b[0m\n\u001b[0;32m    395\u001b[0m \u001b[38;5;28;01mdef\u001b[39;00m \u001b[38;5;21mrun\u001b[39m(\u001b[38;5;28mself\u001b[39m, cypher, parameters\u001b[38;5;241m=\u001b[39m\u001b[38;5;28;01mNone\u001b[39;00m, \u001b[38;5;241m*\u001b[39m\u001b[38;5;241m*\u001b[39mkwparameters):\n\u001b[0;32m    396\u001b[0m \u001b[38;5;250m    \u001b[39m\u001b[38;5;124;03m\"\"\" Run a single read/write query within an auto-commit\u001b[39;00m\n\u001b[0;32m    397\u001b[0m \u001b[38;5;124;03m    :class:`~py2neo.Transaction`.\u001b[39;00m\n\u001b[0;32m    398\u001b[0m \n\u001b[1;32m   (...)\u001b[0m\n\u001b[0;32m    403\u001b[0m \u001b[38;5;124;03m    :return:\u001b[39;00m\n\u001b[0;32m    404\u001b[0m \u001b[38;5;124;03m    \"\"\"\u001b[39;00m\n\u001b[1;32m--> 405\u001b[0m     \u001b[38;5;28;01mreturn\u001b[39;00m \u001b[38;5;28mself\u001b[39m\u001b[38;5;241m.\u001b[39mauto()\u001b[38;5;241m.\u001b[39mrun(cypher, parameters, \u001b[38;5;241m*\u001b[39m\u001b[38;5;241m*\u001b[39mkwparameters)\n",
      "File \u001b[1;32m~\\anaconda3\\Lib\\site-packages\\py2neo\\database.py:992\u001b[0m, in \u001b[0;36mTransaction.run\u001b[1;34m(self, cypher, parameters, **kwparameters)\u001b[0m\n\u001b[0;32m    988\u001b[0m     \u001b[38;5;28;01melse\u001b[39;00m:\n\u001b[0;32m    989\u001b[0m         result \u001b[38;5;241m=\u001b[39m \u001b[38;5;28mself\u001b[39m\u001b[38;5;241m.\u001b[39m_connector\u001b[38;5;241m.\u001b[39mauto_run(cypher, parameters,\n\u001b[0;32m    990\u001b[0m                                           graph_name\u001b[38;5;241m=\u001b[39m\u001b[38;5;28mself\u001b[39m\u001b[38;5;241m.\u001b[39mgraph\u001b[38;5;241m.\u001b[39mname,\n\u001b[0;32m    991\u001b[0m                                           readonly\u001b[38;5;241m=\u001b[39m\u001b[38;5;28mself\u001b[39m\u001b[38;5;241m.\u001b[39mreadonly)\n\u001b[1;32m--> 992\u001b[0m     \u001b[38;5;28mself\u001b[39m\u001b[38;5;241m.\u001b[39m_connector\u001b[38;5;241m.\u001b[39mpull(result, \u001b[38;5;241m-\u001b[39m\u001b[38;5;241m1\u001b[39m)\n\u001b[0;32m    993\u001b[0m     \u001b[38;5;28;01mreturn\u001b[39;00m Cursor(result, hydrant)\n\u001b[0;32m    994\u001b[0m \u001b[38;5;28;01mfinally\u001b[39;00m:\n",
      "File \u001b[1;32m~\\anaconda3\\Lib\\site-packages\\py2neo\\client\\__init__.py:1434\u001b[0m, in \u001b[0;36mConnector.pull\u001b[1;34m(self, result, n)\u001b[0m\n\u001b[0;32m   1432\u001b[0m cx \u001b[38;5;241m=\u001b[39m \u001b[38;5;28mself\u001b[39m\u001b[38;5;241m.\u001b[39m_reacquire(result\u001b[38;5;241m.\u001b[39mtransaction)\n\u001b[0;32m   1433\u001b[0m \u001b[38;5;28;01mtry\u001b[39;00m:\n\u001b[1;32m-> 1434\u001b[0m     cx\u001b[38;5;241m.\u001b[39mpull(result, n\u001b[38;5;241m=\u001b[39mn)\n\u001b[0;32m   1435\u001b[0m \u001b[38;5;28;01mexcept\u001b[39;00m (ConnectionUnavailable, ConnectionBroken):\n\u001b[0;32m   1436\u001b[0m     \u001b[38;5;28mself\u001b[39m\u001b[38;5;241m.\u001b[39mprune(cx\u001b[38;5;241m.\u001b[39mprofile)\n",
      "File \u001b[1;32m~\\anaconda3\\Lib\\site-packages\\py2neo\\client\\bolt.py:995\u001b[0m, in \u001b[0;36mBolt4x0.pull\u001b[1;34m(self, result, n, capacity)\u001b[0m\n\u001b[0;32m    993\u001b[0m result\u001b[38;5;241m.\u001b[39mappend(response, final\u001b[38;5;241m=\u001b[39m(n \u001b[38;5;241m==\u001b[39m \u001b[38;5;241m-\u001b[39m\u001b[38;5;241m1\u001b[39m))\n\u001b[0;32m    994\u001b[0m \u001b[38;5;28;01mtry\u001b[39;00m:\n\u001b[1;32m--> 995\u001b[0m     \u001b[38;5;28mself\u001b[39m\u001b[38;5;241m.\u001b[39m_sync(response)\n\u001b[0;32m    996\u001b[0m \u001b[38;5;28;01mexcept\u001b[39;00m BrokenWireError \u001b[38;5;28;01mas\u001b[39;00m error:\n\u001b[0;32m    997\u001b[0m     result\u001b[38;5;241m.\u001b[39mtransaction\u001b[38;5;241m.\u001b[39mmark_broken()\n",
      "File \u001b[1;32m~\\anaconda3\\Lib\\site-packages\\py2neo\\client\\bolt.py:799\u001b[0m, in \u001b[0;36mBolt1._sync\u001b[1;34m(self, *responses)\u001b[0m\n\u001b[0;32m    797\u001b[0m \u001b[38;5;28mself\u001b[39m\u001b[38;5;241m.\u001b[39msend()\n\u001b[0;32m    798\u001b[0m \u001b[38;5;28;01mfor\u001b[39;00m response \u001b[38;5;129;01min\u001b[39;00m responses:\n\u001b[1;32m--> 799\u001b[0m     \u001b[38;5;28mself\u001b[39m\u001b[38;5;241m.\u001b[39m_wait(response)\n",
      "File \u001b[1;32m~\\anaconda3\\Lib\\site-packages\\py2neo\\client\\bolt.py:794\u001b[0m, in \u001b[0;36mBolt1._wait\u001b[1;34m(self, response)\u001b[0m\n\u001b[0;32m    787\u001b[0m \u001b[38;5;250m\u001b[39m\u001b[38;5;124;03m\"\"\" Read all incoming responses up to and including a\u001b[39;00m\n\u001b[0;32m    788\u001b[0m \u001b[38;5;124;03mparticular response.\u001b[39;00m\n\u001b[0;32m    789\u001b[0m \n\u001b[0;32m    790\u001b[0m \u001b[38;5;124;03mThis method calls fetch, but does not raise an exception on\u001b[39;00m\n\u001b[0;32m    791\u001b[0m \u001b[38;5;124;03mFAILURE.\u001b[39;00m\n\u001b[0;32m    792\u001b[0m \u001b[38;5;124;03m\"\"\"\u001b[39;00m\n\u001b[0;32m    793\u001b[0m \u001b[38;5;28;01mwhile\u001b[39;00m \u001b[38;5;129;01mnot\u001b[39;00m response\u001b[38;5;241m.\u001b[39mfull() \u001b[38;5;129;01mand\u001b[39;00m \u001b[38;5;129;01mnot\u001b[39;00m response\u001b[38;5;241m.\u001b[39mdone():\n\u001b[1;32m--> 794\u001b[0m     \u001b[38;5;28mself\u001b[39m\u001b[38;5;241m.\u001b[39m_fetch()\n",
      "File \u001b[1;32m~\\anaconda3\\Lib\\site-packages\\py2neo\\client\\bolt.py:769\u001b[0m, in \u001b[0;36mBolt1._fetch\u001b[1;34m(self)\u001b[0m\n\u001b[0;32m    760\u001b[0m \u001b[38;5;28;01mdef\u001b[39;00m \u001b[38;5;21m_fetch\u001b[39m(\u001b[38;5;28mself\u001b[39m):\n\u001b[0;32m    761\u001b[0m \u001b[38;5;250m    \u001b[39m\u001b[38;5;124;03m\"\"\" Fetch and process the next incoming message.\u001b[39;00m\n\u001b[0;32m    762\u001b[0m \n\u001b[0;32m    763\u001b[0m \u001b[38;5;124;03m    This method does not raise an exception on receipt of a\u001b[39;00m\n\u001b[1;32m   (...)\u001b[0m\n\u001b[0;32m    767\u001b[0m \u001b[38;5;124;03m    failed state into an exception.\u001b[39;00m\n\u001b[0;32m    768\u001b[0m \u001b[38;5;124;03m    \"\"\"\u001b[39;00m\n\u001b[1;32m--> 769\u001b[0m     tag, fields \u001b[38;5;241m=\u001b[39m \u001b[38;5;28mself\u001b[39m\u001b[38;5;241m.\u001b[39mread_message()\n\u001b[0;32m    770\u001b[0m     \u001b[38;5;28;01mif\u001b[39;00m tag \u001b[38;5;241m==\u001b[39m \u001b[38;5;241m0x70\u001b[39m:\n\u001b[0;32m    771\u001b[0m         \u001b[38;5;28mself\u001b[39m\u001b[38;5;241m.\u001b[39m_responses\u001b[38;5;241m.\u001b[39mpopleft()\u001b[38;5;241m.\u001b[39mset_success(\u001b[38;5;241m*\u001b[39m\u001b[38;5;241m*\u001b[39mfields[\u001b[38;5;241m0\u001b[39m])\n",
      "File \u001b[1;32m~\\anaconda3\\Lib\\site-packages\\py2neo\\client\\bolt.py:696\u001b[0m, in \u001b[0;36mBolt1.read_message\u001b[1;34m(self)\u001b[0m\n\u001b[0;32m    695\u001b[0m \u001b[38;5;28;01mdef\u001b[39;00m \u001b[38;5;21mread_message\u001b[39m(\u001b[38;5;28mself\u001b[39m):\n\u001b[1;32m--> 696\u001b[0m     tag, fields \u001b[38;5;241m=\u001b[39m \u001b[38;5;28mself\u001b[39m\u001b[38;5;241m.\u001b[39m_reader\u001b[38;5;241m.\u001b[39mread_message()\n\u001b[0;32m    697\u001b[0m     \u001b[38;5;28;01mif\u001b[39;00m tag \u001b[38;5;241m==\u001b[39m \u001b[38;5;241m0x71\u001b[39m:\n\u001b[0;32m    698\u001b[0m         \u001b[38;5;66;03m# If a RECORD is received, check for more records\u001b[39;00m\n\u001b[0;32m    699\u001b[0m         \u001b[38;5;66;03m# in the buffer immediately following, and log and\u001b[39;00m\n\u001b[0;32m    700\u001b[0m         \u001b[38;5;66;03m# add them all at the same time\u001b[39;00m\n\u001b[0;32m    701\u001b[0m         \u001b[38;5;28;01mwhile\u001b[39;00m \u001b[38;5;28mself\u001b[39m\u001b[38;5;241m.\u001b[39m_reader\u001b[38;5;241m.\u001b[39mpeek_message() \u001b[38;5;241m==\u001b[39m \u001b[38;5;241m0x71\u001b[39m:\n",
      "File \u001b[1;32m~\\anaconda3\\Lib\\site-packages\\py2neo\\client\\bolt.py:156\u001b[0m, in \u001b[0;36mBoltMessageReader.read_message\u001b[1;34m(self)\u001b[0m\n\u001b[0;32m    154\u001b[0m \u001b[38;5;28;01mwhile\u001b[39;00m \u001b[38;5;28;01mTrue\u001b[39;00m:\n\u001b[0;32m    155\u001b[0m     \u001b[38;5;28;01mtry\u001b[39;00m:\n\u001b[1;32m--> 156\u001b[0m         hi, lo \u001b[38;5;241m=\u001b[39m \u001b[38;5;28mself\u001b[39m\u001b[38;5;241m.\u001b[39mwire\u001b[38;5;241m.\u001b[39mread(\u001b[38;5;241m2\u001b[39m)\n\u001b[0;32m    157\u001b[0m     \u001b[38;5;28;01mexcept\u001b[39;00m WireError \u001b[38;5;28;01mas\u001b[39;00m error:\n\u001b[0;32m    158\u001b[0m         raise_from(ConnectionBroken(\u001b[38;5;124m\"\u001b[39m\u001b[38;5;124mFailed to read message\u001b[39m\u001b[38;5;124m\"\u001b[39m), error)\n",
      "File \u001b[1;32m~\\anaconda3\\Lib\\site-packages\\py2neo\\wiring.py:117\u001b[0m, in \u001b[0;36mWire.read\u001b[1;34m(self, n)\u001b[0m\n\u001b[0;32m    115\u001b[0m requested \u001b[38;5;241m=\u001b[39m \u001b[38;5;28mmax\u001b[39m(required, \u001b[38;5;241m16384\u001b[39m)\n\u001b[0;32m    116\u001b[0m \u001b[38;5;28;01mtry\u001b[39;00m:\n\u001b[1;32m--> 117\u001b[0m     received \u001b[38;5;241m=\u001b[39m \u001b[38;5;28mself\u001b[39m\u001b[38;5;241m.\u001b[39m__socket\u001b[38;5;241m.\u001b[39mrecv(requested)\n\u001b[0;32m    118\u001b[0m \u001b[38;5;28;01mexcept\u001b[39;00m (\u001b[38;5;167;01mIOError\u001b[39;00m, \u001b[38;5;167;01mOSError\u001b[39;00m):\n\u001b[0;32m    119\u001b[0m     \u001b[38;5;28mself\u001b[39m\u001b[38;5;241m.\u001b[39m__mark_broken(\u001b[38;5;124m\"\u001b[39m\u001b[38;5;124mWire broken\u001b[39m\u001b[38;5;124m\"\u001b[39m)\n",
      "\u001b[1;31mKeyboardInterrupt\u001b[0m: "
     ]
    }
   ],
   "source": [
    "with open(\"C:/Users/sacha/Downloads/FR_edges.csv\", 'r') as file:\n",
    "    for line in file:\n",
    "        source_id, target_id = line.strip().split(',')  \n",
    "        graph.run(\n",
    "            \"MATCH (source:TwitchUser {new_id: $source_id}) \"\n",
    "            \"MATCH (target:TwitchUser {new_id: $target_id}) \"\n",
    "            \"CREATE (source)-[:FOLLOWS]->(target)\",\n",
    "            {\"source_id\": source_id, \"target_id\": target_id}\n",
    "        )"
   ]
  },
  {
   "cell_type": "markdown",
   "id": "a4dcb6fa",
   "metadata": {},
   "source": [
    "1) Give the IDs of the top 10 streamers that have atleast one collaboration."
   ]
  },
  {
   "cell_type": "code",
   "execution_count": 38,
   "id": "4c85f435",
   "metadata": {},
   "outputs": [
    {
     "name": "stdout",
     "output_type": "stream",
     "text": [
      "94830708\n",
      "84934926\n",
      "27115917\n",
      "48759454\n",
      "71287551\n",
      "73646532\n",
      "71123283\n",
      "84967471\n",
      "28279435\n",
      "170576709\n"
     ]
    }
   ],
   "source": [
    "query = \"\"\"\n",
    "MATCH (streamer:TwitchUser)-[:FOLLOWS]->(:TwitchUser)\n",
    "WITH streamer, count(*) AS collaborations\n",
    "WHERE collaborations > 0\n",
    "RETURN streamer.id AS streamer_id, collaborations\n",
    "ORDER BY collaborations DESC\n",
    "LIMIT 10\n",
    "\"\"\"\n",
    "\n",
    "# Exécution de la requête Cypher\n",
    "result = graph.run(query)\n",
    "\n",
    "# Affichage des résultats\n",
    "for record in result:\n",
    "    print(record[\"streamer_id\"])\n"
   ]
  },
  {
   "cell_type": "code",
   "execution_count": 14,
   "id": "9cafbf37",
   "metadata": {},
   "outputs": [
    {
     "name": "stdout",
     "output_type": "stream",
     "text": [
      "94830708\n",
      "84934926\n",
      "27115917\n",
      "48759454\n",
      "71287551\n",
      "73646532\n",
      "71123283\n",
      "84967471\n",
      "28279435\n",
      "170576709\n"
     ]
    }
   ],
   "source": [
    "from py2neo import Graph\n",
    "import pandas as pd\n",
    "from scipy.stats import pearsonr\n",
    "\n",
    "# Connect to the Neo4j database\n",
    "graph = Graph(\"bolt://localhost:7687\", auth=(\"neo4j\", \"password_tuts\"), name=\"twitch\")\n",
    "\n",
    "# Define Cypher queries to fe\n",
    "query = \"\"\"\n",
    "MATCH (streamer:TwitchUser)-[:FOLLOWS]->(:TwitchUser)\n",
    "WITH streamer, count(*) AS collaborations\n",
    "WHERE collaborations > 0\n",
    "RETURN streamer.id AS streamer_id, collaborations\n",
    "ORDER BY collaborations DESC\n",
    "LIMIT 10\n",
    "\"\"\"\n",
    "\n",
    "# Exécution de la requête Cypher\n",
    "result = graph.run(query)\n",
    "\n",
    "# Affichage des résultats\n",
    "for record in result:\n",
    "    print(record[\"streamer_id\"])\n"
   ]
  },
  {
   "cell_type": "markdown",
   "id": "d8d2f503",
   "metadata": {},
   "source": [
    "2) Create a density of node degrees. Do you observe a power scale law ? What does it mean ?"
   ]
  },
  {
   "cell_type": "code",
   "execution_count": 40,
   "id": "1a189c47",
   "metadata": {},
   "outputs": [
    {
     "name": "stderr",
     "output_type": "stream",
     "text": [
      "C:\\Users\\sacha\\AppData\\Local\\Temp\\ipykernel_29544\\1155981179.py:11: UserWarning: \n",
      "\n",
      "`distplot` is a deprecated function and will be removed in seaborn v0.14.0.\n",
      "\n",
      "Please adapt your code to use either `displot` (a figure-level function with\n",
      "similar flexibility) or `kdeplot` (an axes-level function for kernel density plots).\n",
      "\n",
      "For a guide to updating your code to use the new functions, please see\n",
      "https://gist.github.com/mwaskom/de44147ed2974457ad6372750bbe5751\n",
      "\n",
      "  ax = sns.distplot(data[\"degree\"],hist=False)\n"
     ]
    },
    {
     "data": {
      "image/png": "[encoded data removed]",
      "text/plain": [
       "<Figure size 640x480 with 1 Axes>"
      ]
     },
     "metadata": {},
     "output_type": "display_data"
    }
   ],
   "source": [
    "# density of degrees\n",
    "import seaborn as sns\n",
    "import py2neo\n",
    "import pandas as pd\n",
    "\n",
    "query = \"\"\"\n",
    "MATCH (n)\n",
    "RETURN size((n)-->()) AS degree\n",
    "\"\"\"\n",
    "data = graph.run(query).to_data_frame()\n",
    "ax = sns.distplot(data[\"degree\"],hist=False)\n",
    "ax.title.set_text(\"Density of degrees\")"
   ]
  },
  {
   "cell_type": "markdown",
   "id": "3dc99816",
   "metadata": {},
   "source": [
    "3) How many streamers has the tag \"mature\" ?"
   ]
  },
  {
   "cell_type": "code",
   "execution_count": 15,
   "id": "74515f55",
   "metadata": {},
   "outputs": [
    {
     "name": "stdout",
     "output_type": "stream",
     "text": [
      "2416\n"
     ]
    }
   ],
   "source": [
    "query = \"\"\"\n",
    "MATCH (streamer:TwitchUser)\n",
    "WHERE streamer.mature = 'True'\n",
    "RETURN COUNT(streamer) AS mature_streamers\n",
    "\"\"\"\n",
    "\n",
    "result = graph.run(query)\n",
    "record = result.next()\n",
    "mature_streamers = record[\"mature_streamers\"]\n",
    "\n",
    "print(mature_streamers)"
   ]
  },
  {
   "cell_type": "markdown",
   "id": "0ff35419",
   "metadata": {},
   "source": [
    "  4) Which country has seen the most international collaboration ?"
   ]
  },
  {
   "cell_type": "code",
   "execution_count": 16,
   "id": "32493b7d",
   "metadata": {},
   "outputs": [
    {
     "name": "stdout",
     "output_type": "stream",
     "text": [
      "Nombre total de collaborations des streamers avec mature=True avec les autres: 4331\n",
      "Nombre total de collaborations des streamers avec mature=False avec les autres: 6311\n"
     ]
    }
   ],
   "source": [
    "query_true = \"\"\"\n",
    "MATCH (streamer:TwitchUser {mature: 'True'})-[:FOLLOWS]->(other:TwitchUser)\n",
    "RETURN COUNT(*) AS total_collaborations_true\n",
    "\"\"\"\n",
    "\n",
    "result_true = graph.run(query_true)\n",
    "\n",
    "record_true = result_true.next()\n",
    "\n",
    "# Nombre total de collaborations des streamers avec mature=True\n",
    "total_collaborations_true = record_true[\"total_collaborations_true\"]\n",
    "\n",
    "query_false = \"\"\"\n",
    "MATCH (streamer:TwitchUser {mature: 'False'})-[:FOLLOWS]->(other:TwitchUser)\n",
    "RETURN COUNT(*) AS total_collaborations_false\n",
    "\"\"\"\n",
    "\n",
    "\n",
    "result_false = graph.run(query_false)\n",
    "\n",
    "\n",
    "record_false = result_false.next()\n",
    "\n",
    "# Nombre total de collaborations des streamers avec mature=False\n",
    "total_collaborations_false = record_false[\"total_collaborations_false\"]\n",
    "\n",
    "\n",
    "print(\"Nombre total de collaborations des streamers avec mature=True avec les autres:\", total_collaborations_true)\n",
    "print(\"Nombre total de collaborations des streamers avec mature=False avec les autres:\", total_collaborations_false)"
   ]
  },
  {
   "cell_type": "markdown",
   "id": "84a4f97e",
   "metadata": {},
   "source": [
    "5) Do partners collaborate more than non partners ?"
   ]
  },
  {
   "cell_type": "code",
   "execution_count": 17,
   "id": "ce37d0d3",
   "metadata": {},
   "outputs": [
    {
     "name": "stdout",
     "output_type": "stream",
     "text": [
      "Nombre total de collaborations des streamers avec partner=True avec les autres: 1975\n",
      "Nombre total de collaborations des streamers avec partner=False avec les autres: 8667\n"
     ]
    }
   ],
   "source": [
    "query_true = \"\"\"\n",
    "MATCH (streamer:TwitchUser {partner: 'True'})-[:FOLLOWS]->(other:TwitchUser)\n",
    "RETURN COUNT(*) AS total_collaborations_partners\n",
    "\"\"\"\n",
    "\n",
    "# Exécution de la requête Cypher\n",
    "result_true = graph.run(query_true)\n",
    "\n",
    "# Récupérer le premier enregistrement dans le curseur\n",
    "record_true = result_true.next()\n",
    "\n",
    "# Nombre total de collaborations des streamers avec partner=True\n",
    "total_collaborations_partners = record_true[\"total_collaborations_partners\"]\n",
    "\n",
    "# Requête Cypher pour compter le nombre total de collaborations des streamers avec partner=False\n",
    "query_false = \"\"\"\n",
    "MATCH (streamer:TwitchUser {partner: 'False'})-[:FOLLOWS]->(other:TwitchUser)\n",
    "RETURN COUNT(*) AS total_collaborations_nonpartners\n",
    "\"\"\"\n",
    "\n",
    "# Exécution de la requête Cypher\n",
    "result_false = graph.run(query_false)\n",
    "\n",
    "# Récupérer le premier enregistrement dans le curseur\n",
    "record_false = result_false.next()\n",
    "\n",
    "# Nombre total de collaborations des streamers avec partner=False\n",
    "total_collaborations_nonpartners = record_false[\"total_collaborations_nonpartners\"]\n",
    "\n",
    "# Affichage des résultats\n",
    "print(\"Nombre total de collaborations des streamers avec partner=True avec les autres:\", total_collaborations_partners)\n",
    "print(\"Nombre total de collaborations des streamers avec partner=False avec les autres:\", total_collaborations_nonpartners)"
   ]
  },
  {
   "cell_type": "markdown",
   "id": "0d874a6c",
   "metadata": {},
   "source": [
    "     Sandbox exercise: think of a problematic and try to answer it."
   ]
  },
  {
   "cell_type": "code",
   "execution_count": 18,
   "id": "84c88f13",
   "metadata": {},
   "outputs": [
    {
     "name": "stdout",
     "output_type": "stream",
     "text": [
      "User ID: 94830708 Followers Count: 462\n",
      "User ID: 84934926 Followers Count: 289\n",
      "User ID: 27115917 Followers Count: 265\n",
      "User ID: 48759454 Followers Count: 232\n",
      "User ID: 71287551 Followers Count: 214\n",
      "User ID: 73646532 Followers Count: 147\n",
      "User ID: 71123283 Followers Count: 135\n",
      "User ID: 84967471 Followers Count: 133\n",
      "User ID: 28279435 Followers Count: 121\n",
      "User ID: 170576709 Followers Count: 119\n"
     ]
    }
   ],
   "source": [
    "from py2neo import Graph\n",
    "\n",
    "# Connect to Neo4j database\n",
    "graph = Graph(\"bolt://localhost:7687\", auth=(\"neo4j\", \"password_tuts\"), name=\"twitch\")\n",
    "\n",
    "# Query to identify influential users based on degree centrality\n",
    "query = \"\"\"\n",
    "MATCH (u:TwitchUser)\n",
    "RETURN u.id AS userId, size((u)-[:FOLLOWS]->()) AS followersCount\n",
    "ORDER BY followersCount DESC\n",
    "LIMIT 10\n",
    "\"\"\"\n",
    "\n",
    "# Execute the query\n",
    "result = graph.run(query)\n",
    "\n",
    "# Print the top 10 influential users\n",
    "for record in result:\n",
    "    print(\"User ID:\", record[\"userId\"], \"Followers Count:\", record[\"followersCount\"])\n"
   ]
  },
  {
   "cell_type": "markdown",
   "id": "54440890",
   "metadata": {},
   "source": [
    "    ## Real World application 6\n",
    "    You will work on a stackoverflow dataset found here. First thing to do is create the network on Neo4j.\n",
    "    You can find the characteristics of the nodes in stack_network_nodes.csv. Once the node are create you can create the edges     between them, you can find them in stack_network_links.csv. The weight of the edge is the column value. Answer the following     making use of cypher queries."
   ]
  },
  {
   "cell_type": "code",
   "execution_count": 27,
   "id": "be160d57",
   "metadata": {},
   "outputs": [
    {
     "name": "stdout",
     "output_type": "stream",
     "text": [
      "Total number of nodes: 345\n",
      "Total number of edges: 4410\n"
     ]
    }
   ],
   "source": [
    "from py2neo import Graph\n",
    "\n",
    "# Connect to the Neo4j database\n",
    "graph = Graph(\"bolt://localhost:7687\", auth=(\"neo4j\", \"password_tuts\"), name=\"starkoverflow\")\n",
    "\n",
    "# Create nodes\n",
    "with open(\"C:/Users/sacha/Downloads/stack_network_nodes.csv\", 'r') as file:\n",
    "    next(file)  # Skip the header row\n",
    "    for line in file:\n",
    "        name, group, nodesize = line.strip().split(',')\n",
    "        query = \"\"\"\n",
    "        CREATE (:Node {name: $name, group: $group, nodesize: $nodesize})\n",
    "        \"\"\"\n",
    "        graph.run(query, name=name, group=group, nodesize=float(nodesize))\n",
    "\n",
    "# Create edges\n",
    "with open(\"C:/Users/sacha/Downloads/stack_network_links.csv\", 'r') as file:\n",
    "    next(file)  # Skip the header row\n",
    "    for line in file:\n",
    "        source, target, value = line.strip().split(',')\n",
    "        query = \"\"\"\n",
    "        MATCH (source:Node {name: $source})\n",
    "        MATCH (target:Node {name: $target})\n",
    "        MERGE (source)-[:LINK {weight: $value}]->(target)\n",
    "        \"\"\"\n",
    "        graph.run(query, source=source, target=target, value=float(value))\n",
    "\n",
    "\n",
    "\n",
    "total_nodes_query = \"\"\"\n",
    "MATCH (n:Node)\n",
    "RETURN count(n) AS TotalNodes\n",
    "\"\"\"\n",
    "total_nodes_result = graph.run(total_nodes_query).to_table()[0][0]  # Extracting the count value\n",
    "print(\"Total number of nodes:\", total_nodes_result)\n",
    "\n",
    "total_edges_query = \"\"\"\n",
    "MATCH ()-[r:LINK]->()\n",
    "RETURN count(r) AS TotalEdges\n",
    "\"\"\"\n",
    "total_edges_result = graph.run(total_edges_query).to_table()[0][0]  # Extracting the count value\n",
    "print(\"Total number of edges:\", total_edges_result)\n"
   ]
  },
  {
   "cell_type": "markdown",
   "id": "3257edcb",
   "metadata": {},
   "source": [
    "  1) What are the 10 most popular keywords ?"
   ]
  },
  {
   "cell_type": "code",
   "execution_count": 28,
   "id": "27174aca",
   "metadata": {},
   "outputs": [
    {
     "name": "stdout",
     "output_type": "stream",
     "text": [
      "Top 10 most popular keywords:\n",
      "javascript - 1947.48\n",
      "java - 1831.9499999999998\n",
      "python - 1316.01\n",
      "php - 1083.66\n",
      "css - 1023.51\n",
      "c# - 963.39\n",
      "html - 817.3499999999999\n",
      "c++ - 804.33\n",
      "android - 689.58\n",
      "jquery - 624.87\n"
     ]
    }
   ],
   "source": [
    "from py2neo import Graph\n",
    "\n",
    "# Connect to the Neo4j database\n",
    "graph = Graph(\"bolt://localhost:7687\", auth=(\"neo4j\", \"password_tuts\"), name=\"starkoverflow\")\n",
    "\n",
    "# Define the Cypher query\n",
    "cypher_query = \"\"\"\n",
    "MATCH (n:Node)\n",
    "RETURN n.name AS Keyword, sum(n.nodesize) AS Popularity\n",
    "ORDER BY Popularity DESC\n",
    "LIMIT 10\n",
    "\"\"\"\n",
    "\n",
    "# Execute the query\n",
    "result = graph.run(cypher_query)\n",
    "\n",
    "# Iterate over the result and print the top 10 keywords\n",
    "print(\"Top 10 most popular keywords:\")\n",
    "for record in result:\n",
    "    print(record[\"Keyword\"], \"-\", record[\"Popularity\"])\n"
   ]
  },
  {
   "cell_type": "markdown",
   "id": "a13cc2dd",
   "metadata": {},
   "source": [
    "  2) What are the top 10 Co-occurence ?"
   ]
  },
  {
   "cell_type": "code",
   "execution_count": 29,
   "id": "e1631629",
   "metadata": {},
   "outputs": [
    {
     "name": "stdout",
     "output_type": "stream",
     "text": [
      "Top 10 co-occurrences:\n",
      "html - jquery : 9\n",
      "html - php : 9\n",
      "html - mysql : 9\n",
      "html - sass : 9\n",
      "css - html : 9\n",
      "css - html5 : 9\n",
      "css - javascript : 9\n",
      "css - jquery : 9\n",
      "css - php : 9\n",
      "html - javascript : 9\n"
     ]
    }
   ],
   "source": [
    "# Define the Cypher query\n",
    "cypher_query = \"\"\"\n",
    "MATCH (k1:Node)-[:LINK]->(k2:Node)\n",
    "WHERE k1.name < k2.name\n",
    "RETURN k1.name AS Keyword1, k2.name AS Keyword2, count(*) AS CoOccurrence\n",
    "ORDER BY CoOccurrence DESC\n",
    "LIMIT 10\n",
    "\"\"\"\n",
    "\n",
    "# Execute the query\n",
    "result = graph.run(cypher_query)\n",
    "\n",
    "# Print the top 10 co-occurrences\n",
    "print(\"Top 10 co-occurrences:\")\n",
    "for record in result:\n",
    "    print(record[\"Keyword1\"], \"-\", record[\"Keyword2\"], \":\", record[\"CoOccurrence\"])"
   ]
  },
  {
   "cell_type": "markdown",
   "id": "f53e9e8b",
   "metadata": {},
   "source": [
    "  3) How many keywords are in group 1 ?"
   ]
  },
  {
   "cell_type": "code",
   "execution_count": 30,
   "id": "3a6a561d",
   "metadata": {},
   "outputs": [
    {
     "name": "stdout",
     "output_type": "stream",
     "text": [
      "Number of keywords in group 1: 30\n"
     ]
    }
   ],
   "source": [
    "cypher_query = \"\"\"\n",
    "MATCH (n:Node)\n",
    "WHERE n.group = '1'\n",
    "RETURN count(n) AS NumberOfKeywordsInGroup1\n",
    "\"\"\"\n",
    "\n",
    "# Execute the query\n",
    "result = graph.run(cypher_query)\n",
    "\n",
    "# Extract the result\n",
    "number_of_keywords = result.evaluate()\n",
    "\n",
    "# Print the result\n",
    "print(\"Number of keywords in group 1:\", number_of_keywords)"
   ]
  },
  {
   "cell_type": "markdown",
   "id": "45afa9c7",
   "metadata": {},
   "source": [
    "  4) Is the Co-occurence correlated to the \"group\" of the keyword ?"
   ]
  },
  {
   "cell_type": "code",
   "execution_count": 31,
   "id": "47f08bbe",
   "metadata": {},
   "outputs": [
    {
     "name": "stdout",
     "output_type": "stream",
     "text": [
      "Co-occurrence within the same group: 3960\n",
      "Co-occurrence across different groups: 450\n"
     ]
    }
   ],
   "source": [
    "from py2neo import Graph\n",
    "\n",
    "# Connect to the Neo4j database\n",
    "graph = Graph(\"bolt://localhost:7687\", auth=(\"neo4j\", \"password_tuts\"), name=\"starkoverflow\")\n",
    "\n",
    "# Define the Cypher query to count co-occurrences within the same group\n",
    "cypher_query_same_group = \"\"\"\n",
    "MATCH (k1:Node)-[:LINK]->(k2:Node)\n",
    "WHERE k1.group = k2.group\n",
    "RETURN count(*) AS CoOccurrenceWithinSameGroup\n",
    "\"\"\"\n",
    "\n",
    "# Define the Cypher query to count co-occurrences across different groups\n",
    "cypher_query_diff_group = \"\"\"\n",
    "MATCH (k1:Node)-[:LINK]->(k2:Node)\n",
    "WHERE k1.group <> k2.group\n",
    "RETURN count(*) AS CoOccurrenceAcrossDifferentGroups\n",
    "\"\"\"\n",
    "\n",
    "# Execute the queries\n",
    "result_same_group = graph.run(cypher_query_same_group).evaluate()\n",
    "result_diff_group = graph.run(cypher_query_diff_group).evaluate()\n",
    "\n",
    "# Print the results\n",
    "print(\"Co-occurrence within the same group:\", result_same_group)\n",
    "print(\"Co-occurrence across different groups:\", result_diff_group)\n"
   ]
  },
  {
   "cell_type": "markdown",
   "id": "268bc99e",
   "metadata": {},
   "source": [
    "    Sandbox exercise: think of a problematic and try to answer it."
   ]
  },
  {
   "cell_type": "code",
   "execution_count": 32,
   "id": "b89065be",
   "metadata": {},
   "outputs": [
    {
     "data": {
      "image/png": "[encoded data removed]",
      "text/plain": [
       "<Figure size 640x480 with 1 Axes>"
      ]
     },
     "metadata": {},
     "output_type": "display_data"
    },
    {
     "name": "stdout",
     "output_type": "stream",
     "text": [
      "Correlation coefficient: 0.23155028380687043\n"
     ]
    }
   ],
   "source": [
    "from py2neo import Graph\n",
    "import pandas as pd\n",
    "import matplotlib.pyplot as plt\n",
    "\n",
    "# Connect to the Neo4j database\n",
    "graph = Graph(\"bolt://localhost:7687\", auth=(\"neo4j\", \"password_tuts\"), name=\"starkoverflow\")\n",
    "\n",
    "# Define the Cypher query\n",
    "cypher_query = \"\"\"\n",
    "MATCH (k1:Node)-[:LINK]->(k2:Node)\n",
    "WITH k1, AVG(k2.nodesize) AS AvgPopularityCoOccur\n",
    "RETURN k1.name AS Keyword, k1.nodesize AS Popularity, AvgPopularityCoOccur\n",
    "\"\"\"\n",
    "\n",
    "# Execute the query and store the result in a DataFrame\n",
    "result = graph.run(cypher_query).to_data_frame()\n",
    "\n",
    "# Calculate correlation coefficient\n",
    "correlation_coefficient = result[\"Popularity\"].corr(result[\"AvgPopularityCoOccur\"])\n",
    "\n",
    "# Visualize the relationship\n",
    "plt.scatter(result[\"Popularity\"], result[\"AvgPopularityCoOccur\"])\n",
    "plt.xlabel(\"Popularity of Keyword\")\n",
    "plt.ylabel(\"Average Popularity of Co-occurring Keywords\")\n",
    "plt.title(\"Relationship between Keyword Popularity and Co-occurrence\")\n",
    "plt.show()\n",
    "\n",
    "# Print the correlation coefficient\n",
    "print(\"Correlation coefficient:\", correlation_coefficient)\n"
   ]
  }
 ],
 "metadata": {
  "kernelspec": {
   "display_name": "Python 3 (ipykernel)",
   "language": "python",
   "name": "python3"
  },
  "language_info": {
   "codemirror_mode": {
    "name": "ipython",
    "version": 3
   },
   "file_extension": ".py",
   "mimetype": "text/x-python",
   "name": "python",
   "nbconvert_exporter": "python",
   "pygments_lexer": "ipython3",
   "version": "3.11.5"
  }
 },
 "nbformat": 4,
 "nbformat_minor": 5
}
