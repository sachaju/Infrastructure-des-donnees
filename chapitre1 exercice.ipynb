{
 "cells": [
  {
   "cell_type": "markdown",
   "id": "10de8272",
   "metadata": {},
   "source": [
    "   SQLITE"
   ]
  },
  {
   "cell_type": "markdown",
   "id": "7cf20718",
   "metadata": {},
   "source": [
    "Question 1: Read all the data from bc.csv, how many rows is there ? Columns ?"
   ]
  },
  {
   "cell_type": "code",
   "execution_count": 1,
   "id": "a0d366cd",
   "metadata": {},
   "outputs": [
    {
     "data": {
      "text/html": [
       "<div>\n",
       "<style scoped>\n",
       "    .dataframe tbody tr th:only-of-type {\n",
       "        vertical-align: middle;\n",
       "    }\n",
       "\n",
       "    .dataframe tbody tr th {\n",
       "        vertical-align: top;\n",
       "    }\n",
       "\n",
       "    .dataframe thead th {\n",
       "        text-align: right;\n",
       "    }\n",
       "</style>\n",
       "<table border=\"1\" class=\"dataframe\">\n",
       "  <thead>\n",
       "    <tr style=\"text-align: right;\">\n",
       "      <th></th>\n",
       "      <th>id</th>\n",
       "      <th>diagnosis</th>\n",
       "      <th>radius_mean</th>\n",
       "      <th>texture_mean</th>\n",
       "      <th>perimeter_mean</th>\n",
       "      <th>area_mean</th>\n",
       "      <th>smoothness_mean</th>\n",
       "      <th>compactness_mean</th>\n",
       "      <th>concavity_mean</th>\n",
       "      <th>concave points_mean</th>\n",
       "      <th>...</th>\n",
       "      <th>texture_worst</th>\n",
       "      <th>perimeter_worst</th>\n",
       "      <th>area_worst</th>\n",
       "      <th>smoothness_worst</th>\n",
       "      <th>compactness_worst</th>\n",
       "      <th>concavity_worst</th>\n",
       "      <th>concave points_worst</th>\n",
       "      <th>symmetry_worst</th>\n",
       "      <th>fractal_dimension_worst</th>\n",
       "      <th>Unnamed: 32</th>\n",
       "    </tr>\n",
       "  </thead>\n",
       "  <tbody>\n",
       "    <tr>\n",
       "      <th>0</th>\n",
       "      <td>842302</td>\n",
       "      <td>M</td>\n",
       "      <td>17.99</td>\n",
       "      <td>10.38</td>\n",
       "      <td>122.80</td>\n",
       "      <td>1001.0</td>\n",
       "      <td>0.11840</td>\n",
       "      <td>0.27760</td>\n",
       "      <td>0.30010</td>\n",
       "      <td>0.14710</td>\n",
       "      <td>...</td>\n",
       "      <td>17.33</td>\n",
       "      <td>184.60</td>\n",
       "      <td>2019.0</td>\n",
       "      <td>0.16220</td>\n",
       "      <td>0.66560</td>\n",
       "      <td>0.7119</td>\n",
       "      <td>0.2654</td>\n",
       "      <td>0.4601</td>\n",
       "      <td>0.11890</td>\n",
       "      <td>NaN</td>\n",
       "    </tr>\n",
       "    <tr>\n",
       "      <th>1</th>\n",
       "      <td>842517</td>\n",
       "      <td>M</td>\n",
       "      <td>20.57</td>\n",
       "      <td>17.77</td>\n",
       "      <td>132.90</td>\n",
       "      <td>1326.0</td>\n",
       "      <td>0.08474</td>\n",
       "      <td>0.07864</td>\n",
       "      <td>0.08690</td>\n",
       "      <td>0.07017</td>\n",
       "      <td>...</td>\n",
       "      <td>23.41</td>\n",
       "      <td>158.80</td>\n",
       "      <td>1956.0</td>\n",
       "      <td>0.12380</td>\n",
       "      <td>0.18660</td>\n",
       "      <td>0.2416</td>\n",
       "      <td>0.1860</td>\n",
       "      <td>0.2750</td>\n",
       "      <td>0.08902</td>\n",
       "      <td>NaN</td>\n",
       "    </tr>\n",
       "    <tr>\n",
       "      <th>2</th>\n",
       "      <td>84300903</td>\n",
       "      <td>M</td>\n",
       "      <td>19.69</td>\n",
       "      <td>21.25</td>\n",
       "      <td>130.00</td>\n",
       "      <td>1203.0</td>\n",
       "      <td>0.10960</td>\n",
       "      <td>0.15990</td>\n",
       "      <td>0.19740</td>\n",
       "      <td>0.12790</td>\n",
       "      <td>...</td>\n",
       "      <td>25.53</td>\n",
       "      <td>152.50</td>\n",
       "      <td>1709.0</td>\n",
       "      <td>0.14440</td>\n",
       "      <td>0.42450</td>\n",
       "      <td>0.4504</td>\n",
       "      <td>0.2430</td>\n",
       "      <td>0.3613</td>\n",
       "      <td>0.08758</td>\n",
       "      <td>NaN</td>\n",
       "    </tr>\n",
       "    <tr>\n",
       "      <th>3</th>\n",
       "      <td>84348301</td>\n",
       "      <td>M</td>\n",
       "      <td>11.42</td>\n",
       "      <td>20.38</td>\n",
       "      <td>77.58</td>\n",
       "      <td>386.1</td>\n",
       "      <td>0.14250</td>\n",
       "      <td>0.28390</td>\n",
       "      <td>0.24140</td>\n",
       "      <td>0.10520</td>\n",
       "      <td>...</td>\n",
       "      <td>26.50</td>\n",
       "      <td>98.87</td>\n",
       "      <td>567.7</td>\n",
       "      <td>0.20980</td>\n",
       "      <td>0.86630</td>\n",
       "      <td>0.6869</td>\n",
       "      <td>0.2575</td>\n",
       "      <td>0.6638</td>\n",
       "      <td>0.17300</td>\n",
       "      <td>NaN</td>\n",
       "    </tr>\n",
       "    <tr>\n",
       "      <th>4</th>\n",
       "      <td>84358402</td>\n",
       "      <td>M</td>\n",
       "      <td>20.29</td>\n",
       "      <td>14.34</td>\n",
       "      <td>135.10</td>\n",
       "      <td>1297.0</td>\n",
       "      <td>0.10030</td>\n",
       "      <td>0.13280</td>\n",
       "      <td>0.19800</td>\n",
       "      <td>0.10430</td>\n",
       "      <td>...</td>\n",
       "      <td>16.67</td>\n",
       "      <td>152.20</td>\n",
       "      <td>1575.0</td>\n",
       "      <td>0.13740</td>\n",
       "      <td>0.20500</td>\n",
       "      <td>0.4000</td>\n",
       "      <td>0.1625</td>\n",
       "      <td>0.2364</td>\n",
       "      <td>0.07678</td>\n",
       "      <td>NaN</td>\n",
       "    </tr>\n",
       "    <tr>\n",
       "      <th>...</th>\n",
       "      <td>...</td>\n",
       "      <td>...</td>\n",
       "      <td>...</td>\n",
       "      <td>...</td>\n",
       "      <td>...</td>\n",
       "      <td>...</td>\n",
       "      <td>...</td>\n",
       "      <td>...</td>\n",
       "      <td>...</td>\n",
       "      <td>...</td>\n",
       "      <td>...</td>\n",
       "      <td>...</td>\n",
       "      <td>...</td>\n",
       "      <td>...</td>\n",
       "      <td>...</td>\n",
       "      <td>...</td>\n",
       "      <td>...</td>\n",
       "      <td>...</td>\n",
       "      <td>...</td>\n",
       "      <td>...</td>\n",
       "      <td>...</td>\n",
       "    </tr>\n",
       "    <tr>\n",
       "      <th>564</th>\n",
       "      <td>926424</td>\n",
       "      <td>M</td>\n",
       "      <td>21.56</td>\n",
       "      <td>22.39</td>\n",
       "      <td>142.00</td>\n",
       "      <td>1479.0</td>\n",
       "      <td>0.11100</td>\n",
       "      <td>0.11590</td>\n",
       "      <td>0.24390</td>\n",
       "      <td>0.13890</td>\n",
       "      <td>...</td>\n",
       "      <td>26.40</td>\n",
       "      <td>166.10</td>\n",
       "      <td>2027.0</td>\n",
       "      <td>0.14100</td>\n",
       "      <td>0.21130</td>\n",
       "      <td>0.4107</td>\n",
       "      <td>0.2216</td>\n",
       "      <td>0.2060</td>\n",
       "      <td>0.07115</td>\n",
       "      <td>NaN</td>\n",
       "    </tr>\n",
       "    <tr>\n",
       "      <th>565</th>\n",
       "      <td>926682</td>\n",
       "      <td>M</td>\n",
       "      <td>20.13</td>\n",
       "      <td>28.25</td>\n",
       "      <td>131.20</td>\n",
       "      <td>1261.0</td>\n",
       "      <td>0.09780</td>\n",
       "      <td>0.10340</td>\n",
       "      <td>0.14400</td>\n",
       "      <td>0.09791</td>\n",
       "      <td>...</td>\n",
       "      <td>38.25</td>\n",
       "      <td>155.00</td>\n",
       "      <td>1731.0</td>\n",
       "      <td>0.11660</td>\n",
       "      <td>0.19220</td>\n",
       "      <td>0.3215</td>\n",
       "      <td>0.1628</td>\n",
       "      <td>0.2572</td>\n",
       "      <td>0.06637</td>\n",
       "      <td>NaN</td>\n",
       "    </tr>\n",
       "    <tr>\n",
       "      <th>566</th>\n",
       "      <td>926954</td>\n",
       "      <td>M</td>\n",
       "      <td>16.60</td>\n",
       "      <td>28.08</td>\n",
       "      <td>108.30</td>\n",
       "      <td>858.1</td>\n",
       "      <td>0.08455</td>\n",
       "      <td>0.10230</td>\n",
       "      <td>0.09251</td>\n",
       "      <td>0.05302</td>\n",
       "      <td>...</td>\n",
       "      <td>34.12</td>\n",
       "      <td>126.70</td>\n",
       "      <td>1124.0</td>\n",
       "      <td>0.11390</td>\n",
       "      <td>0.30940</td>\n",
       "      <td>0.3403</td>\n",
       "      <td>0.1418</td>\n",
       "      <td>0.2218</td>\n",
       "      <td>0.07820</td>\n",
       "      <td>NaN</td>\n",
       "    </tr>\n",
       "    <tr>\n",
       "      <th>567</th>\n",
       "      <td>927241</td>\n",
       "      <td>M</td>\n",
       "      <td>20.60</td>\n",
       "      <td>29.33</td>\n",
       "      <td>140.10</td>\n",
       "      <td>1265.0</td>\n",
       "      <td>0.11780</td>\n",
       "      <td>0.27700</td>\n",
       "      <td>0.35140</td>\n",
       "      <td>0.15200</td>\n",
       "      <td>...</td>\n",
       "      <td>39.42</td>\n",
       "      <td>184.60</td>\n",
       "      <td>1821.0</td>\n",
       "      <td>0.16500</td>\n",
       "      <td>0.86810</td>\n",
       "      <td>0.9387</td>\n",
       "      <td>0.2650</td>\n",
       "      <td>0.4087</td>\n",
       "      <td>0.12400</td>\n",
       "      <td>NaN</td>\n",
       "    </tr>\n",
       "    <tr>\n",
       "      <th>568</th>\n",
       "      <td>92751</td>\n",
       "      <td>B</td>\n",
       "      <td>7.76</td>\n",
       "      <td>24.54</td>\n",
       "      <td>47.92</td>\n",
       "      <td>181.0</td>\n",
       "      <td>0.05263</td>\n",
       "      <td>0.04362</td>\n",
       "      <td>0.00000</td>\n",
       "      <td>0.00000</td>\n",
       "      <td>...</td>\n",
       "      <td>30.37</td>\n",
       "      <td>59.16</td>\n",
       "      <td>268.6</td>\n",
       "      <td>0.08996</td>\n",
       "      <td>0.06444</td>\n",
       "      <td>0.0000</td>\n",
       "      <td>0.0000</td>\n",
       "      <td>0.2871</td>\n",
       "      <td>0.07039</td>\n",
       "      <td>NaN</td>\n",
       "    </tr>\n",
       "  </tbody>\n",
       "</table>\n",
       "<p>569 rows × 33 columns</p>\n",
       "</div>"
      ],
      "text/plain": [
       "           id diagnosis  radius_mean  texture_mean  perimeter_mean  area_mean  \\\n",
       "0      842302         M        17.99         10.38          122.80     1001.0   \n",
       "1      842517         M        20.57         17.77          132.90     1326.0   \n",
       "2    84300903         M        19.69         21.25          130.00     1203.0   \n",
       "3    84348301         M        11.42         20.38           77.58      386.1   \n",
       "4    84358402         M        20.29         14.34          135.10     1297.0   \n",
       "..        ...       ...          ...           ...             ...        ...   \n",
       "564    926424         M        21.56         22.39          142.00     1479.0   \n",
       "565    926682         M        20.13         28.25          131.20     1261.0   \n",
       "566    926954         M        16.60         28.08          108.30      858.1   \n",
       "567    927241         M        20.60         29.33          140.10     1265.0   \n",
       "568     92751         B         7.76         24.54           47.92      181.0   \n",
       "\n",
       "     smoothness_mean  compactness_mean  concavity_mean  concave points_mean  \\\n",
       "0            0.11840           0.27760         0.30010              0.14710   \n",
       "1            0.08474           0.07864         0.08690              0.07017   \n",
       "2            0.10960           0.15990         0.19740              0.12790   \n",
       "3            0.14250           0.28390         0.24140              0.10520   \n",
       "4            0.10030           0.13280         0.19800              0.10430   \n",
       "..               ...               ...             ...                  ...   \n",
       "564          0.11100           0.11590         0.24390              0.13890   \n",
       "565          0.09780           0.10340         0.14400              0.09791   \n",
       "566          0.08455           0.10230         0.09251              0.05302   \n",
       "567          0.11780           0.27700         0.35140              0.15200   \n",
       "568          0.05263           0.04362         0.00000              0.00000   \n",
       "\n",
       "     ...  texture_worst  perimeter_worst  area_worst  smoothness_worst  \\\n",
       "0    ...          17.33           184.60      2019.0           0.16220   \n",
       "1    ...          23.41           158.80      1956.0           0.12380   \n",
       "2    ...          25.53           152.50      1709.0           0.14440   \n",
       "3    ...          26.50            98.87       567.7           0.20980   \n",
       "4    ...          16.67           152.20      1575.0           0.13740   \n",
       "..   ...            ...              ...         ...               ...   \n",
       "564  ...          26.40           166.10      2027.0           0.14100   \n",
       "565  ...          38.25           155.00      1731.0           0.11660   \n",
       "566  ...          34.12           126.70      1124.0           0.11390   \n",
       "567  ...          39.42           184.60      1821.0           0.16500   \n",
       "568  ...          30.37            59.16       268.6           0.08996   \n",
       "\n",
       "     compactness_worst  concavity_worst  concave points_worst  symmetry_worst  \\\n",
       "0              0.66560           0.7119                0.2654          0.4601   \n",
       "1              0.18660           0.2416                0.1860          0.2750   \n",
       "2              0.42450           0.4504                0.2430          0.3613   \n",
       "3              0.86630           0.6869                0.2575          0.6638   \n",
       "4              0.20500           0.4000                0.1625          0.2364   \n",
       "..                 ...              ...                   ...             ...   \n",
       "564            0.21130           0.4107                0.2216          0.2060   \n",
       "565            0.19220           0.3215                0.1628          0.2572   \n",
       "566            0.30940           0.3403                0.1418          0.2218   \n",
       "567            0.86810           0.9387                0.2650          0.4087   \n",
       "568            0.06444           0.0000                0.0000          0.2871   \n",
       "\n",
       "     fractal_dimension_worst  Unnamed: 32  \n",
       "0                    0.11890          NaN  \n",
       "1                    0.08902          NaN  \n",
       "2                    0.08758          NaN  \n",
       "3                    0.17300          NaN  \n",
       "4                    0.07678          NaN  \n",
       "..                       ...          ...  \n",
       "564                  0.07115          NaN  \n",
       "565                  0.06637          NaN  \n",
       "566                  0.07820          NaN  \n",
       "567                  0.12400          NaN  \n",
       "568                  0.07039          NaN  \n",
       "\n",
       "[569 rows x 33 columns]"
      ]
     },
     "execution_count": 1,
     "metadata": {},
     "output_type": "execute_result"
    }
   ],
   "source": [
    "import pandas as pd\n",
    "\n",
    "df = pd.read_csv(\"C:/Users/sacha/Downloads/bc.csv\")\n",
    "df\n",
    "##il y a 569lignes et 33 colonnes"
   ]
  },
  {
   "cell_type": "markdown",
   "id": "59a28e28",
   "metadata": {},
   "source": [
    "2) Insert the bc.csv in the sqlite format."
   ]
  },
  {
   "cell_type": "markdown",
   "id": "923376d0",
   "metadata": {},
   "source": [
    "DB browser"
   ]
  },
  {
   "cell_type": "markdown",
   "id": "f4bc60a9",
   "metadata": {},
   "source": [
    "3) In the same db create a new table called tomatch with two variables id_ and rdm_float."
   ]
  },
  {
   "cell_type": "code",
   "execution_count": 6,
   "id": "85426caf",
   "metadata": {},
   "outputs": [],
   "source": [
    "import sqlite3\n",
    "import pandas as pd\n",
    "\n",
    "\n",
    "conn = sqlite3.connect(\"C:/Users/sacha/OneDrive/Documents/No SQL/bc_table.db\")\n",
    "c = conn.cursor()\n",
    "\n",
    "\n",
    "def create_table_tomatch():\n",
    "    try:\n",
    "        c.execute(\"\"\"CREATE TABLE IF NOT EXISTS tomatch(\"id\" INT PRIMARY KEY, \"rdm\" FLOAT)\"\"\")\n",
    "        conn.commit()\n",
    "    except Exception as e:\n",
    "        print(str(e))\n",
    "        \n",
    "\n",
    "create_table_tomatch()"
   ]
  },
  {
   "cell_type": "code",
   "execution_count": 3,
   "id": "372f3baa",
   "metadata": {},
   "outputs": [],
   "source": [
    "sqlite3.connect(\"C:/Users/sacha/OneDrive/Documents/No SQL/bc_table.db\").close()"
   ]
  },
  {
   "cell_type": "markdown",
   "id": "5a77843d",
   "metadata": {},
   "source": [
    "4) In the table tomatch insert observations where the id_ starts from 50k, ends at 10000000 and is only even numbers. rdm_float is a random float for each observation."
   ]
  },
  {
   "cell_type": "code",
   "execution_count": 7,
   "id": "7fa2da72",
   "metadata": {},
   "outputs": [
    {
     "name": "stderr",
     "output_type": "stream",
     "text": [
      "100%|██████████| 4975000/4975000 [00:18<00:00, 264134.67it/s]\n"
     ]
    }
   ],
   "source": [
    "import tqdm\n",
    "import random as rd\n",
    "\n",
    "query = \"\"\"INSERT INTO tomatch(\"id\", \"rdm\") VALUES (?, ?)\"\"\"\n",
    "\n",
    "list_of_insertion = []\n",
    "for i in tqdm.tqdm(range(50000,10000000,2)):\n",
    "    values = (i,rd.random())\n",
    "    list_of_insertion.append(values)\n",
    "    if len(list_of_insertion) == 10000:\n",
    "        c.executemany(query, list_of_insertion)\n",
    "        list_of_insertion = []\n",
    "conn.commit()"
   ]
  },
  {
   "cell_type": "markdown",
   "id": "3314bc39",
   "metadata": {},
   "source": [
    "5) Do an Inner join between the two tables and compute the different aggregate functions on a column of your choice."
   ]
  },
  {
   "cell_type": "code",
   "execution_count": 2,
   "id": "af511f89",
   "metadata": {},
   "outputs": [
    {
     "name": "stdout",
     "output_type": "stream",
     "text": [
      "[(14.010595041322313, 484, 28.11, 6.981)]\n"
     ]
    }
   ],
   "source": [
    "import sqlite3\n",
    "\n",
    "conn = sqlite3.connect('C:/Users/sacha/OneDrive/Documents/No SQL/bc_table.db')\n",
    "c = conn.cursor()\n",
    "\n",
    "c.execute(\"\"\"SELECT AVG(bc.radius_mean), COUNT(bc.radius_mean), MAX(bc.radius_mean), MIN(bc.radius_mean)\n",
    "             FROM bc\n",
    "             INNER JOIN tomatch ON bc.id = tomatch.id\"\"\")\n",
    "\n",
    "docs = c.fetchall()\n",
    "print(docs)"
   ]
  },
  {
   "cell_type": "markdown",
   "id": "c034f419",
   "metadata": {},
   "source": [
    "6) How many observations have a radius_mean greater than 15 ? From them how many have a texture_mean greater than 20 ?"
   ]
  },
  {
   "cell_type": "code",
   "execution_count": 3,
   "id": "5b1ae5b5",
   "metadata": {},
   "outputs": [
    {
     "name": "stdout",
     "output_type": "stream",
     "text": [
      "[(106,)]\n"
     ]
    }
   ],
   "source": [
    "c.execute( \"\"\"SELECT COUNT(*) FROM bc WHERE radius_mean > 15 AND texture_mean > 20 \"\"\")\n",
    "docs=c.fetchall()\n",
    "print(docs)"
   ]
  },
  {
   "cell_type": "markdown",
   "id": "4dcb59b4",
   "metadata": {},
   "source": [
    "7) For each category in diagnosis do the mean of a variable named radius_mean and round it to get only 2 numbers after the comma. Compute the difference between the mean of both groups"
   ]
  },
  {
   "cell_type": "code",
   "execution_count": 53,
   "id": "7100e405",
   "metadata": {},
   "outputs": [
    {
     "name": "stdout",
     "output_type": "stream",
     "text": [
      "[('B', 0.17, 0.28), ('M', 0.45, 0.28)]\n"
     ]
    }
   ],
   "source": [
    "c.execute(\"\"\"\n",
    "    SELECT \n",
    "        diagnosis,\n",
    "        ROUND(AVG(concavity_worst), 2) AS mean_concavity_stats,\n",
    "        (SELECT ROUND(AVG(concavity_worst), 2) FROM bc WHERE diagnosis = 'M') -\n",
    "        (SELECT ROUND(AVG(concavity_worst), 2) FROM bc WHERE diagnosis = 'B') AS mean_difference\n",
    "    FROM \n",
    "        bc\n",
    "    GROUP BY \n",
    "        diagnosis\n",
    "\"\"\")\n",
    "docs=c.fetchall()\n",
    "print(docs)"
   ]
  },
  {
   "cell_type": "markdown",
   "id": "3a852ec8",
   "metadata": {},
   "source": [
    "8) Change the name of the column \"diagnosis\" to \"label\""
   ]
  },
  {
   "cell_type": "code",
   "execution_count": 54,
   "id": "aadbc984",
   "metadata": {},
   "outputs": [],
   "source": [
    "query = \"\"\"\n",
    "ALTER TABLE bc\n",
    "RENAME COLUMN diagnosis TO label\n",
    "\"\"\"\n",
    "c.execute(query)\n",
    "conn.commit()"
   ]
  },
  {
   "cell_type": "markdown",
   "id": "e54128fe",
   "metadata": {},
   "source": [
    "9) Add a column named \"day\" of type DATE."
   ]
  },
  {
   "cell_type": "code",
   "execution_count": null,
   "id": "f6307140",
   "metadata": {},
   "outputs": [],
   "source": [
    "query = \"\"\"\n",
    "ALTER TABLE bc\n",
    "ADD COLUMN day DATE\n",
    "\"\"\"\n",
    "c.execute(query)\n",
    "conn.commit()"
   ]
  },
  {
   "cell_type": "markdown",
   "id": "986e4823",
   "metadata": {},
   "source": [
    "10) Change the type of the column \"area_mean\" to int (hint, not possible on sqlite, create a new column)"
   ]
  },
  {
   "cell_type": "code",
   "execution_count": null,
   "id": "b6d960a6",
   "metadata": {},
   "outputs": [],
   "source": [
    "c.execute(\"\"\"\n",
    "ALTER TABLE bc\n",
    "ADD COLUMN area_mean_num INTEGER\n",
    "\"\"\")\n",
    "query_update= \"\"\"\n",
    "UPDATE bc\n",
    "SET area_mean_num = CAST(area_mean AS INTEGER)\n",
    "\"\"\"\n",
    "c.execute(query_update)\n",
    "\n",
    "query_drop_column = \"\"\"\n",
    "ALTER TABLE bc\n",
    "DROP COLUMN area_mean\n",
    "\"\"\"\n",
    "\n",
    "c.execute(\"\"\"\n",
    "ALTER TABLE bc\n",
    "DROP COLUMN area_mean\n",
    "\"\"\")\n",
    "\n",
    "\n",
    "c.execute(\"\"\"\n",
    "ALTER TABLE bc\n",
    "RENAME COLUMN area_mean_num TO area_mean\n",
    "\"\"\")\n",
    "conn.commit()"
   ]
  },
  {
   "cell_type": "markdown",
   "id": "39da30be",
   "metadata": {},
   "source": [
    "11) create a new table called tomatch2 exactly the same way as tomatch except you increment id_ by 10."
   ]
  },
  {
   "cell_type": "code",
   "execution_count": 8,
   "id": "fcfd26d0",
   "metadata": {},
   "outputs": [
    {
     "name": "stderr",
     "output_type": "stream",
     "text": [
      "100%|██████████| 995000/995000 [00:03<00:00, 254250.17it/s]\n"
     ]
    }
   ],
   "source": [
    "import sqlite3\n",
    "import pandas as pd\n",
    "\n",
    "\n",
    "conn = sqlite3.connect(\"C:/Users/sacha/OneDrive/Documents/No SQL/bc_table.db\")\n",
    "c = conn.cursor()\n",
    "\n",
    "\n",
    "def create_table_tomatch2():\n",
    "    try:\n",
    "        c.execute(\"\"\"CREATE TABLE IF NOT EXISTS tomatch2(\"id\" INT PRIMARY KEY, \"rdm\" FLOAT)\"\"\")\n",
    "        conn.commit()\n",
    "    except Exception as e:\n",
    "        print(str(e))\n",
    "        \n",
    "\n",
    "create_table_tomatch2()\n",
    "\n",
    "import tqdm\n",
    "import random as rd\n",
    "\n",
    "query = \"\"\"INSERT INTO tomatch2(\"id\", \"rdm\") VALUES (?, ?)\"\"\"\n",
    "\n",
    "list_of_insertion = []\n",
    "for i in tqdm.tqdm(range(50000,10000000,10)):\n",
    "    values = (i,rd.random())\n",
    "    list_of_insertion.append(values)\n",
    "    if len(list_of_insertion) == 10000:\n",
    "        c.executemany(query, list_of_insertion)\n",
    "        list_of_insertion = []\n",
    "conn.commit()"
   ]
  },
  {
   "cell_type": "markdown",
   "id": "2e591cd1",
   "metadata": {},
   "source": [
    "12) Do an inner join of bc, tomatch and tomatch2 where the radius_mean is greater than 15, and the rdm_float is greater than 0.50 in tomatch AND tomatch2."
   ]
  },
  {
   "cell_type": "code",
   "execution_count": 11,
   "id": "75d8c820",
   "metadata": {},
   "outputs": [],
   "source": [
    "c = conn.cursor()\n",
    "c.execute(\"\"\"SELECT *\n",
    "FROM bc\n",
    "INNER JOIN tomatch ON bc.id = tomatch.id\n",
    "INNER JOIN tomatch2 ON bc.id = tomatch2.id\n",
    "WHERE bc.radius_mean > 15\n",
    "  AND tomatch.rdm > 0.50\n",
    "  AND tomatch2.rdm > 0.50\"\"\")\n",
    "result=c.fetchall()\n",
    "conn.commit()"
   ]
  },
  {
   "cell_type": "code",
   "execution_count": 12,
   "id": "2a3edf0b",
   "metadata": {},
   "outputs": [],
   "source": [
    "sqlite3.connect('C:/Users/sacha/OneDrive/Documents/No SQL/bc_table.db-journal').close()"
   ]
  },
  {
   "cell_type": "markdown",
   "id": "5b539e43",
   "metadata": {},
   "source": [
    "     My  SQL exercice"
   ]
  },
  {
   "cell_type": "code",
   "execution_count": 13,
   "id": "9188b416",
   "metadata": {},
   "outputs": [
    {
     "data": {
      "text/html": [
       "<div>\n",
       "<style scoped>\n",
       "    .dataframe tbody tr th:only-of-type {\n",
       "        vertical-align: middle;\n",
       "    }\n",
       "\n",
       "    .dataframe tbody tr th {\n",
       "        vertical-align: top;\n",
       "    }\n",
       "\n",
       "    .dataframe thead th {\n",
       "        text-align: right;\n",
       "    }\n",
       "</style>\n",
       "<table border=\"1\" class=\"dataframe\">\n",
       "  <thead>\n",
       "    <tr style=\"text-align: right;\">\n",
       "      <th></th>\n",
       "      <th>Row ID</th>\n",
       "      <th>Order Priority</th>\n",
       "      <th>Discount</th>\n",
       "      <th>Unit Price</th>\n",
       "      <th>Shipping Cost</th>\n",
       "      <th>Customer ID</th>\n",
       "      <th>Customer Name</th>\n",
       "      <th>Ship Mode</th>\n",
       "      <th>Customer Segment</th>\n",
       "      <th>Product Category</th>\n",
       "      <th>...</th>\n",
       "      <th>Region</th>\n",
       "      <th>State or Province</th>\n",
       "      <th>City</th>\n",
       "      <th>Postal Code</th>\n",
       "      <th>Order Date</th>\n",
       "      <th>Ship Date</th>\n",
       "      <th>Profit</th>\n",
       "      <th>Quantity ordered new</th>\n",
       "      <th>Sales</th>\n",
       "      <th>Order ID</th>\n",
       "    </tr>\n",
       "  </thead>\n",
       "  <tbody>\n",
       "    <tr>\n",
       "      <th>0</th>\n",
       "      <td>18606</td>\n",
       "      <td>Not Specified</td>\n",
       "      <td>0.01</td>\n",
       "      <td>2.88</td>\n",
       "      <td>0.50</td>\n",
       "      <td>2</td>\n",
       "      <td>Janice Fletcher</td>\n",
       "      <td>Regular Air</td>\n",
       "      <td>Corporate</td>\n",
       "      <td>Office Supplies</td>\n",
       "      <td>...</td>\n",
       "      <td>Central</td>\n",
       "      <td>Illinois</td>\n",
       "      <td>Addison</td>\n",
       "      <td>60101</td>\n",
       "      <td>5/28/2012</td>\n",
       "      <td>5/30/2012</td>\n",
       "      <td>1.3200</td>\n",
       "      <td>2</td>\n",
       "      <td>5.90</td>\n",
       "      <td>88525</td>\n",
       "    </tr>\n",
       "    <tr>\n",
       "      <th>1</th>\n",
       "      <td>20847</td>\n",
       "      <td>High</td>\n",
       "      <td>0.01</td>\n",
       "      <td>2.84</td>\n",
       "      <td>0.93</td>\n",
       "      <td>3</td>\n",
       "      <td>Bonnie Potter</td>\n",
       "      <td>Express Air</td>\n",
       "      <td>Corporate</td>\n",
       "      <td>Office Supplies</td>\n",
       "      <td>...</td>\n",
       "      <td>West</td>\n",
       "      <td>Washington</td>\n",
       "      <td>Anacortes</td>\n",
       "      <td>98221</td>\n",
       "      <td>7/7/2010</td>\n",
       "      <td>7/8/2010</td>\n",
       "      <td>4.5600</td>\n",
       "      <td>4</td>\n",
       "      <td>13.01</td>\n",
       "      <td>88522</td>\n",
       "    </tr>\n",
       "    <tr>\n",
       "      <th>2</th>\n",
       "      <td>23086</td>\n",
       "      <td>Not Specified</td>\n",
       "      <td>0.03</td>\n",
       "      <td>6.68</td>\n",
       "      <td>6.15</td>\n",
       "      <td>3</td>\n",
       "      <td>Bonnie Potter</td>\n",
       "      <td>Express Air</td>\n",
       "      <td>Corporate</td>\n",
       "      <td>Office Supplies</td>\n",
       "      <td>...</td>\n",
       "      <td>West</td>\n",
       "      <td>Washington</td>\n",
       "      <td>Anacortes</td>\n",
       "      <td>98221</td>\n",
       "      <td>7/27/2011</td>\n",
       "      <td>7/28/2011</td>\n",
       "      <td>-47.6400</td>\n",
       "      <td>7</td>\n",
       "      <td>49.92</td>\n",
       "      <td>88523</td>\n",
       "    </tr>\n",
       "    <tr>\n",
       "      <th>3</th>\n",
       "      <td>23087</td>\n",
       "      <td>Not Specified</td>\n",
       "      <td>0.01</td>\n",
       "      <td>5.68</td>\n",
       "      <td>3.60</td>\n",
       "      <td>3</td>\n",
       "      <td>Bonnie Potter</td>\n",
       "      <td>Regular Air</td>\n",
       "      <td>Corporate</td>\n",
       "      <td>Office Supplies</td>\n",
       "      <td>...</td>\n",
       "      <td>West</td>\n",
       "      <td>Washington</td>\n",
       "      <td>Anacortes</td>\n",
       "      <td>98221</td>\n",
       "      <td>7/27/2011</td>\n",
       "      <td>7/28/2011</td>\n",
       "      <td>-30.5100</td>\n",
       "      <td>7</td>\n",
       "      <td>41.64</td>\n",
       "      <td>88523</td>\n",
       "    </tr>\n",
       "    <tr>\n",
       "      <th>4</th>\n",
       "      <td>23088</td>\n",
       "      <td>Not Specified</td>\n",
       "      <td>0.00</td>\n",
       "      <td>205.99</td>\n",
       "      <td>2.50</td>\n",
       "      <td>3</td>\n",
       "      <td>Bonnie Potter</td>\n",
       "      <td>Express Air</td>\n",
       "      <td>Corporate</td>\n",
       "      <td>Technology</td>\n",
       "      <td>...</td>\n",
       "      <td>West</td>\n",
       "      <td>Washington</td>\n",
       "      <td>Anacortes</td>\n",
       "      <td>98221</td>\n",
       "      <td>7/27/2011</td>\n",
       "      <td>7/27/2011</td>\n",
       "      <td>998.2023</td>\n",
       "      <td>8</td>\n",
       "      <td>1446.67</td>\n",
       "      <td>88523</td>\n",
       "    </tr>\n",
       "  </tbody>\n",
       "</table>\n",
       "<p>5 rows × 24 columns</p>\n",
       "</div>"
      ],
      "text/plain": [
       "   Row ID Order Priority  Discount  Unit Price  Shipping Cost  Customer ID  \\\n",
       "0   18606  Not Specified      0.01        2.88           0.50            2   \n",
       "1   20847           High      0.01        2.84           0.93            3   \n",
       "2   23086  Not Specified      0.03        6.68           6.15            3   \n",
       "3   23087  Not Specified      0.01        5.68           3.60            3   \n",
       "4   23088  Not Specified      0.00      205.99           2.50            3   \n",
       "\n",
       "     Customer Name    Ship Mode Customer Segment Product Category  ...  \\\n",
       "0  Janice Fletcher  Regular Air        Corporate  Office Supplies  ...   \n",
       "1    Bonnie Potter  Express Air        Corporate  Office Supplies  ...   \n",
       "2    Bonnie Potter  Express Air        Corporate  Office Supplies  ...   \n",
       "3    Bonnie Potter  Regular Air        Corporate  Office Supplies  ...   \n",
       "4    Bonnie Potter  Express Air        Corporate       Technology  ...   \n",
       "\n",
       "    Region State or Province       City  Postal Code Order Date  Ship Date  \\\n",
       "0  Central          Illinois    Addison        60101  5/28/2012  5/30/2012   \n",
       "1     West        Washington  Anacortes        98221   7/7/2010   7/8/2010   \n",
       "2     West        Washington  Anacortes        98221  7/27/2011  7/28/2011   \n",
       "3     West        Washington  Anacortes        98221  7/27/2011  7/28/2011   \n",
       "4     West        Washington  Anacortes        98221  7/27/2011  7/27/2011   \n",
       "\n",
       "     Profit  Quantity ordered new    Sales Order ID  \n",
       "0    1.3200                     2     5.90    88525  \n",
       "1    4.5600                     4    13.01    88522  \n",
       "2  -47.6400                     7    49.92    88523  \n",
       "3  -30.5100                     7    41.64    88523  \n",
       "4  998.2023                     8  1446.67    88523  \n",
       "\n",
       "[5 rows x 24 columns]"
      ]
     },
     "execution_count": 13,
     "metadata": {},
     "output_type": "execute_result"
    }
   ],
   "source": [
    "import pandas as pd\n",
    "import mysql.connector\n",
    "\n",
    "mydb = mysql.connector.connect(\n",
    "  host=\"localhost\",\n",
    "  user=\"root\",\n",
    "  password=\"root\",\n",
    "  database=\"m1_ds2e\"\n",
    ")\n",
    "\n",
    "c = mydb.cursor()\n",
    "\n",
    "c.execute(\"SELECT * FROM sample_superstore\")\n",
    "\n",
    "docs = c.fetchall()\n",
    "\n",
    "columns = [description[0] for description in c.description]\n",
    "df = pd.DataFrame(docs, columns=columns)\n",
    "df.head()"
   ]
  },
  {
   "cell_type": "markdown",
   "id": "2bdae1fa",
   "metadata": {},
   "source": [
    "1: How many orders were placed in total?"
   ]
  },
  {
   "cell_type": "code",
   "execution_count": 9,
   "id": "8a8d0643",
   "metadata": {},
   "outputs": [
    {
     "name": "stdout",
     "output_type": "stream",
     "text": [
      "[(175,)]\n"
     ]
    }
   ],
   "source": [
    "c = mydb.cursor()\n",
    "c.execute(\"\"\"SELECT COUNT( \"Order ID\") AS total_commandes\n",
    "FROM sample_superstore\"\"\");\n",
    "result=c.fetchall()\n",
    "print(result)"
   ]
  },
  {
   "cell_type": "markdown",
   "id": "e8b9f301",
   "metadata": {},
   "source": [
    "2: What is the total sales amount?"
   ]
  },
  {
   "cell_type": "code",
   "execution_count": 14,
   "id": "635f4ed8",
   "metadata": {
    "scrolled": true
   },
   "outputs": [
    {
     "name": "stdout",
     "output_type": "stream",
     "text": [
      "[(130555.31000000006,)]\n"
     ]
    }
   ],
   "source": [
    "c.execute(\"\"\"SELECT SUM(sales) AS total_sales FROM sample_superstore\"\"\")\n",
    "result = c.fetchall()\n",
    "print(result)"
   ]
  },
  {
   "cell_type": "markdown",
   "id": "e27329ad",
   "metadata": {},
   "source": [
    "3: What is the average profit per order?"
   ]
  },
  {
   "cell_type": "code",
   "execution_count": 16,
   "id": "2b00d509",
   "metadata": {},
   "outputs": [
    {
     "name": "stdout",
     "output_type": "stream",
     "text": [
      "[(88525, 1.32), (88522, 4.56), (88523, 306.6841), (88524, 1388.0523), (88526, 1001.4453), (90193, 4390.3665), (90197, -141.26), (90194, 1045.4673), (90200, 406.7419), (90198, 72.9928), (90199, -252.67759875000002), (90195, 142.7955), (90192, -53.8096), (90196, 23.12), (86838, 185.425125), (86845, -44.54), (86837, -59.82), (86839, 261.8757), (86840, -1.17), (86841, -24.03), (86842, 23.2668), (86843, -174.2696), (86836, 327.68155), (86844, 3.4595), (90033, -6.82), (90034, -96.33), (90031, 314.4813), (90035, 164.48680000000002), (90038, -17.49), (90039, 139.54835), (90032, -114.6399), (90036, -491.73199999999997), (90037, -41.82), (41793, 384.38), (42949, -66.06495), (55269, -41.82), (9895, -6.82), (17860, -96.33), (26887, 172.27274999999997), (50533, -491.73199999999997), (18596, 174.845), (87655, 571.89495), (87660, 83.24), (87669, 353.77216), (87651, -16.802), (87656, 1489.8411), (87662, -23.415), (87663, -88.102), (87657, -10.58), (87666, 677.50343), (87658, 420.984), (87667, 19.4097), (87670, -24.118176000000002), (87652, 8.89400000000001), (87659, 149.84715), (87661, 33.4144), (87668, 847.943712), (87653, -2.2072), (87665, 28.81), (87654, -120.52304), (87664, -1.6864), (89206, -43.3316), (89199, 144.69), (89200, -35.8788), (89202, 209.997), (89203, 2568.096), (89207, 345.0), (89201, -30.062800000000003), (89205, -75.12168), (89208, -88.57148), (91256, 803.39986), (91257, 165.501), (88682, -3.3599999999999994), (88684, -15.464), (88683, -71.44), (91455, 24.1868), (91458, 43.271712), (91454, 25.91382), (91456, -17.58), (91457, -336.38464), (91578, 338.6244), (91579, -35.906), (87712, -4.359171999999999), (87713, 60.8097), (87714, 4.772579999999998), (87715, 229.0593), (87710, -12.82), (87711, 7.27), (87716, 391.7199), (87717, -45.1), (87718, 526.608), (87719, -24.08), (88426, 47.588), (88427, 378.1614), (88428, 3.328), (88425, -6923.5992), (88429, 23.1564), (88076, -1513.264896), (88077, -211.0644), (88081, 39.080775), (88075, 8.9879), (88079, 47.0972), (88080, -12.321250000000006), (88082, 3234.0946620000004), (88078, -143.8648), (87413, -47.910000000000004), (87416, -157.18), (87417, -675.62), (87410, -0.18520000000000003), (87420, -180.46656), (87409, 185.266), (87411, 77.372), (87412, 25.116), (87414, 28.59475), (87422, 303.4416), (87407, 2.14), (87408, 349.4091), (87415, 44.495), (87423, -103.96848), (87418, 574.96995), (87419, 247.26885), (87406, 31.980449999999998), (87421, -218.9761), (87948, 1381.9886999999999), (87951, 95.3787), (87946, 845.664), (87949, -770.6166000000001)]\n"
     ]
    }
   ],
   "source": [
    "mydb = mysql.connector.connect(\n",
    "    host=\"localhost\",\n",
    "    user=\"root\",\n",
    "    password=\"root\",\n",
    "    database=\"m1_ds2e\"\n",
    ")\n",
    "\n",
    "c = mydb.cursor()\n",
    "c.execute(\"\"\"SELECT `Order ID` , AVG(Profit) AS avg_profit\n",
    "FROM m1_ds2e.sample_superstore\n",
    "GROUP BY `Order ID`\"\"\")\n",
    "\n",
    "docs = c.fetchall()\n",
    "print(docs)"
   ]
  },
  {
   "cell_type": "markdown",
   "id": "8255e775",
   "metadata": {},
   "source": [
    "4: Which customer has placed the most orders?"
   ]
  },
  {
   "cell_type": "code",
   "execution_count": 25,
   "id": "7165d06e",
   "metadata": {},
   "outputs": [
    {
     "name": "stdout",
     "output_type": "stream",
     "text": [
      "Client ayant passé le plus de commandes: Tony Wilkins Winters (533 commandes)\n"
     ]
    }
   ],
   "source": [
    "import mysql.connector\n",
    "mydb = mysql.connector.connect(\n",
    "    host=\"localhost\",\n",
    "    user=\"root\",\n",
    "    password=\"root\",\n",
    "    database=\"m1_ds2e\"\n",
    ")\n",
    "c = mydb.cursor()\n",
    "# Exécution de la requête SQL pour trouver le client avec le plus de commandes\n",
    "c.execute(\"\"\"\n",
    "    SELECT `Customer Name` , sum(`Quantity ordered new`) AS Quantity_ordered\n",
    "FROM sample_superstore\n",
    "GROUP BY `Customer Name` order by Quantity_ordered desc;\n",
    "\"\"\")\n",
    "\n",
    "# Récupération du résultat\n",
    "most_orders_customer = c.fetchone()\n",
    "\n",
    "# Affichage du résultat\n",
    "print(\"Client ayant passé le plus de commandes: {} ({} commandes)\".format(most_orders_customer[0], most_orders_customer[1]))\n",
    "\n"
   ]
  },
  {
   "cell_type": "markdown",
   "id": "4b1bd6ad",
   "metadata": {},
   "source": [
    "5: What is the total profit for each product category?"
   ]
  },
  {
   "cell_type": "code",
   "execution_count": 24,
   "id": "57318dc3",
   "metadata": {},
   "outputs": [
    {
     "name": "stdout",
     "output_type": "stream",
     "text": [
      "[('Office Supplies', 11605.983540000001), ('Technology', 10225.340091999999), ('Furniture', 1976.0725965000036)]\n"
     ]
    }
   ],
   "source": [
    "mydb = mysql.connector.connect(\n",
    "    host=\"localhost\",\n",
    "    user=\"root\",\n",
    "    password=\"root\",\n",
    "    database=\"m1_ds2e\"\n",
    ")\n",
    "\n",
    "c = mydb.cursor()\n",
    "c.execute(\"\"\"SELECT `Product Category` , sum(Profit) AS profit_total\n",
    "FROM sample_superstore\n",
    "GROUP BY `Product Category`;\"\"\")\n",
    "\n",
    "docs = c.fetchall()\n",
    "print(docs)"
   ]
  },
  {
   "cell_type": "markdown",
   "id": "46b83b53",
   "metadata": {},
   "source": [
    "\n",
    "6: What is the average discount percentage?\n",
    "\n"
   ]
  },
  {
   "cell_type": "code",
   "execution_count": 23,
   "id": "f5079e9c",
   "metadata": {},
   "outputs": [
    {
     "name": "stdout",
     "output_type": "stream",
     "text": [
      "La moyenne de la colonne Discount est : 4.96571428571428\n"
     ]
    }
   ],
   "source": [
    "mydb = mysql.connector.connect(\n",
    "    host=\"localhost\",\n",
    "    user=\"root\",\n",
    "    password=\"root\",\n",
    "    database=\"m1_ds2e\"\n",
    ")\n",
    "\n",
    "c = mydb.cursor()\n",
    "c.execute(\"\"\"SELECT AVG(Discount) AS avg_discount\n",
    "FROM m1_ds2e.sample_superstore;\"\"\")\n",
    "\n",
    "avg_discount = c.fetchone()[0]\n",
    "\n",
    "# Affichage du résultat en pourcentage\n",
    "print(\"La moyenne de la colonne Discount est :\", avg_discount * 100)"
   ]
  },
  {
   "cell_type": "markdown",
   "id": "72a709c6",
   "metadata": {},
   "source": [
    "7: Which region has the highest total sales?"
   ]
  },
  {
   "cell_type": "code",
   "execution_count": 26,
   "id": "d56ab1e9",
   "metadata": {},
   "outputs": [
    {
     "name": "stdout",
     "output_type": "stream",
     "text": [
      "[('West', 75678.49999999999), ('East', 38033.84999999999), ('Central', 14261.619999999999), ('South', 2581.34)]\n"
     ]
    }
   ],
   "source": [
    "mydb = mysql.connector.connect(\n",
    "    host=\"localhost\",\n",
    "    user=\"root\",\n",
    "    password=\"root\",\n",
    "    database=\"m1_ds2e\"\n",
    ")\n",
    "\n",
    "c = mydb.cursor()\n",
    "c.execute(\"\"\"SELECT `Region` , SUM(Sales) AS total_sales_byregion\n",
    "FROM sample_superstore\n",
    "GROUP BY `Region` order by total_sales_byregion desc;\"\"\")\n",
    "\n",
    "docs = c.fetchall()\n",
    "print(docs)"
   ]
  },
  {
   "cell_type": "markdown",
   "id": "53c580db",
   "metadata": {},
   "source": [
    "8: How many orders were shipped using each shipping mode?"
   ]
  },
  {
   "cell_type": "code",
   "execution_count": 27,
   "id": "84205d02",
   "metadata": {},
   "outputs": [
    {
     "name": "stdout",
     "output_type": "stream",
     "text": [
      "[('Regular Air', 131), ('Express Air', 23), ('Delivery Truck', 21)]\n"
     ]
    }
   ],
   "source": [
    "mydb = mysql.connector.connect(\n",
    "    host=\"localhost\",\n",
    "    user=\"root\",\n",
    "    password=\"root\",\n",
    "    database=\"m1_ds2e\"\n",
    ")\n",
    "\n",
    "c = mydb.cursor()\n",
    "c.execute(\"\"\"SELECT `Ship Mode` , COUNT(`Order ID`) \n",
    "FROM sample_superstore\n",
    "GROUP BY `Ship Mode`\"\"\")\n",
    "\n",
    "docs = c.fetchall()\n",
    "print(docs)"
   ]
  },
  {
   "cell_type": "markdown",
   "id": "30f8c32c",
   "metadata": {},
   "source": [
    "9: What is the total quantity ordered for each product sub-category?"
   ]
  },
  {
   "cell_type": "code",
   "execution_count": 28,
   "id": "86f94f76",
   "metadata": {},
   "outputs": [
    {
     "name": "stdout",
     "output_type": "stream",
     "text": [
      "[('Labels', Decimal('171')), ('Pens & Art Supplies', Decimal('196')), ('Paper', Decimal('286')), ('Scissors, Rulers and Trimmers', Decimal('24')), ('Telephones and Communication', Decimal('252')), ('Office Machines', Decimal('123')), ('Chairs & Chairmats', Decimal('166')), ('Appliances', Decimal('184')), ('Bookcases', Decimal('39')), ('Tables', Decimal('50')), ('Envelopes', Decimal('46')), ('Office Furnishings', Decimal('233')), ('Rubber Bands', Decimal('119')), ('Binders and Binder Accessories', Decimal('129')), ('Storage & Organization', Decimal('121')), ('Copiers and Fax', Decimal('5')), ('Computer Peripherals', Decimal('69'))]\n"
     ]
    }
   ],
   "source": [
    "mydb = mysql.connector.connect(\n",
    "    host=\"localhost\",\n",
    "    user=\"root\",\n",
    "    password=\"root\",\n",
    "    database=\"m1_ds2e\"\n",
    ")\n",
    "\n",
    "c = mydb.cursor()\n",
    "c.execute(\"\"\"SELECT `Product Sub-Category` , SUM(`Quantity ordered new`) AS quantite_commandee\n",
    "FROM sample_superstore\n",
    "GROUP BY `Product Sub-Category` \"\"\")\n",
    "\n",
    "docs = c.fetchall()\n",
    "print(docs)"
   ]
  },
  {
   "cell_type": "markdown",
   "id": "a719f21c",
   "metadata": {},
   "source": [
    "10: Which product has the highest profit margin?"
   ]
  },
  {
   "cell_type": "code",
   "execution_count": 37,
   "id": "e37a31ce",
   "metadata": {},
   "outputs": [
    {
     "name": "stdout",
     "output_type": "stream",
     "text": [
      "[('Canon S750 Color Inkjet Printer', 0.6900000000000001)]\n"
     ]
    }
   ],
   "source": [
    "mydb = mysql.connector.connect(\n",
    "    host=\"localhost\",\n",
    "    user=\"root\",\n",
    "    password=\"root\",\n",
    "    database=\"m1_ds2e\"\n",
    ")\n",
    "\n",
    "c = mydb.cursor()\n",
    "c.execute(\"\"\"SELECT `Product Name` ,(SUM(Profit) / SUM(Sales)) AS profit_margin\n",
    "FROM sample_superstore\n",
    "GROUP BY `Product Name` order by profit_margin desc limit 1\"\"\")\n",
    "\n",
    "docs = c.fetchall()\n",
    "print(docs)"
   ]
  },
  {
   "cell_type": "markdown",
   "id": "27603347",
   "metadata": {},
   "source": [
    "11: What is the total sales amount for each year?"
   ]
  },
  {
   "cell_type": "code",
   "execution_count": 38,
   "id": "6d27b88b",
   "metadata": {},
   "outputs": [
    {
     "name": "stdout",
     "output_type": "stream",
     "text": [
      "[('2013', 48236.200000000004), ('2012', 44893.209999999985), ('2010', 25377.779999999995), ('2011', 12048.119999999997)]\n"
     ]
    }
   ],
   "source": [
    "mydb = mysql.connector.connect(\n",
    "    host=\"localhost\",\n",
    "    user=\"root\",\n",
    "    password=\"root\",\n",
    "    database=\"m1_ds2e\"\n",
    ")\n",
    "\n",
    "c = mydb.cursor()\n",
    "c.execute(\"\"\"SELECT SUBSTRING(`Order Date`, -4) AS annee, SUM(Sales) AS total_sales_amount\n",
    "FROM  sample_superstore\n",
    "GROUP BY annee order by total_sales_amount desc\"\"\")\n",
    "\n",
    "docs = c.fetchall()\n",
    "print(docs)"
   ]
  },
  {
   "cell_type": "markdown",
   "id": "0afb5f10",
   "metadata": {},
   "source": [
    "12: Which customer segment has the highest average sales?"
   ]
  },
  {
   "cell_type": "code",
   "execution_count": 40,
   "id": "3e8a33b4",
   "metadata": {},
   "outputs": [
    {
     "name": "stdout",
     "output_type": "stream",
     "text": [
      "[('Small Business', 1041.5648076923078)]\n"
     ]
    }
   ],
   "source": [
    "mydb = mysql.connector.connect(\n",
    "    host=\"localhost\",\n",
    "    user=\"root\",\n",
    "    password=\"root\",\n",
    "    database=\"m1_ds2e\"\n",
    ")\n",
    "\n",
    "c = mydb.cursor()\n",
    "c.execute(\"\"\"SELECT `Customer segment` ,avg(sales) AS avg_sales\n",
    "FROM sample_superstore\n",
    "GROUP BY `Customer segment` order by avg_sales desc limit 1\"\"\")\n",
    "\n",
    "docs = c.fetchall()\n",
    "print(docs)"
   ]
  },
  {
   "cell_type": "markdown",
   "id": "96c6ee04",
   "metadata": {},
   "source": [
    "                                   PostgreSQL EXERCICES "
   ]
  },
  {
   "cell_type": "code",
   "execution_count": 1,
   "id": "a597e8aa",
   "metadata": {},
   "outputs": [
    {
     "data": {
      "text/plain": [
       "Index(['age', 'job', 'marital', 'education', 'default_', 'balance', 'housing',\n",
       "       'loan', 'contact', 'day', 'month', 'duration', 'campaign', 'pdays',\n",
       "       'previous', 'poutcome', 'y'],\n",
       "      dtype='object')"
      ]
     },
     "execution_count": 1,
     "metadata": {},
     "output_type": "execute_result"
    }
   ],
   "source": [
    "import pandas as pd\n",
    "\n",
    "df = pd.read_csv(\"C:/Users/sacha/Downloads/bank_full.csv\")\n",
    "df.columns"
   ]
  },
  {
   "cell_type": "code",
   "execution_count": 42,
   "id": "9935f340",
   "metadata": {},
   "outputs": [
    {
     "name": "stdout",
     "output_type": "stream",
     "text": [
      "Collecting psycopg2\n",
      "  Obtaining dependency information for psycopg2 from https://files.pythonhosted.org/packages/37/2c/5133dd3183a3bd82371569f0dd783e6927672de7e671b278ce248810b7f7/psycopg2-2.9.9-cp311-cp311-win_amd64.whl.metadata\n",
      "  Downloading psycopg2-2.9.9-cp311-cp311-win_amd64.whl.metadata (4.5 kB)\n",
      "Downloading psycopg2-2.9.9-cp311-cp311-win_amd64.whl (1.2 MB)\n",
      "   ---------------------------------------- 0.0/1.2 MB ? eta -:--:--\n",
      "   ---------------------------------------- 0.0/1.2 MB ? eta -:--:--\n",
      "   - -------------------------------------- 0.0/1.2 MB 487.6 kB/s eta 0:00:03\n",
      "   ---- ----------------------------------- 0.1/1.2 MB 1.2 MB/s eta 0:00:01\n",
      "   ---------------------------------------  1.2/1.2 MB 7.3 MB/s eta 0:00:01\n",
      "   ---------------------------------------- 1.2/1.2 MB 6.7 MB/s eta 0:00:00\n",
      "Installing collected packages: psycopg2\n",
      "Successfully installed psycopg2-2.9.9\n"
     ]
    }
   ],
   "source": [
    "!pip install psycopg2"
   ]
  },
  {
   "cell_type": "code",
   "execution_count": 4,
   "id": "de677927",
   "metadata": {},
   "outputs": [],
   "source": [
    "import psycopg2\n",
    "\n",
    "# Connect to PostgreSQL database\n",
    "conn = psycopg2.connect(dbname=\"new_db\", user=\"postgres\", password=\"root\", host=\"localhost\",  port=\"5432\" )"
   ]
  },
  {
   "cell_type": "code",
   "execution_count": null,
   "id": "ba5cf601",
   "metadata": {},
   "outputs": [],
   "source": [
    "# Create a cursor object\n",
    "cur = conn.cursor()\n",
    "\n",
    "# Define the table schema\n",
    "table_name = \"bank_full\"\n",
    "columns = [\n",
    "    \"age INTEGER\",\n",
    "    \"job VARCHAR(100)\",\n",
    "    \"marital VARCHAR(20)\",\n",
    "    \"education VARCHAR(100)\",\n",
    "    \"default_ VARCHAR(10)\",\n",
    "    \"balance NUMERIC\",\n",
    "    \"housing VARCHAR(10)\",\n",
    "    \"loan VARCHAR(10)\",\n",
    "    \"contact VARCHAR(100)\",\n",
    "    \"day INTEGER\",\n",
    "    \"month VARCHAR(20)\",\n",
    "    \"duration INTEGER\",\n",
    "    \"campaign INTEGER\",\n",
    "    \"pdays INTEGER\",\n",
    "    \"previous INTEGER\",\n",
    "    \"poutcome VARCHAR(100)\",\n",
    "    \"y VARCHAR(10)\"\n",
    "]\n",
    "\n",
    "# Construct the CREATE TABLE query\n",
    "create_table_query = (\n",
    "    \"CREATE TABLE IF NOT EXISTS \" + table_name + \" (\" +\n",
    "    \", \".join(columns) +\n",
    "    \")\"\n",
    ")\n",
    "\n",
    "# Execute the CREATE TABLE query\n",
    "cur.execute(create_table_query)\n",
    "\n",
    "# Commit the transaction\n",
    "conn.commit()\n",
    "\n",
    "# Execute the CREATE TABLE query\n",
    "cur.execute(create_table_query)\n",
    "\n",
    "# Commit the transaction\n",
    "conn.commit()\n",
    "\n",
    "# Close cursor and connection\n",
    "cur.close()\n",
    "conn.close()"
   ]
  },
  {
   "cell_type": "code",
   "execution_count": 47,
   "id": "e4e6915e",
   "metadata": {},
   "outputs": [],
   "source": [
    "conn.close()"
   ]
  },
  {
   "cell_type": "markdown",
   "id": "f2f0bf67",
   "metadata": {},
   "source": [
    "1: What is the average age of the customers?"
   ]
  },
  {
   "cell_type": "code",
   "execution_count": 16,
   "id": "dc58e65d",
   "metadata": {},
   "outputs": [
    {
     "name": "stdout",
     "output_type": "stream",
     "text": [
      "Average age of customers: 40.9362102143283714\n"
     ]
    }
   ],
   "source": [
    "import psycopg2\n",
    "\n",
    "# Connect to PostgreSQL database\n",
    "conn = psycopg2.connect(dbname=\"new_db\", user=\"postgres\", password=\"root\", host=\"localhost\",  port=\"5432\" )\n",
    "\n",
    "# Create a cursor object\n",
    "cur = conn.cursor()\n",
    "cur.execute(\"\"\"select AVG(age) from bank_full\"\"\")\n",
    "# Fetch the result\n",
    "average_age = cur.fetchone()[0]\n",
    "\n",
    "    # Print the average age\n",
    "print(\"Average age of customers:\", average_age)\n",
    "\n",
    "    # Commit the transaction\n",
    "conn.commit()\n"
   ]
  },
  {
   "cell_type": "markdown",
   "id": "0d621d36",
   "metadata": {},
   "source": [
    "2: How many customers have defaulted on loans?"
   ]
  },
  {
   "cell_type": "code",
   "execution_count": 17,
   "id": "1d035df0",
   "metadata": {},
   "outputs": [
    {
     "data": {
      "text/plain": [
       "(815,)"
      ]
     },
     "execution_count": 17,
     "metadata": {},
     "output_type": "execute_result"
    }
   ],
   "source": [
    "cur.execute(\"SELECT COUNT(*) FROM bank_full WHERE default_ = 'yes'\")\n",
    "cur.fetchone()"
   ]
  },
  {
   "cell_type": "markdown",
   "id": "902e765a",
   "metadata": {},
   "source": [
    "3: What is the maximum balance in the account?"
   ]
  },
  {
   "cell_type": "code",
   "execution_count": 23,
   "id": "8df1d8b4",
   "metadata": {},
   "outputs": [
    {
     "data": {
      "text/plain": [
       "(Decimal('102127'),)"
      ]
     },
     "execution_count": 23,
     "metadata": {},
     "output_type": "execute_result"
    }
   ],
   "source": [
    "cur.execute(\"SELECT MAX(balance) FROM bank_full\")\n",
    "cur.fetchone()"
   ]
  },
  {
   "cell_type": "markdown",
   "id": "9779ec87",
   "metadata": {},
   "source": [
    "4: How many customers have a housing loan?"
   ]
  },
  {
   "cell_type": "code",
   "execution_count": 22,
   "id": "68efd722",
   "metadata": {},
   "outputs": [
    {
     "data": {
      "text/plain": [
       "(25130,)"
      ]
     },
     "execution_count": 22,
     "metadata": {},
     "output_type": "execute_result"
    }
   ],
   "source": [
    "cur.execute(\"SELECT COUNT(*) FROM bank_full WHERE housing = 'yes'\")\n",
    "cur.fetchone()"
   ]
  },
  {
   "cell_type": "markdown",
   "id": "90cf17cd",
   "metadata": {},
   "source": [
    "5: What is the education level of the youngest customer?"
   ]
  },
  {
   "cell_type": "code",
   "execution_count": 26,
   "id": "489a0230",
   "metadata": {},
   "outputs": [
    {
     "data": {
      "text/plain": [
       "[(18, 'primary'),\n",
       " (18, 'unknown'),\n",
       " (18, 'primary'),\n",
       " (18, 'unknown'),\n",
       " (18, 'secondary'),\n",
       " (18, 'unknown'),\n",
       " (18, 'unknown'),\n",
       " (18, 'secondary'),\n",
       " (18, 'primary'),\n",
       " (18, 'unknown'),\n",
       " (18, 'unknown'),\n",
       " (18, 'unknown')]"
      ]
     },
     "execution_count": 26,
     "metadata": {},
     "output_type": "execute_result"
    }
   ],
   "source": [
    "cur.execute(\"\"\"SELECT age AS min_age, education \n",
    "FROM bank_full \n",
    "WHERE age = (SELECT MIN(age) FROM bank_full);\n",
    "\"\"\")\n",
    "\n",
    "# Fetch the result\n",
    "cur.fetchall()\n"
   ]
  },
  {
   "cell_type": "markdown",
   "id": "b4a87038",
   "metadata": {},
   "source": [
    "6: What is the marital status of the oldest customer?"
   ]
  },
  {
   "cell_type": "code",
   "execution_count": 27,
   "id": "4972efe4",
   "metadata": {},
   "outputs": [
    {
     "data": {
      "text/plain": [
       "[('divorced',), ('married',)]"
      ]
     },
     "execution_count": 27,
     "metadata": {},
     "output_type": "execute_result"
    }
   ],
   "source": [
    "cur.execute(\"SELECT marital FROM bank_full WHERE age = (SELECT max(age) FROM bank_full)\")\n",
    "\n",
    "# Fetch the result\n",
    "cur.fetchall()"
   ]
  },
  {
   "cell_type": "code",
   "execution_count": 28,
   "id": "556fe431",
   "metadata": {},
   "outputs": [
    {
     "data": {
      "text/plain": [
       "[(95, 'divorced'), (95, 'married')]"
      ]
     },
     "execution_count": 28,
     "metadata": {},
     "output_type": "execute_result"
    }
   ],
   "source": [
    "cur.execute(\"\"\"SELECT age AS max_age, marital\n",
    "FROM bank_full \n",
    "WHERE age = (SELECT MAX(age) FROM bank_full);\n",
    "\"\"\")\n",
    "\n",
    "# Fetch the result\n",
    "cur.fetchall()"
   ]
  },
  {
   "cell_type": "markdown",
   "id": "5ee9e02b",
   "metadata": {},
   "source": [
    "7: What is the distribution of the months in which customers were last contacted?"
   ]
  },
  {
   "cell_type": "code",
   "execution_count": 29,
   "id": "615b0b6c",
   "metadata": {},
   "outputs": [
    {
     "name": "stdout",
     "output_type": "stream",
     "text": [
      "Distribution of months in which customers were last contacted:\n",
      "Month: apr Count: 2932\n",
      "Month: aug Count: 6247\n",
      "Month: dec Count: 214\n",
      "Month: feb Count: 2649\n",
      "Month: jan Count: 1403\n",
      "Month: jul Count: 6895\n",
      "Month: jun Count: 5341\n",
      "Month: mar Count: 477\n",
      "Month: may Count: 13766\n",
      "Month: nov Count: 3970\n",
      "Month: oct Count: 738\n",
      "Month: sep Count: 579\n"
     ]
    }
   ],
   "source": [
    "cur.execute(\"SELECT month, COUNT(*) FROM bank_full GROUP BY month ORDER BY month\")\n",
    "\n",
    " # Fetch all rows\n",
    "rows = cur.fetchall()\n",
    "\n",
    "    # Print the results\n",
    "print(\"Distribution of months in which customers were last contacted:\")\n",
    "for row in rows:\n",
    "    print(\"Month:\", row[0], \"Count:\", row[1])\n",
    "\n",
    "    # Commit the transaction\n",
    "conn.commit()\n"
   ]
  },
  {
   "cell_type": "code",
   "execution_count": 30,
   "id": "342843ec",
   "metadata": {},
   "outputs": [
    {
     "data": {
      "image/png": "[encoded data removed]",
      "text/plain": [
       "<Figure size 640x480 with 1 Axes>"
      ]
     },
     "metadata": {},
     "output_type": "display_data"
    }
   ],
   "source": [
    "import psycopg2\n",
    "import matplotlib.pyplot as plt\n",
    "\n",
    "cur.execute(\"SELECT month, COUNT(*) FROM bank_full GROUP BY month ORDER BY month\")\n",
    "\n",
    "# Fetch all rows\n",
    "rows = cur.fetchall()\n",
    "\n",
    "# Extract months and counts\n",
    "months = [row[0] for row in rows]\n",
    "counts = [row[1] for row in rows]\n",
    "\n",
    "# Plot histogram\n",
    "plt.bar(months, counts)\n",
    "plt.xlabel('Month')\n",
    "plt.ylabel('Count')\n",
    "plt.title('Distribution of months in which customers were last contacted')\n",
    "plt.xticks(rotation=45)  # Rotate x-axis labels for better readability\n",
    "plt.tight_layout()  # Adjust layout to prevent clipping of labels\n",
    "plt.show()\n"
   ]
  },
  {
   "cell_type": "markdown",
   "id": "95311534",
   "metadata": {},
   "source": [
    "8: What is the average duration of contact for customers who have a personal loan?"
   ]
  },
  {
   "cell_type": "code",
   "execution_count": 32,
   "id": "6e9fca48",
   "metadata": {},
   "outputs": [
    {
     "data": {
      "text/plain": [
       "(Decimal('250.8453892876863611'),)"
      ]
     },
     "execution_count": 32,
     "metadata": {},
     "output_type": "execute_result"
    }
   ],
   "source": [
    "cur.execute(\"\"\"select AVG(duration) from bank_full where loan='yes'\"\"\")\n",
    "cur.fetchone()"
   ]
  },
  {
   "cell_type": "markdown",
   "id": "4249fb65",
   "metadata": {},
   "source": [
    "9: How many customers were previously contacted, and what was the average duration of their last contact?"
   ]
  },
  {
   "cell_type": "code",
   "execution_count": 34,
   "id": "39cfe710",
   "metadata": {},
   "outputs": [
    {
     "name": "stdout",
     "output_type": "stream",
     "text": [
      "Average duration of last contact for previously contacted customers: 260.1186871745185903\n"
     ]
    }
   ],
   "source": [
    "cur.execute(\"\"\"\n",
    "        SELECT AVG(duration) AS average_duration\n",
    "        FROM bank_full\n",
    "        WHERE pdays != -1\n",
    "    \"\"\")\n",
    "\n",
    "average_duration = cur.fetchone()[0]\n",
    "\n",
    "print(\"Average duration of last contact for previously contacted customers:\", average_duration)\n"
   ]
  },
  {
   "cell_type": "markdown",
   "id": "abaf8150",
   "metadata": {},
   "source": [
    "10: What is the distribution of job types among customers?"
   ]
  },
  {
   "cell_type": "code",
   "execution_count": 35,
   "id": "6dd56980",
   "metadata": {},
   "outputs": [
    {
     "name": "stdout",
     "output_type": "stream",
     "text": [
      "Distribution of job types among customers:\n",
      "Job: blue-collar Count: 9732\n",
      "Job: management Count: 9458\n",
      "Job: technician Count: 7597\n",
      "Job: admin. Count: 5171\n",
      "Job: services Count: 4154\n",
      "Job: retired Count: 2264\n",
      "Job: self-employed Count: 1579\n",
      "Job: entrepreneur Count: 1487\n",
      "Job: unemployed Count: 1303\n",
      "Job: housemaid Count: 1240\n",
      "Job: student Count: 938\n",
      "Job: unknown Count: 288\n"
     ]
    }
   ],
   "source": [
    "cur.execute(\"\"\"\n",
    "        SELECT job, COUNT(*) AS count\n",
    "        FROM bank_full\n",
    "        GROUP BY job\n",
    "        ORDER BY count DESC\n",
    "    \"\"\")\n",
    "\n",
    "rows = cur.fetchall()\n",
    "\n",
    "print(\"Distribution of job types among customers:\")\n",
    "for row in rows:\n",
    "    print(\"Job:\", row[0], \"Count:\", row[1])\n",
    "\n",
    "conn.commit()\n"
   ]
  },
  {
   "cell_type": "code",
   "execution_count": 41,
   "id": "f1872a67",
   "metadata": {},
   "outputs": [
    {
     "data": {
      "image/png": "[encoded data removed]",
      "text/plain": [
       "<Figure size 1000x600 with 1 Axes>"
      ]
     },
     "metadata": {},
     "output_type": "display_data"
    }
   ],
   "source": [
    " # Extract job types and counts\n",
    "jobs = [row[0] for row in rows]\n",
    "counts = [row[1] for row in rows]\n",
    "\n",
    "    # Plot horizontal histogram\n",
    "plt.figure(figsize=(10, 6))\n",
    "plt.barh(jobs, counts, color='skyblue')\n",
    "plt.xlabel('Count')\n",
    "plt.ylabel('Job Type')\n",
    "plt.title('Distribution of Job Types Among Customers')\n",
    "plt.tight_layout()  # Adjust layout to prevent clipping of labels\n",
    "plt.show()\n",
    "\n",
    "    # Commit the transaction\n",
    "conn.commit()\n",
    "\n"
   ]
  },
  {
   "cell_type": "markdown",
   "id": "54fa55fc",
   "metadata": {},
   "source": [
    "11: How many customers have been contacted more than once in the current campaign?"
   ]
  },
  {
   "cell_type": "code",
   "execution_count": 49,
   "id": "ab74d5ba",
   "metadata": {},
   "outputs": [
    {
     "data": {
      "text/plain": [
       "(45211,)"
      ]
     },
     "execution_count": 49,
     "metadata": {},
     "output_type": "execute_result"
    }
   ],
   "source": [
    "# Connect to PostgreSQL database\n",
    "conn = psycopg2.connect(dbname=\"new_db\", user=\"postgres\", password=\"root\", host=\"localhost\",  port=\"5432\" )\n",
    "\n",
    "# Create a cursor object\n",
    "cur = conn.cursor()\n",
    "\n",
    "cur.execute(\"\"\"select count(*) campaign from bank_full where campaign >=1\"\"\")\n",
    "cur.fetchone()"
   ]
  },
  {
   "cell_type": "markdown",
   "id": "bfb1c0bb",
   "metadata": {},
   "source": [
    "12: What is the success rate of previous marketing campaigns (poutcome) among customers"
   ]
  },
  {
   "cell_type": "code",
   "execution_count": 42,
   "id": "89de3b72",
   "metadata": {},
   "outputs": [],
   "source": [
    "cur.execute(\"\"\"\n",
    "        SELECT COUNT(*) AS success_count\n",
    "        FROM bank_full\n",
    "        WHERE poutcome = 'success'\n",
    "    \"\"\")\n",
    "\n",
    "    # Fetch the result\n",
    "success_count = cur.fetchone()[0]\n",
    "cur.execute(\"\"\"\n",
    "        SELECT COUNT(*) AS total_count\n",
    "        FROM bank_full\n",
    "        WHERE poutcome IS NOT NULL\n",
    "    \"\"\")\n",
    "total_count = cur.fetchone()[0]\n",
    "\n",
    "success_rate = (success_count / total_count) * 100    "
   ]
  },
  {
   "cell_type": "code",
   "execution_count": 43,
   "id": "95406be2",
   "metadata": {},
   "outputs": [
    {
     "name": "stdout",
     "output_type": "stream",
     "text": [
      "Success rate of previous marketing campaigns among customers: 3.34210700935613 %\n"
     ]
    }
   ],
   "source": [
    "print(\"Success rate of previous marketing campaigns among customers:\", success_rate, \"%\")\n"
   ]
  }
 ],
 "metadata": {
  "kernelspec": {
   "display_name": "Python 3 (ipykernel)",
   "language": "python",
   "name": "python3"
  },
  "language_info": {
   "codemirror_mode": {
    "name": "ipython",
    "version": 3
   },
   "file_extension": ".py",
   "mimetype": "text/x-python",
   "name": "python",
   "nbconvert_exporter": "python",
   "pygments_lexer": "ipython3",
   "version": "3.11.5"
  }
 },
 "nbformat": 4,
 "nbformat_minor": 5
}
